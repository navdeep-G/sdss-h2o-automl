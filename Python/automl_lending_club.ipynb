{
 "cells": [
  {
   "cell_type": "markdown",
   "metadata": {},
   "source": [
    "# H2O AutoML Lending Club Demo\n",
    "\n",
    "This notebook walks through the machine learning pipeline for binary classification with H2O. We will use the Lending Club dataset, which includes loan data, to predict whether or not a borrower is likely to default.\n",
    "\n",
    "**Steps include:**\n",
    "\n",
    "Part I\n",
    "\n",
    "* Importing a dataset\n",
    "* Basic dataframe manipulations\n",
    "* Creating a target (response column)\n",
    "* Feature preprocessing & engineering\n",
    "* Splitting the data into training and validation sets\n",
    "* Building models (GLM & GBM)\n",
    "* Evaluating model performance\n",
    "\n",
    "[Part 2](#part2)\n",
    "* Running a grid search\n",
    "* Running [AutoML](#automl) (H2O's Automatic Machine Learning Algorithm)\n",
    "\n",
    "The dataset used in this tutorial is available for download on s3 [here](https://s3.amazonaws.com/h2o-training/workshops/ComputeFest/LoanStats3a.csv). The original dataset comes from the [Lending Club](https://www.lendingclub.com/info/download-data.action), a peer-to-peer lending platform. "
   ]
  },
  {
   "cell_type": "markdown",
   "metadata": {},
   "source": [
    "## Start an H2O Cluster"
   ]
  },
  {
   "cell_type": "code",
   "execution_count": 17,
   "metadata": {},
   "outputs": [
    {
     "name": "stdout",
     "output_type": "stream",
     "text": [
      "Checking whether there is an H2O instance running at http://localhost:54321. connected.\n"
     ]
    },
    {
     "data": {
      "text/html": [
       "<div style=\"overflow:auto\"><table style=\"width:50%\"><tr><td>H2O cluster uptime:</td>\n",
       "<td>2 mins 44 secs</td></tr>\n",
       "<tr><td>H2O cluster timezone:</td>\n",
       "<td>America/Los_Angeles</td></tr>\n",
       "<tr><td>H2O data parsing timezone:</td>\n",
       "<td>UTC</td></tr>\n",
       "<tr><td>H2O cluster version:</td>\n",
       "<td>3.18.0.9</td></tr>\n",
       "<tr><td>H2O cluster version age:</td>\n",
       "<td>2 days </td></tr>\n",
       "<tr><td>H2O cluster name:</td>\n",
       "<td>H2O_from_python_navdeepgill_6z2wg7</td></tr>\n",
       "<tr><td>H2O cluster total nodes:</td>\n",
       "<td>1</td></tr>\n",
       "<tr><td>H2O cluster free memory:</td>\n",
       "<td>3.432 Gb</td></tr>\n",
       "<tr><td>H2O cluster total cores:</td>\n",
       "<td>8</td></tr>\n",
       "<tr><td>H2O cluster allowed cores:</td>\n",
       "<td>8</td></tr>\n",
       "<tr><td>H2O cluster status:</td>\n",
       "<td>locked, healthy</td></tr>\n",
       "<tr><td>H2O connection url:</td>\n",
       "<td>http://localhost:54321</td></tr>\n",
       "<tr><td>H2O connection proxy:</td>\n",
       "<td>None</td></tr>\n",
       "<tr><td>H2O internal security:</td>\n",
       "<td>False</td></tr>\n",
       "<tr><td>H2O API Extensions:</td>\n",
       "<td>XGBoost, Algos, AutoML, Core V3, Core V4</td></tr>\n",
       "<tr><td>Python version:</td>\n",
       "<td>3.6.4 final</td></tr></table></div>"
      ],
      "text/plain": [
       "--------------------------  ----------------------------------------\n",
       "H2O cluster uptime:         2 mins 44 secs\n",
       "H2O cluster timezone:       America/Los_Angeles\n",
       "H2O data parsing timezone:  UTC\n",
       "H2O cluster version:        3.18.0.9\n",
       "H2O cluster version age:    2 days\n",
       "H2O cluster name:           H2O_from_python_navdeepgill_6z2wg7\n",
       "H2O cluster total nodes:    1\n",
       "H2O cluster free memory:    3.432 Gb\n",
       "H2O cluster total cores:    8\n",
       "H2O cluster allowed cores:  8\n",
       "H2O cluster status:         locked, healthy\n",
       "H2O connection url:         http://localhost:54321\n",
       "H2O connection proxy:\n",
       "H2O internal security:      False\n",
       "H2O API Extensions:         XGBoost, Algos, AutoML, Core V3, Core V4\n",
       "Python version:             3.6.4 final\n",
       "--------------------------  ----------------------------------------"
      ]
     },
     "metadata": {},
     "output_type": "display_data"
    }
   ],
   "source": [
    "%matplotlib inline\n",
    "import h2o\n",
    "h2o.init()"
   ]
  },
  {
   "cell_type": "markdown",
   "metadata": {},
   "source": [
    "## Import the Dataset"
   ]
  },
  {
   "cell_type": "code",
   "execution_count": 18,
   "metadata": {},
   "outputs": [
    {
     "name": "stdout",
     "output_type": "stream",
     "text": [
      "Parse progress: |█████████████████████████████████████████████████████████| 100%\n"
     ]
    }
   ],
   "source": [
    "destination_frame_name = 'loan_modeling_table.hex'\n",
    "loan_stats = h2o.import_file(path=\"../data/LoanStats3a.csv\", destination_frame=destination_frame_name)"
   ]
  },
  {
   "cell_type": "markdown",
   "metadata": {},
   "source": [
    "We can verify that this H2Oframe now exists in the Java backend"
   ]
  },
  {
   "cell_type": "code",
   "execution_count": 19,
   "metadata": {},
   "outputs": [
    {
     "data": {
      "text/html": [
       "<div>\n",
       "<style scoped>\n",
       "    .dataframe tbody tr th:only-of-type {\n",
       "        vertical-align: middle;\n",
       "    }\n",
       "\n",
       "    .dataframe tbody tr th {\n",
       "        vertical-align: top;\n",
       "    }\n",
       "\n",
       "    .dataframe thead th {\n",
       "        text-align: right;\n",
       "    }\n",
       "</style>\n",
       "<table border=\"1\" class=\"dataframe\">\n",
       "  <thead>\n",
       "    <tr style=\"text-align: right;\">\n",
       "      <th></th>\n",
       "      <th>key</th>\n",
       "    </tr>\n",
       "  </thead>\n",
       "  <tbody>\n",
       "    <tr>\n",
       "      <th>0</th>\n",
       "      <td>Key_Frame__upload_a10e5a4420373fdf60b9f59c51f7...</td>\n",
       "    </tr>\n",
       "    <tr>\n",
       "      <th>1</th>\n",
       "      <td>loan_modeling_table.hex</td>\n",
       "    </tr>\n",
       "    <tr>\n",
       "      <th>2</th>\n",
       "      <td>py_10_sid_8fbc</td>\n",
       "    </tr>\n",
       "    <tr>\n",
       "      <th>3</th>\n",
       "      <td>py_11_sid_8fbc</td>\n",
       "    </tr>\n",
       "    <tr>\n",
       "      <th>4</th>\n",
       "      <td>py_2_sid_8fbc</td>\n",
       "    </tr>\n",
       "    <tr>\n",
       "      <th>5</th>\n",
       "      <td>py_3_sid_8fbc</td>\n",
       "    </tr>\n",
       "    <tr>\n",
       "      <th>6</th>\n",
       "      <td>py_4_sid_8fbc</td>\n",
       "    </tr>\n",
       "    <tr>\n",
       "      <th>7</th>\n",
       "      <td>py_5_sid_8fbc</td>\n",
       "    </tr>\n",
       "    <tr>\n",
       "      <th>8</th>\n",
       "      <td>py_6_sid_8fbc</td>\n",
       "    </tr>\n",
       "    <tr>\n",
       "      <th>9</th>\n",
       "      <td>py_7_sid_8fbc</td>\n",
       "    </tr>\n",
       "    <tr>\n",
       "      <th>10</th>\n",
       "      <td>py_8_sid_8fbc</td>\n",
       "    </tr>\n",
       "    <tr>\n",
       "      <th>11</th>\n",
       "      <td>py_9_sid_8fbc</td>\n",
       "    </tr>\n",
       "  </tbody>\n",
       "</table>\n",
       "</div>"
      ],
      "text/plain": [
       "                                                  key\n",
       "0   Key_Frame__upload_a10e5a4420373fdf60b9f59c51f7...\n",
       "1                             loan_modeling_table.hex\n",
       "2                                      py_10_sid_8fbc\n",
       "3                                      py_11_sid_8fbc\n",
       "4                                       py_2_sid_8fbc\n",
       "5                                       py_3_sid_8fbc\n",
       "6                                       py_4_sid_8fbc\n",
       "7                                       py_5_sid_8fbc\n",
       "8                                       py_6_sid_8fbc\n",
       "9                                       py_7_sid_8fbc\n",
       "10                                      py_8_sid_8fbc\n",
       "11                                      py_9_sid_8fbc"
      ]
     },
     "execution_count": 19,
     "metadata": {},
     "output_type": "execute_result"
    }
   ],
   "source": [
    "h2o.ls()"
   ]
  },
  {
   "cell_type": "markdown",
   "metadata": {},
   "source": [
    "Get a summary of your dataset:"
   ]
  },
  {
   "cell_type": "code",
   "execution_count": 20,
   "metadata": {},
   "outputs": [
    {
     "name": "stdout",
     "output_type": "stream",
     "text": [
      "Rows:42538\n",
      "Cols:52\n",
      "\n",
      "\n"
     ]
    },
    {
     "data": {
      "text/html": [
       "<table>\n",
       "<thead>\n",
       "<tr><th>       </th><th>id                </th><th>member_id         </th><th>loan_amnt         </th><th>funded_amnt       </th><th>funded_amnt_inv   </th><th>term     </th><th>int_rate  </th><th>installment       </th><th>grade  </th><th>sub_grade  </th><th>emp_title                </th><th>emp_length  </th><th>home_ownership  </th><th>annual_inc       </th><th>verification_status     </th><th>issue_d            </th><th>loan_status  </th><th>pymnt_plan  </th><th>url                                                                 </th><th>desc                                                                                                                                                                                                                                                                                                                                                                                                                                                                                                                                                                                                        </th><th>purpose           </th><th>title                                </th><th>zip_code  </th><th>addr_state  </th><th>dti               </th><th>delinq_2yrs        </th><th>earliest_cr_line   </th><th>inq_last_6mths    </th><th>mths_since_last_delinq  </th><th>mths_since_last_record  </th><th>open_acc         </th><th>pub_rec            </th><th>revol_bal         </th><th>revol_util  </th><th>total_acc         </th><th>initial_list_status  </th><th>out_prncp         </th><th>out_prncp_inv     </th><th>total_pymnt       </th><th>total_pymnt_inv   </th><th>total_rec_prncp  </th><th>total_rec_int     </th><th>total_rec_late_fee  </th><th>recoveries       </th><th>collection_recovery_fee  </th><th>last_pymnt_d       </th><th>last_pymnt_amnt   </th><th>next_pymnt_d       </th><th>last_credit_pull_d  </th><th>collections_12_mths_ex_med  </th><th>mths_since_last_major_derog  </th><th>policy_code  </th></tr>\n",
       "</thead>\n",
       "<tbody>\n",
       "<tr><td>type   </td><td>int               </td><td>int               </td><td>int               </td><td>int               </td><td>real              </td><td>enum     </td><td>enum      </td><td>real              </td><td>enum   </td><td>enum       </td><td>enum                     </td><td>enum        </td><td>enum            </td><td>real             </td><td>enum                    </td><td>time               </td><td>enum         </td><td>enum        </td><td>string                                                              </td><td>enum                                                                                                                                                                                                                                                                                                                                                                                                                                                                                                                                                                                                        </td><td>enum              </td><td>enum                                 </td><td>enum      </td><td>enum        </td><td>real              </td><td>int                </td><td>time               </td><td>int               </td><td>enum                    </td><td>enum                    </td><td>int              </td><td>int                </td><td>int               </td><td>enum        </td><td>int               </td><td>enum                 </td><td>real              </td><td>real              </td><td>real              </td><td>real              </td><td>real             </td><td>real              </td><td>real                </td><td>real             </td><td>real                     </td><td>time               </td><td>real              </td><td>time               </td><td>time                </td><td>int                         </td><td>enum                         </td><td>int          </td></tr>\n",
       "<tr><td>mins   </td><td>54734.0           </td><td>70473.0           </td><td>500.0             </td><td>500.0             </td><td>0.0               </td><td>         </td><td>          </td><td>15.67             </td><td>       </td><td>           </td><td>                         </td><td>            </td><td>                </td><td>1896.0           </td><td>                        </td><td>1180656000000.0    </td><td>             </td><td>            </td><td>NaN                                                                 </td><td>                                                                                                                                                                                                                                                                                                                                                                                                                                                                                                                                                                                                            </td><td>                  </td><td>                                     </td><td>          </td><td>            </td><td>0.0               </td><td>0.0                </td><td>-757382400000.0    </td><td>0.0               </td><td>                        </td><td>                        </td><td>1.0              </td><td>0.0                </td><td>0.0               </td><td>            </td><td>1.0               </td><td>                     </td><td>0.0               </td><td>0.0               </td><td>0.0               </td><td>0.0               </td><td>0.0              </td><td>0.0               </td><td>0.0                 </td><td>0.0              </td><td>0.0                      </td><td>1196467200000.0    </td><td>0.0               </td><td>1196467200000.0    </td><td>1177977600000.0     </td><td>0.0                         </td><td>                             </td><td>1.0          </td></tr>\n",
       "<tr><td>mean   </td><td>664579.8523098624 </td><td>825702.5511696247 </td><td>11089.722581403548</td><td>10821.585752909366</td><td>10139.830601160369</td><td>         </td><td>          </td><td>322.6256186669802 </td><td>       </td><td>           </td><td>                         </td><td>            </td><td>                </td><td>69136.55642025816</td><td>                        </td><td>1285641609930.6453 </td><td>             </td><td>            </td><td>NaN                                                                 </td><td>                                                                                                                                                                                                                                                                                                                                                                                                                                                                                                                                                                                                            </td><td>                  </td><td>                                     </td><td>          </td><td>            </td><td>13.373043140942753</td><td>0.15244906601420974</td><td>854295612817.0144  </td><td>1.0814237989930833</td><td>                        </td><td>                        </td><td>9.343951442149342</td><td>0.05815649555356891</td><td>14297.860914540966</td><td>            </td><td>22.124405966216536</td><td>                     </td><td>329.41112354531566</td><td>327.08996544022585</td><td>11651.753137029318</td><td>10948.580165745856</td><td>9368.080581873754</td><td>2209.0491120253905</td><td>1.4587326863798291  </td><td>73.16471900701595</td><td>9.076818272012224        </td><td>1360320371318.1946 </td><td>2552.6072568473023</td><td>1381323445229.3428 </td><td>1385971917105.1707  </td><td>0.0                         </td><td>                             </td><td>1.0          </td></tr>\n",
       "<tr><td>maxs   </td><td>1077501.0         </td><td>1314167.0         </td><td>35000.0           </td><td>35000.0           </td><td>35000.0           </td><td>         </td><td>          </td><td>1305.19           </td><td>       </td><td>           </td><td>                         </td><td>            </td><td>                </td><td>6000000.0        </td><td>                        </td><td>1322697600000.0    </td><td>             </td><td>            </td><td>NaN                                                                 </td><td>                                                                                                                                                                                                                                                                                                                                                                                                                                                                                                                                                                                                            </td><td>                  </td><td>                                     </td><td>          </td><td>            </td><td>29.99             </td><td>13.0               </td><td>1225497600000.0    </td><td>33.0              </td><td>                        </td><td>                        </td><td>47.0             </td><td>5.0                </td><td>1207359.0         </td><td>            </td><td>90.0              </td><td>                     </td><td>17749.51          </td><td>17749.51          </td><td>56809.05162878322 </td><td>56475.05          </td><td>35000.03         </td><td>21809.05          </td><td>208.819529958391    </td><td>29623.35         </td><td>7002.19                  </td><td>1433116800000.0    </td><td>36115.2           </td><td>1438387200000.0    </td><td>1435708800000.0     </td><td>0.0                         </td><td>                             </td><td>1.0          </td></tr>\n",
       "<tr><td>sigma  </td><td>219302.21931883864</td><td>279540.90563504875</td><td>7410.938390546603 </td><td>7146.914675006228 </td><td>7131.686448676308 </td><td>         </td><td>          </td><td>208.92806900008023</td><td>       </td><td>           </td><td>                         </td><td>            </td><td>                </td><td>64096.34971887445</td><td>                        </td><td>31759283733.073757 </td><td>             </td><td>            </td><td>NaN                                                                 </td><td>                                                                                                                                                                                                                                                                                                                                                                                                                                                                                                                                                                                                            </td><td>                  </td><td>                                     </td><td>          </td><td>            </td><td>6.726314901729999 </td><td>0.5124064850165572 </td><td>216068688522.3565  </td><td>1.5274548353027584</td><td>                        </td><td>                        </td><td>4.496273875691112</td><td>0.24571314065050043</td><td>22018.44100968324 </td><td>            </td><td>11.592811337332776</td><td>                     </td><td>1417.545686132105 </td><td>1409.613733492644 </td><td>8555.46989933326  </td><td>8486.980394028196 </td><td>6777.119818605451</td><td>2502.528240924457 </td><td>7.572756175925983   </td><td>612.260185350403 </td><td>149.08682302572694       </td><td>47801906399.73409  </td><td>4380.384766172414 </td><td>69074077358.5791   </td><td>49253773579.29899   </td><td>0.0                         </td><td>                             </td><td>0.0          </td></tr>\n",
       "<tr><td>zeros  </td><td>0                 </td><td>0                 </td><td>0                 </td><td>0                 </td><td>233               </td><td>         </td><td>          </td><td>0                 </td><td>       </td><td>           </td><td>                         </td><td>            </td><td>                </td><td>0                </td><td>                        </td><td>0                  </td><td>             </td><td>            </td><td>0                                                                   </td><td>                                                                                                                                                                                                                                                                                                                                                                                                                                                                                                                                                                                                            </td><td>                  </td><td>                                     </td><td>          </td><td>            </td><td>206               </td><td>37771              </td><td>4                  </td><td>19657             </td><td>                        </td><td>                        </td><td>0                </td><td>40130              </td><td>1119              </td><td>            </td><td>0                 </td><td>                     </td><td>38972             </td><td>38972             </td><td>26                </td><td>304               </td><td>86               </td><td>83                </td><td>40214               </td><td>38357            </td><td>39033                    </td><td>0                  </td><td>95                </td><td>0                  </td><td>0                   </td><td>42390                       </td><td>                             </td><td>0            </td></tr>\n",
       "<tr><td>missing</td><td>3                 </td><td>3                 </td><td>3                 </td><td>3                 </td><td>3                 </td><td>3        </td><td>3         </td><td>3                 </td><td>3      </td><td>3          </td><td>3                        </td><td>3           </td><td>3               </td><td>7                </td><td>3                       </td><td>3                  </td><td>3            </td><td>3           </td><td>3                                                                   </td><td>3                                                                                                                                                                                                                                                                                                                                                                                                                                                                                                                                                                                                           </td><td>3                 </td><td>3                                    </td><td>3         </td><td>3           </td><td>3                 </td><td>32                 </td><td>32                 </td><td>32                </td><td>3                       </td><td>3                       </td><td>32               </td><td>32                 </td><td>3                 </td><td>3           </td><td>32                </td><td>3                    </td><td>3                 </td><td>3                 </td><td>3                 </td><td>3                 </td><td>3                </td><td>3                 </td><td>3                   </td><td>3                </td><td>3                        </td><td>86                 </td><td>3                 </td><td>36281              </td><td>7                   </td><td>148                         </td><td>3                            </td><td>3            </td></tr>\n",
       "<tr><td>0      </td><td>1077501.0         </td><td>1296599.0         </td><td>5000.0            </td><td>5000.0            </td><td>4975.0            </td><td>36 months</td><td>10.65%    </td><td>162.87            </td><td>B      </td><td>B2         </td><td>                         </td><td>10+ years   </td><td>RENT            </td><td>24000.0          </td><td>VERIFIED - income       </td><td>2011-12-01 00:00:00</td><td>Fully Paid   </td><td>n           </td><td>https://www.lendingclub.com/browse/loanDetail.action?loan_id=1077501</td><td>Borrower added on 12/22/11 > I need to upgrade my business technologies.<br>                                                                                                                                                                                                                                                                                                                                                                                                                                                                                                                                </td><td>credit_card       </td><td>Computer                             </td><td>860xx     </td><td>AZ          </td><td>27.65             </td><td>0.0                </td><td>1985-01-01 00:00:00</td><td>1.0               </td><td>                        </td><td>                        </td><td>3.0              </td><td>0.0                </td><td>13648.0           </td><td>83.7%       </td><td>9.0               </td><td>f                    </td><td>0.0               </td><td>0.0               </td><td>5861.071414249    </td><td>5831.78           </td><td>5000.0           </td><td>861.07            </td><td>0.0                 </td><td>0.0              </td><td>0.0                      </td><td>2015-01-01 00:00:00</td><td>171.62            </td><td>                   </td><td>2015-01-01 00:00:00 </td><td>0.0                         </td><td>                             </td><td>1.0          </td></tr>\n",
       "<tr><td>1      </td><td>1077430.0         </td><td>1314167.0         </td><td>2500.0            </td><td>2500.0            </td><td>2500.0            </td><td>60 months</td><td>15.27%    </td><td>59.83             </td><td>C      </td><td>C4         </td><td>Ryder                    </td><td>< 1 year    </td><td>RENT            </td><td>30000.0          </td><td>VERIFIED - income source</td><td>2011-12-01 00:00:00</td><td>Charged Off  </td><td>n           </td><td>https://www.lendingclub.com/browse/loanDetail.action?loan_id=1077430</td><td>Borrower added on 12/22/11 > I plan to use this money to finance the motorcycle i am looking at. I plan to have it paid off as soon as possible/when i sell my old bike. I only need this money because the deal im looking at is to good to pass up.<br><br>  Borrower added on 12/22/11 > I plan to use this money to finance the motorcycle i am looking at. I plan to have it paid off as soon as possible/when i sell my old bike.I only need this money because the deal im looking at is to good to pass up. I have finished college with an associates degree in business and its takingmeplaces<br></td><td>car               </td><td>bike                                 </td><td>309xx     </td><td>GA          </td><td>1.0               </td><td>0.0                </td><td>1999-04-01 00:00:00</td><td>5.0               </td><td>                        </td><td>                        </td><td>3.0              </td><td>0.0                </td><td>1687.0            </td><td>9.4%        </td><td>4.0               </td><td>f                    </td><td>0.0               </td><td>0.0               </td><td>1008.71           </td><td>1008.71           </td><td>456.46           </td><td>435.17            </td><td>0.0                 </td><td>117.08           </td><td>1.11                     </td><td>2013-04-01 00:00:00</td><td>119.66            </td><td>                   </td><td>2013-09-01 00:00:00 </td><td>0.0                         </td><td>                             </td><td>1.0          </td></tr>\n",
       "<tr><td>2      </td><td>1077175.0         </td><td>1313524.0         </td><td>2400.0            </td><td>2400.0            </td><td>2400.0            </td><td>36 months</td><td>15.96%    </td><td>84.33             </td><td>C      </td><td>C5         </td><td>                         </td><td>10+ years   </td><td>RENT            </td><td>12252.0          </td><td>not verified            </td><td>2011-12-01 00:00:00</td><td>Fully Paid   </td><td>n           </td><td>https://www.lendingclub.com/browse/loanDetail.action?loan_id=1077175</td><td>                                                                                                                                                                                                                                                                                                                                                                                                                                                                                                                                                                                                            </td><td>small_business    </td><td>real estate business                 </td><td>606xx     </td><td>IL          </td><td>8.72              </td><td>0.0                </td><td>2001-11-01 00:00:00</td><td>2.0               </td><td>                        </td><td>                        </td><td>2.0              </td><td>0.0                </td><td>2956.0            </td><td>98.5%       </td><td>10.0              </td><td>f                    </td><td>0.0               </td><td>0.0               </td><td>3003.6536444505   </td><td>3003.65           </td><td>2400.0           </td><td>603.65            </td><td>0.0                 </td><td>0.0              </td><td>0.0                      </td><td>2014-06-01 00:00:00</td><td>649.91            </td><td>                   </td><td>2015-06-01 00:00:00 </td><td>0.0                         </td><td>                             </td><td>1.0          </td></tr>\n",
       "<tr><td>3      </td><td>1076863.0         </td><td>1277178.0         </td><td>10000.0           </td><td>10000.0           </td><td>10000.0           </td><td>36 months</td><td>13.49%    </td><td>339.31            </td><td>C      </td><td>C1         </td><td>AIR RESOURCES BOARD      </td><td>10+ years   </td><td>RENT            </td><td>49200.0          </td><td>VERIFIED - income source</td><td>2011-12-01 00:00:00</td><td>Fully Paid   </td><td>n           </td><td>https://www.lendingclub.com/browse/loanDetail.action?loan_id=1076863</td><td>Borrower added on 12/21/11 > to pay for property tax (borrow from friend, need to pay back) & central A/C need to be replace. I'm very sorry to let my loan expired last time.<br>                                                                                                                                                                                                                                                                                                                                                                                                                          </td><td>other             </td><td>personel                             </td><td>917xx     </td><td>CA          </td><td>20.0              </td><td>0.0                </td><td>1996-02-01 00:00:00</td><td>1.0               </td><td>35                      </td><td>                        </td><td>10.0             </td><td>0.0                </td><td>5598.0            </td><td>21%         </td><td>37.0              </td><td>f                    </td><td>0.0               </td><td>0.0               </td><td>12226.3022123092  </td><td>12226.3           </td><td>10000.0          </td><td>2209.33           </td><td>16.97               </td><td>0.0              </td><td>0.0                      </td><td>2015-01-01 00:00:00</td><td>357.48            </td><td>                   </td><td>2015-01-01 00:00:00 </td><td>0.0                         </td><td>                             </td><td>1.0          </td></tr>\n",
       "<tr><td>4      </td><td>1075358.0         </td><td>1311748.0         </td><td>3000.0            </td><td>3000.0            </td><td>3000.0            </td><td>60 months</td><td>12.69%    </td><td>67.79             </td><td>B      </td><td>B5         </td><td>University Medical Group </td><td>1 year      </td><td>RENT            </td><td>80000.0          </td><td>VERIFIED - income source</td><td>2011-12-01 00:00:00</td><td>Current      </td><td>n           </td><td>https://www.lendingclub.com/browse/loanDetail.action?loan_id=1075358</td><td>Borrower added on 12/21/11 > I plan on combining three large interest bills together and freeing up some extra each month to pay toward other bills.  I've always been a good payor but have found myself needing to make adjustments to my budget due to a medical scare. My job is very stable, I love it.<br>                                                                                                                                                                                                                                                                                            </td><td>other             </td><td>Personal                             </td><td>972xx     </td><td>OR          </td><td>17.94             </td><td>0.0                </td><td>1996-01-01 00:00:00</td><td>0.0               </td><td>38                      </td><td>                        </td><td>15.0             </td><td>0.0                </td><td>27783.0           </td><td>53.9%       </td><td>38.0              </td><td>f                    </td><td>1168.04           </td><td>1168.04           </td><td>2767.64           </td><td>2767.64           </td><td>1831.96          </td><td>935.68            </td><td>0.0                 </td><td>0.0              </td><td>0.0                      </td><td>2015-06-01 00:00:00</td><td>67.79             </td><td>2015-07-01 00:00:00</td><td>2015-06-01 00:00:00 </td><td>0.0                         </td><td>                             </td><td>1.0          </td></tr>\n",
       "<tr><td>5      </td><td>1075269.0         </td><td>1311441.0         </td><td>5000.0            </td><td>5000.0            </td><td>5000.0            </td><td>36 months</td><td>7.90%     </td><td>156.46            </td><td>A      </td><td>A4         </td><td>Veolia Transportaton     </td><td>3 years     </td><td>RENT            </td><td>36000.0          </td><td>VERIFIED - income source</td><td>2011-12-01 00:00:00</td><td>Fully Paid   </td><td>n           </td><td>https://www.lendingclub.com/browse/loanDetail.action?loan_id=1075269</td><td>                                                                                                                                                                                                                                                                                                                                                                                                                                                                                                                                                                                                            </td><td>wedding           </td><td>My wedding loan I promise to pay back</td><td>852xx     </td><td>AZ          </td><td>11.2              </td><td>0.0                </td><td>2004-11-01 00:00:00</td><td>3.0               </td><td>                        </td><td>                        </td><td>9.0              </td><td>0.0                </td><td>7963.0            </td><td>28.3%       </td><td>12.0              </td><td>f                    </td><td>0.0               </td><td>0.0               </td><td>5631.377753182701 </td><td>5631.38           </td><td>5000.0           </td><td>631.38            </td><td>0.0                 </td><td>0.0              </td><td>0.0                      </td><td>2015-01-01 00:00:00</td><td>161.03            </td><td>                   </td><td>2015-06-01 00:00:00 </td><td>0.0                         </td><td>                             </td><td>1.0          </td></tr>\n",
       "<tr><td>6      </td><td>1069639.0         </td><td>1304742.0         </td><td>7000.0            </td><td>7000.0            </td><td>7000.0            </td><td>60 months</td><td>15.96%    </td><td>170.08            </td><td>C      </td><td>C5         </td><td>Southern Star Photography</td><td>8 years     </td><td>RENT            </td><td>47004.0          </td><td>not verified            </td><td>2011-12-01 00:00:00</td><td>Current      </td><td>n           </td><td>https://www.lendingclub.com/browse/loanDetail.action?loan_id=1069639</td><td>Borrower added on 12/18/11 > I am planning on using the funds to pay off two retail credit cards with 24.99% interest rates, as well as a major bank credit card with a 18.99% rate.  I pay all my bills on time, looking for a lower combined payment and lower monthly payment.<br>                                                                                                                                                                                                                                                                                                                       </td><td>debt_consolidation</td><td>Loan                                 </td><td>280xx     </td><td>NC          </td><td>23.51             </td><td>0.0                </td><td>2005-07-01 00:00:00</td><td>1.0               </td><td>                        </td><td>                        </td><td>7.0              </td><td>0.0                </td><td>17726.0           </td><td>85.6%       </td><td>11.0              </td><td>f                    </td><td>2853.21           </td><td>2853.21           </td><td>6946.280000000006 </td><td>6946.28           </td><td>4146.8           </td><td>2799.48           </td><td>0.0                 </td><td>0.0              </td><td>0.0                      </td><td>2015-06-01 00:00:00</td><td>170.08            </td><td>2015-08-01 00:00:00</td><td>2015-06-01 00:00:00 </td><td>0.0                         </td><td>                             </td><td>1.0          </td></tr>\n",
       "<tr><td>7      </td><td>1072053.0         </td><td>1288686.0         </td><td>3000.0            </td><td>3000.0            </td><td>3000.0            </td><td>36 months</td><td>18.64%    </td><td>109.43            </td><td>E      </td><td>E1         </td><td>MKC Accounting           </td><td>9 years     </td><td>RENT            </td><td>48000.0          </td><td>VERIFIED - income source</td><td>2011-12-01 00:00:00</td><td>Fully Paid   </td><td>n           </td><td>https://www.lendingclub.com/browse/loanDetail.action?loan_id=1072053</td><td>Borrower added on 12/16/11 > Downpayment for a car.<br>                                                                                                                                                                                                                                                                                                                                                                                                                                                                                                                                                     </td><td>car               </td><td>Car Downpayment                      </td><td>900xx     </td><td>CA          </td><td>5.35              </td><td>0.0                </td><td>2007-01-01 00:00:00</td><td>2.0               </td><td>                        </td><td>                        </td><td>4.0              </td><td>0.0                </td><td>8221.0            </td><td>87.5%       </td><td>4.0               </td><td>f                    </td><td>0.0               </td><td>0.0               </td><td>3938.144333755098 </td><td>3938.14           </td><td>3000.0           </td><td>938.14            </td><td>0.0                 </td><td>0.0              </td><td>0.0                      </td><td>2015-01-01 00:00:00</td><td>111.34            </td><td>                   </td><td>2014-12-01 00:00:00 </td><td>0.0                         </td><td>                             </td><td>1.0          </td></tr>\n",
       "<tr><td>8      </td><td>1071795.0         </td><td>1306957.0         </td><td>5600.0            </td><td>5600.0            </td><td>5600.0            </td><td>60 months</td><td>21.28%    </td><td>152.39            </td><td>F      </td><td>F2         </td><td>                         </td><td>4 years     </td><td>OWN             </td><td>40000.0          </td><td>VERIFIED - income source</td><td>2011-12-01 00:00:00</td><td>Charged Off  </td><td>n           </td><td>https://www.lendingclub.com/browse/loanDetail.action?loan_id=1071795</td><td>Borrower added on 12/21/11 > I own a small home-based judgment collection business. I have 5 years experience collecting debts. I am now going from a home office to a small office. I also plan to buy a small debt portfolio (eg. $10K for $1M of debt) <br>My score is not A+ because I own my home and have no mortgage.<br>                                                                                                                                                                                                                                                                            </td><td>small_business    </td><td>Expand Business & Buy Debt Portfolio </td><td>958xx     </td><td>CA          </td><td>5.55              </td><td>0.0                </td><td>2004-04-01 00:00:00</td><td>2.0               </td><td>                        </td><td>                        </td><td>11.0             </td><td>0.0                </td><td>5210.0            </td><td>32.6%       </td><td>13.0              </td><td>f                    </td><td>0.0               </td><td>0.0               </td><td>646.02            </td><td>646.02            </td><td>162.02           </td><td>294.94            </td><td>0.0                 </td><td>189.06           </td><td>2.09                     </td><td>2012-04-01 00:00:00</td><td>152.39            </td><td>                   </td><td>2012-08-01 00:00:00 </td><td>0.0                         </td><td>                             </td><td>1.0          </td></tr>\n",
       "<tr><td>9      </td><td>1071570.0         </td><td>1306721.0         </td><td>5375.0            </td><td>5375.0            </td><td>5350.0            </td><td>60 months</td><td>12.69%    </td><td>121.45            </td><td>B      </td><td>B5         </td><td>Starbucks                </td><td>< 1 year    </td><td>RENT            </td><td>15000.0          </td><td>VERIFIED - income       </td><td>2011-12-01 00:00:00</td><td>Charged Off  </td><td>n           </td><td>https://www.lendingclub.com/browse/loanDetail.action?loan_id=1071570</td><td>Borrower added on 12/16/11 > I'm trying to build up my credit history. I live with my brother and have no car payment or credit cards. I am in community college and work full time. Im going to use the money to make some repairs around the house and get some maintenance done on my car.<br><br>  Borrower added on 12/20/11 > $1000 down only $4375 to go. Thanks to everyone that invested so far, looking forward to surprising my brother with the fixes around the house.<br>                                                                                                                     </td><td>other             </td><td>Building my credit history.          </td><td>774xx     </td><td>TX          </td><td>18.08             </td><td>0.0                </td><td>2004-09-01 00:00:00</td><td>0.0               </td><td>                        </td><td>                        </td><td>2.0              </td><td>0.0                </td><td>9279.0            </td><td>36.5%       </td><td>3.0               </td><td>f                    </td><td>0.0               </td><td>0.0               </td><td>1476.19           </td><td>1469.34           </td><td>673.48           </td><td>533.42            </td><td>0.0                 </td><td>269.29           </td><td>2.52                     </td><td>2012-11-01 00:00:00</td><td>121.45            </td><td>                   </td><td>2013-03-01 00:00:00 </td><td>0.0                         </td><td>                             </td><td>1.0          </td></tr>\n",
       "</tbody>\n",
       "</table>"
      ]
     },
     "metadata": {},
     "output_type": "display_data"
    }
   ],
   "source": [
    "loan_stats.describe()"
   ]
  },
  {
   "cell_type": "markdown",
   "metadata": {},
   "source": [
    "## Overview of H2OFrame Manipulation\n",
    "\n",
    "H2O's Python API is designed to imitate native python conventions and whenever possible use the same naming conventions Python and Pandas users would expect. \n",
    "\n",
    "In this section we will cover the following basic H2O frame manipulations:\n",
    "\n",
    "* selecting/subsetting columns\n",
    "* selecting/subsetting rows\n",
    "* combining columns\n",
    "* converting between an H2O and Pandas dataframe\n",
    "\n",
    "More documentation on munging can be found [here](http://docs.h2o.ai/h2o/latest-stable/h2o-docs/data-munging.html#)."
   ]
  },
  {
   "cell_type": "markdown",
   "metadata": {},
   "source": [
    "#### Subsetting & Selecting\n",
    "\n",
    "Here we cover how to select individual columns and rows or subsets the data based on a combination of columns and rows."
   ]
  },
  {
   "cell_type": "code",
   "execution_count": 21,
   "metadata": {},
   "outputs": [
    {
     "data": {
      "text/html": [
       "<table>\n",
       "<thead>\n",
       "<tr><th>term     </th></tr>\n",
       "</thead>\n",
       "<tbody>\n",
       "<tr><td>36 months</td></tr>\n",
       "<tr><td>60 months</td></tr>\n",
       "<tr><td>36 months</td></tr>\n",
       "<tr><td>36 months</td></tr>\n",
       "<tr><td>60 months</td></tr>\n",
       "<tr><td>36 months</td></tr>\n",
       "<tr><td>60 months</td></tr>\n",
       "<tr><td>36 months</td></tr>\n",
       "<tr><td>60 months</td></tr>\n",
       "<tr><td>60 months</td></tr>\n",
       "</tbody>\n",
       "</table>"
      ]
     },
     "metadata": {},
     "output_type": "display_data"
    },
    {
     "data": {
      "text/plain": []
     },
     "execution_count": 21,
     "metadata": {},
     "output_type": "execute_result"
    }
   ],
   "source": [
    "# select a column by name (where the column name is `term`)\n",
    "loan_stats[:, 'term'] # equivalent to train['term']"
   ]
  },
  {
   "cell_type": "code",
   "execution_count": 22,
   "metadata": {},
   "outputs": [
    {
     "data": {
      "text/html": [
       "<table>\n",
       "<thead>\n",
       "<tr><th>term     </th></tr>\n",
       "</thead>\n",
       "<tbody>\n",
       "<tr><td>36 months</td></tr>\n",
       "<tr><td>60 months</td></tr>\n",
       "<tr><td>36 months</td></tr>\n",
       "<tr><td>36 months</td></tr>\n",
       "<tr><td>60 months</td></tr>\n",
       "<tr><td>36 months</td></tr>\n",
       "<tr><td>60 months</td></tr>\n",
       "<tr><td>36 months</td></tr>\n",
       "<tr><td>60 months</td></tr>\n",
       "<tr><td>60 months</td></tr>\n",
       "</tbody>\n",
       "</table>"
      ]
     },
     "metadata": {},
     "output_type": "display_data"
    },
    {
     "data": {
      "text/plain": []
     },
     "execution_count": 22,
     "metadata": {},
     "output_type": "execute_result"
    }
   ],
   "source": [
    "# select a column by index \n",
    "loan_stats[:,5] # equivalent to loan_stats[5]"
   ]
  },
  {
   "cell_type": "code",
   "execution_count": 23,
   "metadata": {},
   "outputs": [
    {
     "data": {
      "text/html": [
       "<table>\n",
       "<thead>\n",
       "<tr><th style=\"text-align: right;\">         id</th><th style=\"text-align: right;\">  loan_amnt</th><th>term     </th></tr>\n",
       "</thead>\n",
       "<tbody>\n",
       "<tr><td style=\"text-align: right;\">1.0775e+06 </td><td style=\"text-align: right;\">       5000</td><td>36 months</td></tr>\n",
       "<tr><td style=\"text-align: right;\">1.07743e+06</td><td style=\"text-align: right;\">       2500</td><td>60 months</td></tr>\n",
       "<tr><td style=\"text-align: right;\">1.07718e+06</td><td style=\"text-align: right;\">       2400</td><td>36 months</td></tr>\n",
       "<tr><td style=\"text-align: right;\">1.07686e+06</td><td style=\"text-align: right;\">      10000</td><td>36 months</td></tr>\n",
       "<tr><td style=\"text-align: right;\">1.07536e+06</td><td style=\"text-align: right;\">       3000</td><td>60 months</td></tr>\n",
       "<tr><td style=\"text-align: right;\">1.07527e+06</td><td style=\"text-align: right;\">       5000</td><td>36 months</td></tr>\n",
       "<tr><td style=\"text-align: right;\">1.06964e+06</td><td style=\"text-align: right;\">       7000</td><td>60 months</td></tr>\n",
       "<tr><td style=\"text-align: right;\">1.07205e+06</td><td style=\"text-align: right;\">       3000</td><td>36 months</td></tr>\n",
       "<tr><td style=\"text-align: right;\">1.0718e+06 </td><td style=\"text-align: right;\">       5600</td><td>60 months</td></tr>\n",
       "<tr><td style=\"text-align: right;\">1.07157e+06</td><td style=\"text-align: right;\">       5375</td><td>60 months</td></tr>\n",
       "</tbody>\n",
       "</table>"
      ]
     },
     "metadata": {},
     "output_type": "display_data"
    },
    {
     "data": {
      "text/plain": []
     },
     "execution_count": 23,
     "metadata": {},
     "output_type": "execute_result"
    }
   ],
   "source": [
    "# select a few columns by name \n",
    "loan_stats[:,['id', 'loan_amnt', 'term']] # equivalent to loan_stats[['id', 'loan_amnt', 'term']]"
   ]
  },
  {
   "cell_type": "code",
   "execution_count": 24,
   "metadata": {},
   "outputs": [
    {
     "data": {
      "text/html": [
       "<table>\n",
       "<thead>\n",
       "<tr><th style=\"text-align: right;\">         id</th><th style=\"text-align: right;\">  member_id</th><th style=\"text-align: right;\">  loan_amnt</th><th style=\"text-align: right;\">  funded_amnt</th><th style=\"text-align: right;\">  funded_amnt_inv</th><th>term     </th><th>int_rate  </th><th style=\"text-align: right;\">  installment</th><th>grade  </th><th>sub_grade  </th><th>emp_title  </th><th>emp_length  </th><th>home_ownership  </th><th style=\"text-align: right;\">  annual_inc</th><th>verification_status  </th><th>issue_d            </th><th>loan_status  </th><th>pymnt_plan  </th><th>url                                                                 </th><th>desc  </th><th>purpose       </th><th>title               </th><th>zip_code  </th><th>addr_state  </th><th style=\"text-align: right;\">  dti</th><th style=\"text-align: right;\">  delinq_2yrs</th><th>earliest_cr_line   </th><th style=\"text-align: right;\">  inq_last_6mths</th><th>mths_since_last_delinq  </th><th>mths_since_last_record  </th><th style=\"text-align: right;\">  open_acc</th><th style=\"text-align: right;\">  pub_rec</th><th style=\"text-align: right;\">  revol_bal</th><th>revol_util  </th><th style=\"text-align: right;\">  total_acc</th><th>initial_list_status  </th><th style=\"text-align: right;\">  out_prncp</th><th style=\"text-align: right;\">  out_prncp_inv</th><th style=\"text-align: right;\">  total_pymnt</th><th style=\"text-align: right;\">  total_pymnt_inv</th><th style=\"text-align: right;\">  total_rec_prncp</th><th style=\"text-align: right;\">  total_rec_int</th><th style=\"text-align: right;\">  total_rec_late_fee</th><th style=\"text-align: right;\">  recoveries</th><th style=\"text-align: right;\">  collection_recovery_fee</th><th>last_pymnt_d       </th><th style=\"text-align: right;\">  last_pymnt_amnt</th><th>next_pymnt_d  </th><th>last_credit_pull_d  </th><th style=\"text-align: right;\">  collections_12_mths_ex_med</th><th>mths_since_last_major_derog  </th><th style=\"text-align: right;\">  policy_code</th></tr>\n",
       "</thead>\n",
       "<tbody>\n",
       "<tr><td style=\"text-align: right;\">1.07718e+06</td><td style=\"text-align: right;\">1.31352e+06</td><td style=\"text-align: right;\">       2400</td><td style=\"text-align: right;\">         2400</td><td style=\"text-align: right;\">             2400</td><td>36 months</td><td>15.96%    </td><td style=\"text-align: right;\">        84.33</td><td>C      </td><td>C5         </td><td>           </td><td>10+ years   </td><td>RENT            </td><td style=\"text-align: right;\">       12252</td><td>not verified         </td><td>2011-12-01 00:00:00</td><td>Fully Paid   </td><td>n           </td><td>https://www.lendingclub.com/browse/loanDetail.action?loan_id=1077175</td><td>      </td><td>small_business</td><td>real estate business</td><td>606xx     </td><td>IL          </td><td style=\"text-align: right;\"> 8.72</td><td style=\"text-align: right;\">            0</td><td>2001-11-01 00:00:00</td><td style=\"text-align: right;\">               2</td><td>                        </td><td>                        </td><td style=\"text-align: right;\">         2</td><td style=\"text-align: right;\">        0</td><td style=\"text-align: right;\">       2956</td><td>98.5%       </td><td style=\"text-align: right;\">         10</td><td>f                    </td><td style=\"text-align: right;\">          0</td><td style=\"text-align: right;\">              0</td><td style=\"text-align: right;\">      3003.65</td><td style=\"text-align: right;\">          3003.65</td><td style=\"text-align: right;\">             2400</td><td style=\"text-align: right;\">         603.65</td><td style=\"text-align: right;\">                   0</td><td style=\"text-align: right;\">           0</td><td style=\"text-align: right;\">                        0</td><td>2014-06-01 00:00:00</td><td style=\"text-align: right;\">           649.91</td><td>              </td><td>2015-06-01 00:00:00 </td><td style=\"text-align: right;\">                           0</td><td>                             </td><td style=\"text-align: right;\">            1</td></tr>\n",
       "</tbody>\n",
       "</table>"
      ]
     },
     "metadata": {},
     "output_type": "display_data"
    },
    {
     "data": {
      "text/plain": []
     },
     "execution_count": 24,
     "metadata": {},
     "output_type": "execute_result"
    }
   ],
   "source": [
    "# select rows by index\n",
    "loan_stats[2,:]"
   ]
  },
  {
   "cell_type": "code",
   "execution_count": 25,
   "metadata": {},
   "outputs": [
    {
     "data": {
      "text/html": [
       "<table>\n",
       "<thead>\n",
       "<tr><th style=\"text-align: right;\">         id</th><th style=\"text-align: right;\">  member_id</th><th style=\"text-align: right;\">  loan_amnt</th><th style=\"text-align: right;\">  funded_amnt</th><th style=\"text-align: right;\">  funded_amnt_inv</th><th>term     </th><th>int_rate  </th><th style=\"text-align: right;\">  installment</th><th>grade  </th><th>sub_grade  </th><th>emp_title               </th><th>emp_length  </th><th>home_ownership  </th><th style=\"text-align: right;\">  annual_inc</th><th>verification_status     </th><th>issue_d            </th><th>loan_status  </th><th>pymnt_plan  </th><th>url                                                                 </th><th>desc                                                                                                                                                                                                                                                                                                            </th><th>purpose       </th><th>title               </th><th>zip_code  </th><th>addr_state  </th><th style=\"text-align: right;\">  dti</th><th style=\"text-align: right;\">  delinq_2yrs</th><th>earliest_cr_line   </th><th style=\"text-align: right;\">  inq_last_6mths</th><th>mths_since_last_delinq  </th><th>mths_since_last_record  </th><th style=\"text-align: right;\">  open_acc</th><th style=\"text-align: right;\">  pub_rec</th><th style=\"text-align: right;\">  revol_bal</th><th>revol_util  </th><th style=\"text-align: right;\">  total_acc</th><th>initial_list_status  </th><th style=\"text-align: right;\">  out_prncp</th><th style=\"text-align: right;\">  out_prncp_inv</th><th style=\"text-align: right;\">  total_pymnt</th><th style=\"text-align: right;\">  total_pymnt_inv</th><th style=\"text-align: right;\">  total_rec_prncp</th><th style=\"text-align: right;\">  total_rec_int</th><th style=\"text-align: right;\">  total_rec_late_fee</th><th style=\"text-align: right;\">  recoveries</th><th style=\"text-align: right;\">  collection_recovery_fee</th><th>last_pymnt_d       </th><th style=\"text-align: right;\">  last_pymnt_amnt</th><th>next_pymnt_d       </th><th>last_credit_pull_d  </th><th style=\"text-align: right;\">  collections_12_mths_ex_med</th><th>mths_since_last_major_derog  </th><th style=\"text-align: right;\">  policy_code</th></tr>\n",
       "</thead>\n",
       "<tbody>\n",
       "<tr><td style=\"text-align: right;\">1.07718e+06</td><td style=\"text-align: right;\">1.31352e+06</td><td style=\"text-align: right;\">       2400</td><td style=\"text-align: right;\">         2400</td><td style=\"text-align: right;\">             2400</td><td>36 months</td><td>15.96%    </td><td style=\"text-align: right;\">        84.33</td><td>C      </td><td>C5         </td><td>                        </td><td>10+ years   </td><td>RENT            </td><td style=\"text-align: right;\">       12252</td><td>not verified            </td><td>2011-12-01 00:00:00</td><td>Fully Paid   </td><td>n           </td><td>https://www.lendingclub.com/browse/loanDetail.action?loan_id=1077175</td><td>                                                                                                                                                                                                                                                                                                                </td><td>small_business</td><td>real estate business</td><td>606xx     </td><td>IL          </td><td style=\"text-align: right;\"> 8.72</td><td style=\"text-align: right;\">            0</td><td>2001-11-01 00:00:00</td><td style=\"text-align: right;\">               2</td><td>                        </td><td>                        </td><td style=\"text-align: right;\">         2</td><td style=\"text-align: right;\">        0</td><td style=\"text-align: right;\">       2956</td><td>98.5%       </td><td style=\"text-align: right;\">         10</td><td>f                    </td><td style=\"text-align: right;\">       0   </td><td style=\"text-align: right;\">           0   </td><td style=\"text-align: right;\">      3003.65</td><td style=\"text-align: right;\">          3003.65</td><td style=\"text-align: right;\">          2400   </td><td style=\"text-align: right;\">         603.65</td><td style=\"text-align: right;\">                0   </td><td style=\"text-align: right;\">           0</td><td style=\"text-align: right;\">                        0</td><td>2014-06-01 00:00:00</td><td style=\"text-align: right;\">           649.91</td><td>                   </td><td>2015-06-01 00:00:00 </td><td style=\"text-align: right;\">                           0</td><td>                             </td><td style=\"text-align: right;\">            1</td></tr>\n",
       "<tr><td style=\"text-align: right;\">1.07686e+06</td><td style=\"text-align: right;\">1.27718e+06</td><td style=\"text-align: right;\">      10000</td><td style=\"text-align: right;\">        10000</td><td style=\"text-align: right;\">            10000</td><td>36 months</td><td>13.49%    </td><td style=\"text-align: right;\">       339.31</td><td>C      </td><td>C1         </td><td>AIR RESOURCES BOARD     </td><td>10+ years   </td><td>RENT            </td><td style=\"text-align: right;\">       49200</td><td>VERIFIED - income source</td><td>2011-12-01 00:00:00</td><td>Fully Paid   </td><td>n           </td><td>https://www.lendingclub.com/browse/loanDetail.action?loan_id=1076863</td><td>Borrower added on 12/21/11 > to pay for property tax (borrow from friend, need to pay back) & central A/C need to be replace. I'm very sorry to let my loan expired last time.<br>                                                                                                                              </td><td>other         </td><td>personel            </td><td>917xx     </td><td>CA          </td><td style=\"text-align: right;\">20   </td><td style=\"text-align: right;\">            0</td><td>1996-02-01 00:00:00</td><td style=\"text-align: right;\">               1</td><td>35                      </td><td>                        </td><td style=\"text-align: right;\">        10</td><td style=\"text-align: right;\">        0</td><td style=\"text-align: right;\">       5598</td><td>21%         </td><td style=\"text-align: right;\">         37</td><td>f                    </td><td style=\"text-align: right;\">       0   </td><td style=\"text-align: right;\">           0   </td><td style=\"text-align: right;\">     12226.3 </td><td style=\"text-align: right;\">         12226.3 </td><td style=\"text-align: right;\">         10000   </td><td style=\"text-align: right;\">        2209.33</td><td style=\"text-align: right;\">               16.97</td><td style=\"text-align: right;\">           0</td><td style=\"text-align: right;\">                        0</td><td>2015-01-01 00:00:00</td><td style=\"text-align: right;\">           357.48</td><td>                   </td><td>2015-01-01 00:00:00 </td><td style=\"text-align: right;\">                           0</td><td>                             </td><td style=\"text-align: right;\">            1</td></tr>\n",
       "<tr><td style=\"text-align: right;\">1.07536e+06</td><td style=\"text-align: right;\">1.31175e+06</td><td style=\"text-align: right;\">       3000</td><td style=\"text-align: right;\">         3000</td><td style=\"text-align: right;\">             3000</td><td>60 months</td><td>12.69%    </td><td style=\"text-align: right;\">        67.79</td><td>B      </td><td>B5         </td><td>University Medical Group</td><td>1 year      </td><td>RENT            </td><td style=\"text-align: right;\">       80000</td><td>VERIFIED - income source</td><td>2011-12-01 00:00:00</td><td>Current      </td><td>n           </td><td>https://www.lendingclub.com/browse/loanDetail.action?loan_id=1075358</td><td>Borrower added on 12/21/11 > I plan on combining three large interest bills together and freeing up some extra each month to pay toward other bills.  I've always been a good payor but have found myself needing to make adjustments to my budget due to a medical scare. My job is very stable, I love it.<br></td><td>other         </td><td>Personal            </td><td>972xx     </td><td>OR          </td><td style=\"text-align: right;\">17.94</td><td style=\"text-align: right;\">            0</td><td>1996-01-01 00:00:00</td><td style=\"text-align: right;\">               0</td><td>38                      </td><td>                        </td><td style=\"text-align: right;\">        15</td><td style=\"text-align: right;\">        0</td><td style=\"text-align: right;\">      27783</td><td>53.9%       </td><td style=\"text-align: right;\">         38</td><td>f                    </td><td style=\"text-align: right;\">    1168.04</td><td style=\"text-align: right;\">        1168.04</td><td style=\"text-align: right;\">      2767.64</td><td style=\"text-align: right;\">          2767.64</td><td style=\"text-align: right;\">          1831.96</td><td style=\"text-align: right;\">         935.68</td><td style=\"text-align: right;\">                0   </td><td style=\"text-align: right;\">           0</td><td style=\"text-align: right;\">                        0</td><td>2015-06-01 00:00:00</td><td style=\"text-align: right;\">            67.79</td><td>2015-07-01 00:00:00</td><td>2015-06-01 00:00:00 </td><td style=\"text-align: right;\">                           0</td><td>                             </td><td style=\"text-align: right;\">            1</td></tr>\n",
       "</tbody>\n",
       "</table>"
      ]
     },
     "metadata": {},
     "output_type": "display_data"
    },
    {
     "data": {
      "text/plain": []
     },
     "execution_count": 25,
     "metadata": {},
     "output_type": "execute_result"
    }
   ],
   "source": [
    "# selecting rows by an index range\n",
    "loan_stats[2:5,:]"
   ]
  },
  {
   "cell_type": "code",
   "execution_count": 26,
   "metadata": {},
   "outputs": [
    {
     "data": {
      "text/html": [
       "<table>\n",
       "<thead>\n",
       "<tr><th style=\"text-align: right;\">  member_id</th><th>term     </th></tr>\n",
       "</thead>\n",
       "<tbody>\n",
       "<tr><td style=\"text-align: right;\">1.31417e+06</td><td>60 months</td></tr>\n",
       "<tr><td style=\"text-align: right;\">1.31352e+06</td><td>36 months</td></tr>\n",
       "</tbody>\n",
       "</table>"
      ]
     },
     "metadata": {},
     "output_type": "display_data"
    },
    {
     "data": {
      "text/plain": []
     },
     "execution_count": 26,
     "metadata": {},
     "output_type": "execute_result"
    }
   ],
   "source": [
    "# select by specified row and column\n",
    "loan_stats[1:3,['member_id','term']]"
   ]
  },
  {
   "cell_type": "markdown",
   "metadata": {},
   "source": [
    "#### Adding New Columns or New Rows"
   ]
  },
  {
   "cell_type": "code",
   "execution_count": 27,
   "metadata": {},
   "outputs": [
    {
     "data": {
      "text/html": [
       "<table>\n",
       "<thead>\n",
       "<tr><th style=\"text-align: right;\">  loan_amnt</th><th style=\"text-align: right;\">  installment</th><th>grade  </th></tr>\n",
       "</thead>\n",
       "<tbody>\n",
       "<tr><td style=\"text-align: right;\">       2500</td><td style=\"text-align: right;\">        59.83</td><td>C      </td></tr>\n",
       "<tr><td style=\"text-align: right;\">       2400</td><td style=\"text-align: right;\">        84.33</td><td>C      </td></tr>\n",
       "</tbody>\n",
       "</table>"
      ]
     },
     "metadata": {},
     "output_type": "display_data"
    },
    {
     "data": {
      "text/plain": []
     },
     "execution_count": 27,
     "metadata": {},
     "output_type": "execute_result"
    }
   ],
   "source": [
    "small_frame = loan_stats[1:3,['loan_amnt','installment']]\n",
    "single_col_frame = loan_stats[1:3,'grade']\n",
    "\n",
    "# combine these two equal sized frames\n",
    "small_frame.cbind(single_col_frame) "
   ]
  },
  {
   "cell_type": "code",
   "execution_count": 28,
   "metadata": {},
   "outputs": [
    {
     "data": {
      "text/html": [
       "<table>\n",
       "<thead>\n",
       "<tr><th style=\"text-align: right;\">  loan_amnt</th><th style=\"text-align: right;\">  installment</th></tr>\n",
       "</thead>\n",
       "<tbody>\n",
       "<tr><td style=\"text-align: right;\">       2500</td><td style=\"text-align: right;\">        59.83</td></tr>\n",
       "<tr><td style=\"text-align: right;\">       2400</td><td style=\"text-align: right;\">        84.33</td></tr>\n",
       "<tr><td style=\"text-align: right;\">       2500</td><td style=\"text-align: right;\">        59.83</td></tr>\n",
       "<tr><td style=\"text-align: right;\">       2400</td><td style=\"text-align: right;\">        84.33</td></tr>\n",
       "</tbody>\n",
       "</table>"
      ]
     },
     "metadata": {},
     "output_type": "display_data"
    },
    {
     "data": {
      "text/plain": []
     },
     "execution_count": 28,
     "metadata": {},
     "output_type": "execute_result"
    }
   ],
   "source": [
    "# for appending rows you can use .rbind()\n",
    "small_frame.rbind(small_frame)"
   ]
  },
  {
   "cell_type": "markdown",
   "metadata": {},
   "source": [
    "#### Converting Between Pandas and H2O Dataframes"
   ]
  },
  {
   "cell_type": "code",
   "execution_count": 29,
   "metadata": {},
   "outputs": [
    {
     "name": "stdout",
     "output_type": "stream",
     "text": [
      "<class 'pandas.core.frame.DataFrame'>\n"
     ]
    },
    {
     "data": {
      "text/html": [
       "<div>\n",
       "<style scoped>\n",
       "    .dataframe tbody tr th:only-of-type {\n",
       "        vertical-align: middle;\n",
       "    }\n",
       "\n",
       "    .dataframe tbody tr th {\n",
       "        vertical-align: top;\n",
       "    }\n",
       "\n",
       "    .dataframe thead th {\n",
       "        text-align: right;\n",
       "    }\n",
       "</style>\n",
       "<table border=\"1\" class=\"dataframe\">\n",
       "  <thead>\n",
       "    <tr style=\"text-align: right;\">\n",
       "      <th></th>\n",
       "      <th>loan_amnt</th>\n",
       "      <th>installment</th>\n",
       "    </tr>\n",
       "  </thead>\n",
       "  <tbody>\n",
       "    <tr>\n",
       "      <th>0</th>\n",
       "      <td>2500</td>\n",
       "      <td>59.83</td>\n",
       "    </tr>\n",
       "    <tr>\n",
       "      <th>1</th>\n",
       "      <td>2400</td>\n",
       "      <td>84.33</td>\n",
       "    </tr>\n",
       "  </tbody>\n",
       "</table>\n",
       "</div>"
      ],
      "text/plain": [
       "   loan_amnt  installment\n",
       "0       2500        59.83\n",
       "1       2400        84.33"
      ]
     },
     "execution_count": 29,
     "metadata": {},
     "output_type": "execute_result"
    }
   ],
   "source": [
    "# convert an h2oframe to pandas frame (make sure H2OFrame fits in memory!)\n",
    "pandas_small_frame = small_frame.as_data_frame()\n",
    "print(type(pandas_small_frame))\n",
    "pandas_small_frame"
   ]
  },
  {
   "cell_type": "code",
   "execution_count": 30,
   "metadata": {},
   "outputs": [
    {
     "name": "stdout",
     "output_type": "stream",
     "text": [
      "Parse progress: |█████████████████████████████████████████████████████████| 100%\n",
      "<class 'h2o.frame.H2OFrame'>\n"
     ]
    },
    {
     "data": {
      "text/html": [
       "<table>\n",
       "<thead>\n",
       "<tr><th style=\"text-align: right;\">  loan_amnt</th><th style=\"text-align: right;\">  installment</th></tr>\n",
       "</thead>\n",
       "<tbody>\n",
       "<tr><td style=\"text-align: right;\">       2500</td><td style=\"text-align: right;\">        59.83</td></tr>\n",
       "<tr><td style=\"text-align: right;\">       2400</td><td style=\"text-align: right;\">        84.33</td></tr>\n",
       "</tbody>\n",
       "</table>"
      ]
     },
     "metadata": {},
     "output_type": "display_data"
    },
    {
     "data": {
      "text/plain": []
     },
     "execution_count": 30,
     "metadata": {},
     "output_type": "execute_result"
    }
   ],
   "source": [
    "# converting back to an h2o frame\n",
    "back_to_h2o_frame = h2o.H2OFrame(pandas_small_frame)\n",
    "print(type(back_to_h2o_frame))\n",
    "back_to_h2o_frame"
   ]
  },
  {
   "cell_type": "markdown",
   "metadata": {},
   "source": [
    "## Creating a Target to Predict\n",
    "\n",
    "Depending on the stage of your data science project, your data may or may not have a target included (if you go to Kaggle for example the data will include a target (aka response column). In this case our data does not have a target so we will create one. \n",
    "\n",
    "Given that we want to predict if a borrower will default or not, which column could we use to create a target (aka repsonse column)?\n",
    "\n",
    "Take a look at the column names in the list below. Does anything look useful?"
   ]
  },
  {
   "cell_type": "code",
   "execution_count": 31,
   "metadata": {},
   "outputs": [
    {
     "data": {
      "text/plain": [
       "['id',\n",
       " 'member_id',\n",
       " 'loan_amnt',\n",
       " 'funded_amnt',\n",
       " 'funded_amnt_inv',\n",
       " 'term',\n",
       " 'int_rate',\n",
       " 'installment',\n",
       " 'grade',\n",
       " 'sub_grade',\n",
       " 'emp_title',\n",
       " 'emp_length',\n",
       " 'home_ownership',\n",
       " 'annual_inc',\n",
       " 'verification_status',\n",
       " 'issue_d',\n",
       " 'loan_status',\n",
       " 'pymnt_plan',\n",
       " 'url',\n",
       " 'desc',\n",
       " 'purpose',\n",
       " 'title',\n",
       " 'zip_code',\n",
       " 'addr_state',\n",
       " 'dti',\n",
       " 'delinq_2yrs',\n",
       " 'earliest_cr_line',\n",
       " 'inq_last_6mths',\n",
       " 'mths_since_last_delinq',\n",
       " 'mths_since_last_record',\n",
       " 'open_acc',\n",
       " 'pub_rec',\n",
       " 'revol_bal',\n",
       " 'revol_util',\n",
       " 'total_acc',\n",
       " 'initial_list_status',\n",
       " 'out_prncp',\n",
       " 'out_prncp_inv',\n",
       " 'total_pymnt',\n",
       " 'total_pymnt_inv',\n",
       " 'total_rec_prncp',\n",
       " 'total_rec_int',\n",
       " 'total_rec_late_fee',\n",
       " 'recoveries',\n",
       " 'collection_recovery_fee',\n",
       " 'last_pymnt_d',\n",
       " 'last_pymnt_amnt',\n",
       " 'next_pymnt_d',\n",
       " 'last_credit_pull_d',\n",
       " 'collections_12_mths_ex_med',\n",
       " 'mths_since_last_major_derog',\n",
       " 'policy_code']"
      ]
     },
     "execution_count": 31,
     "metadata": {},
     "output_type": "execute_result"
    }
   ],
   "source": [
    "loan_stats.columns"
   ]
  },
  {
   "cell_type": "markdown",
   "metadata": {},
   "source": [
    "What about loan_status? \n",
    "\n",
    "How could we take this multi-level column (aka feature) and convert it into a binary feature?\n",
    "\n",
    "The following cells will show you how to:\n",
    "\n",
    "* look at the unique levels in the `loan_status` column\n",
    "* remove unwanted rows\n",
    "* bin multiple levels into two levels "
   ]
  },
  {
   "cell_type": "code",
   "execution_count": 32,
   "metadata": {
    "scrolled": true
   },
   "outputs": [
    {
     "data": {
      "text/html": [
       "<table>\n",
       "<thead>\n",
       "<tr><th>loan_status                                             </th><th style=\"text-align: right;\">  Count</th></tr>\n",
       "</thead>\n",
       "<tbody>\n",
       "<tr><td>Charged Off                                             </td><td style=\"text-align: right;\">   5435</td></tr>\n",
       "<tr><td>Current                                                 </td><td style=\"text-align: right;\">   3351</td></tr>\n",
       "<tr><td>Default                                                 </td><td style=\"text-align: right;\">      7</td></tr>\n",
       "<tr><td>Does not meet the credit policy.  Status:Charged Off    </td><td style=\"text-align: right;\">    761</td></tr>\n",
       "<tr><td>Does not meet the credit policy.  Status:Current        </td><td style=\"text-align: right;\">     53</td></tr>\n",
       "<tr><td>Does not meet the credit policy.  Status:Fully Paid     </td><td style=\"text-align: right;\">   1933</td></tr>\n",
       "<tr><td>Does not meet the credit policy.  Status:In Grace Period</td><td style=\"text-align: right;\">      2</td></tr>\n",
       "<tr><td>Fully Paid                                              </td><td style=\"text-align: right;\">  30843</td></tr>\n",
       "<tr><td>In Grace Period                                         </td><td style=\"text-align: right;\">     60</td></tr>\n",
       "<tr><td>Late (16-30 days)                                       </td><td style=\"text-align: right;\">     16</td></tr>\n",
       "</tbody>\n",
       "</table>"
      ]
     },
     "metadata": {},
     "output_type": "display_data"
    },
    {
     "data": {
      "text/plain": []
     },
     "execution_count": 32,
     "metadata": {},
     "output_type": "execute_result"
    }
   ],
   "source": [
    "# .table() gives you the frequency count of each unique level\n",
    "loan_stats[\"loan_status\"].table()"
   ]
  },
  {
   "cell_type": "markdown",
   "metadata": {},
   "source": [
    "Let's also check for missing values. We see that there are three missing values in the column we would like to use as our target."
   ]
  },
  {
   "cell_type": "code",
   "execution_count": 33,
   "metadata": {},
   "outputs": [
    {
     "data": {
      "text/plain": [
       "3.0"
      ]
     },
     "execution_count": 33,
     "metadata": {},
     "output_type": "execute_result"
    }
   ],
   "source": [
    "loan_stats['loan_status'].isna().sum()"
   ]
  },
  {
   "cell_type": "markdown",
   "metadata": {},
   "source": [
    "Because this will be our response column if there are missing values we will want to remove the corresponding rows. First will create a boolean column indicating the missing values as 1s, then we will take the logical negation so the 1s become 0s and use that boolean column to create a subset of our data where we remove any rows with a missing response."
   ]
  },
  {
   "cell_type": "code",
   "execution_count": 34,
   "metadata": {},
   "outputs": [],
   "source": [
    "rows_with_missing_response = loan_stats['loan_status'].isna()\n",
    "no_missing_values_response = rows_with_missing_response.logical_negation()"
   ]
  },
  {
   "cell_type": "code",
   "execution_count": 35,
   "metadata": {},
   "outputs": [
    {
     "name": "stdout",
     "output_type": "stream",
     "text": [
      "how many missing values do we have now: 0.0\n"
     ]
    }
   ],
   "source": [
    "loan_stats = loan_stats[no_missing_values_response]\n",
    "print('how many missing values do we have now:' , loan_stats['loan_status'].isna().sum())"
   ]
  },
  {
   "cell_type": "markdown",
   "metadata": {},
   "source": [
    "We see that some historic loans would no longer meet the Lending Club's credit policy.\n",
    "Let's remove all loans that do not meet LC's credit policy"
   ]
  },
  {
   "cell_type": "code",
   "execution_count": 36,
   "metadata": {},
   "outputs": [],
   "source": [
    "# .grep() allows you to search for string patterns within a column\n",
    "doesnt_meet_credit_policy = loan_stats['loan_status'].grep(pattern = \"Does not meet the credit policy.  Status:\",\n",
    "                                                     output_logical = True)"
   ]
  },
  {
   "cell_type": "code",
   "execution_count": 37,
   "metadata": {},
   "outputs": [
    {
     "data": {
      "text/html": [
       "<table>\n",
       "<thead>\n",
       "<tr><th style=\"text-align: right;\">  C1</th></tr>\n",
       "</thead>\n",
       "<tbody>\n",
       "<tr><td style=\"text-align: right;\">   0</td></tr>\n",
       "<tr><td style=\"text-align: right;\">   0</td></tr>\n",
       "</tbody>\n",
       "</table>"
      ]
     },
     "metadata": {},
     "output_type": "display_data"
    },
    {
     "data": {
      "text/plain": []
     },
     "execution_count": 37,
     "metadata": {},
     "output_type": "execute_result"
    }
   ],
   "source": [
    "doesnt_meet_credit_policy.head(rows=2)"
   ]
  },
  {
   "cell_type": "code",
   "execution_count": 38,
   "metadata": {},
   "outputs": [
    {
     "data": {
      "text/html": [
       "<table>\n",
       "<thead>\n",
       "<tr><th style=\"text-align: right;\">  not(C1)</th></tr>\n",
       "</thead>\n",
       "<tbody>\n",
       "<tr><td style=\"text-align: right;\">        1</td></tr>\n",
       "<tr><td style=\"text-align: right;\">        1</td></tr>\n",
       "</tbody>\n",
       "</table>"
      ]
     },
     "metadata": {},
     "output_type": "display_data"
    },
    {
     "data": {
      "text/plain": []
     },
     "execution_count": 38,
     "metadata": {},
     "output_type": "execute_result"
    }
   ],
   "source": [
    "# .logical_negation() flips 0 to 1 (Trues => False)\n",
    "meets_credit_policy = doesnt_meet_credit_policy.logical_negation()\n",
    "meets_credit_policy.head(rows=2)"
   ]
  },
  {
   "cell_type": "markdown",
   "metadata": {},
   "source": [
    "Now that we removed applicants that would no longer meet the credit approval policy, let's take a look at what else should be removed."
   ]
  },
  {
   "cell_type": "code",
   "execution_count": 39,
   "metadata": {},
   "outputs": [
    {
     "data": {
      "text/html": [
       "<table>\n",
       "<thead>\n",
       "<tr><th>loan_status       </th><th style=\"text-align: right;\">  Count</th></tr>\n",
       "</thead>\n",
       "<tbody>\n",
       "<tr><td>Charged Off       </td><td style=\"text-align: right;\">   5435</td></tr>\n",
       "<tr><td>Current           </td><td style=\"text-align: right;\">   3351</td></tr>\n",
       "<tr><td>Default           </td><td style=\"text-align: right;\">      7</td></tr>\n",
       "<tr><td>Fully Paid        </td><td style=\"text-align: right;\">  30843</td></tr>\n",
       "<tr><td>In Grace Period   </td><td style=\"text-align: right;\">     60</td></tr>\n",
       "<tr><td>Late (16-30 days) </td><td style=\"text-align: right;\">     16</td></tr>\n",
       "<tr><td>Late (31-120 days)</td><td style=\"text-align: right;\">     74</td></tr>\n",
       "</tbody>\n",
       "</table>"
      ]
     },
     "metadata": {},
     "output_type": "display_data"
    },
    {
     "data": {
      "text/plain": []
     },
     "execution_count": 39,
     "metadata": {},
     "output_type": "execute_result"
    }
   ],
   "source": [
    "loan_stats = loan_stats[meets_credit_policy]\n",
    "loan_stats['loan_status'].table()"
   ]
  },
  {
   "cell_type": "markdown",
   "metadata": {},
   "source": [
    "How would you subset your data to only include completed loans?\n",
    "\n",
    "*Hint: \"Current\", \"In Grace Period\", \"Late (16-30 days)\", \"Late (31-120 days)\" are ongoing loans.*"
   ]
  },
  {
   "cell_type": "code",
   "execution_count": 40,
   "metadata": {},
   "outputs": [],
   "source": [
    "to_remove = [\"Current\", \"In Grace Period\", \"Late (16-30 days)\", \"Late (31-120 days)\"]\n",
    "loan_stats = loan_stats[loan_stats[\"loan_status\"].isin(to_remove).logical_negation(), :]"
   ]
  },
  {
   "cell_type": "code",
   "execution_count": 41,
   "metadata": {},
   "outputs": [
    {
     "data": {
      "text/html": [
       "<table>\n",
       "<thead>\n",
       "<tr><th>loan_status  </th><th style=\"text-align: right;\">  Count</th></tr>\n",
       "</thead>\n",
       "<tbody>\n",
       "<tr><td>Charged Off  </td><td style=\"text-align: right;\">   5435</td></tr>\n",
       "<tr><td>Default      </td><td style=\"text-align: right;\">      7</td></tr>\n",
       "<tr><td>Fully Paid   </td><td style=\"text-align: right;\">  30843</td></tr>\n",
       "</tbody>\n",
       "</table>"
      ]
     },
     "metadata": {},
     "output_type": "display_data"
    },
    {
     "data": {
      "text/plain": []
     },
     "execution_count": 41,
     "metadata": {},
     "output_type": "execute_result"
    }
   ],
   "source": [
    "loan_stats[\"loan_status\"].table()"
   ]
  },
  {
   "cell_type": "markdown",
   "metadata": {},
   "source": [
    "We are going to assume anyone who is late over 121 (corresponding to the `loan_status = Charged Off`) is going to default, so we will lump `Default` and `Charged Off` into the same bucket. This will leave us with only two levels Default and Fully Paid."
   ]
  },
  {
   "cell_type": "code",
   "execution_count": 42,
   "metadata": {},
   "outputs": [],
   "source": [
    "boolean_test_frame = ((loan_stats['loan_status'] == 'Charged Off')|(loan_stats['loan_status'] == 'Default'))\n",
    "loan_stats['loan_status'] = boolean_test_frame.ifelse('Default','Fully Paid')"
   ]
  },
  {
   "cell_type": "code",
   "execution_count": 43,
   "metadata": {},
   "outputs": [
    {
     "data": {
      "text/html": [
       "<table>\n",
       "<thead>\n",
       "<tr><th>loan_status  </th><th style=\"text-align: right;\">  Count</th></tr>\n",
       "</thead>\n",
       "<tbody>\n",
       "<tr><td>Fully Paid   </td><td style=\"text-align: right;\">  30843</td></tr>\n",
       "<tr><td>Default      </td><td style=\"text-align: right;\">   5442</td></tr>\n",
       "</tbody>\n",
       "</table>"
      ]
     },
     "metadata": {},
     "output_type": "display_data"
    },
    {
     "data": {
      "text/plain": []
     },
     "execution_count": 43,
     "metadata": {},
     "output_type": "execute_result"
    }
   ],
   "source": [
    "loan_stats['loan_status'].table()"
   ]
  },
  {
   "cell_type": "markdown",
   "metadata": {},
   "source": [
    "Now that we have our target in the form we want, let's rename it to something more conclusive sounding `loan_result`."
   ]
  },
  {
   "cell_type": "code",
   "execution_count": 44,
   "metadata": {},
   "outputs": [],
   "source": [
    "loan_stats.set_name('loan_status', 'loan_result') "
   ]
  },
  {
   "cell_type": "code",
   "execution_count": 45,
   "metadata": {},
   "outputs": [
    {
     "data": {
      "text/html": [
       "<table>\n",
       "<thead>\n",
       "<tr><th>loan_result  </th></tr>\n",
       "</thead>\n",
       "<tbody>\n",
       "<tr><td>Fully Paid   </td></tr>\n",
       "<tr><td>Default      </td></tr>\n",
       "</tbody>\n",
       "</table>"
      ]
     },
     "metadata": {},
     "output_type": "display_data"
    },
    {
     "data": {
      "text/plain": []
     },
     "execution_count": 45,
     "metadata": {},
     "output_type": "execute_result"
    }
   ],
   "source": [
    "loan_stats[\"loan_result\"].head(rows=2)"
   ]
  },
  {
   "cell_type": "markdown",
   "metadata": {},
   "source": [
    "## Feature Preprocessing\n",
    "\n",
    "From the variables we want to keep, which variables might need cleanup? Take a look at all the enum type columns.\n",
    "\n",
    "Hint: Are there any enum columns that could be converted into numeric columns?"
   ]
  },
  {
   "cell_type": "code",
   "execution_count": 46,
   "metadata": {},
   "outputs": [
    {
     "data": {
      "text/html": [
       "<table>\n",
       "<thead>\n",
       "<tr><th>term     </th><th>int_rate  </th><th>grade  </th><th>sub_grade  </th><th>emp_title  </th><th>emp_length  </th><th>home_ownership  </th><th>verification_status  </th><th>loan_result  </th><th>pymnt_plan  </th><th>desc                                                                        </th><th>purpose    </th><th>title   </th><th>zip_code  </th><th>addr_state  </th><th>mths_since_last_delinq  </th><th>mths_since_last_record  </th><th>revol_util  </th><th>initial_list_status  </th><th>mths_since_last_major_derog  </th></tr>\n",
       "</thead>\n",
       "<tbody>\n",
       "<tr><td>36 months</td><td>10.65%    </td><td>B      </td><td>B2         </td><td>           </td><td>10+ years   </td><td>RENT            </td><td>VERIFIED - income    </td><td>Fully Paid   </td><td>n           </td><td>Borrower added on 12/22/11 > I need to upgrade my business technologies.<br></td><td>credit_card</td><td>Computer</td><td>860xx     </td><td>AZ          </td><td>                        </td><td>                        </td><td>83.7%       </td><td>f                    </td><td>                             </td></tr>\n",
       "</tbody>\n",
       "</table>"
      ]
     },
     "metadata": {},
     "output_type": "display_data"
    },
    {
     "data": {
      "text/plain": []
     },
     "execution_count": 46,
     "metadata": {},
     "output_type": "execute_result"
    }
   ],
   "source": [
    "cat_col_index = loan_stats.columns_by_type(coltype='categorical')\n",
    "loan_stats[cat_col_index].head(rows=1)"
   ]
  },
  {
   "cell_type": "markdown",
   "metadata": {},
   "source": [
    "We can see that  `revol_util` has been parsed as enums, because of special characters, but should really be type numeric, because it holds numeric values."
   ]
  },
  {
   "cell_type": "code",
   "execution_count": 47,
   "metadata": {},
   "outputs": [
    {
     "data": {
      "text/html": [
       "<table>\n",
       "<thead>\n",
       "<tr><th>revol_util  </th></tr>\n",
       "</thead>\n",
       "<tbody>\n",
       "<tr><td>83.7%       </td></tr>\n",
       "<tr><td>9.4%        </td></tr>\n",
       "</tbody>\n",
       "</table>"
      ]
     },
     "metadata": {},
     "output_type": "display_data"
    },
    {
     "data": {
      "text/plain": []
     },
     "execution_count": 47,
     "metadata": {},
     "output_type": "execute_result"
    }
   ],
   "source": [
    "loan_stats[\"revol_util\"].head(rows=2)"
   ]
  },
  {
   "cell_type": "markdown",
   "metadata": {},
   "source": [
    "To do string cleaning/munging on a categorical/enum type column, you first have to covert that column to string type with `.ascharacter()`."
   ]
  },
  {
   "cell_type": "code",
   "execution_count": 48,
   "metadata": {},
   "outputs": [
    {
     "data": {
      "text/html": [
       "<table>\n",
       "<thead>\n",
       "<tr><th style=\"text-align: right;\">  revol_util</th></tr>\n",
       "</thead>\n",
       "<tbody>\n",
       "<tr><td style=\"text-align: right;\">        83.7</td></tr>\n",
       "<tr><td style=\"text-align: right;\">         9.4</td></tr>\n",
       "</tbody>\n",
       "</table>"
      ]
     },
     "metadata": {},
     "output_type": "display_data"
    },
    {
     "data": {
      "text/plain": []
     },
     "execution_count": 48,
     "metadata": {},
     "output_type": "execute_result"
    }
   ],
   "source": [
    "# .gsub allows you to replace by pattern, while .trim() allows you to remove leading and trailing white spaces.\n",
    "loan_stats[\"revol_util\"] = loan_stats[\"revol_util\"].ascharacter()\n",
    "loan_stats[\"revol_util\"] = loan_stats[\"revol_util\"].gsub(pattern = \"%\", replacement = \"\")\n",
    "loan_stats[\"revol_util\"] = loan_stats[\"revol_util\"].trim() \n",
    "loan_stats[\"revol_util\"] = loan_stats[\"revol_util\"].asnumeric() \n",
    "loan_stats[\"revol_util\"].head(rows = 2)"
   ]
  },
  {
   "cell_type": "markdown",
   "metadata": {},
   "source": [
    "Now that we have a numeric type column we can get a few statistics on this column such as min and max values."
   ]
  },
  {
   "cell_type": "code",
   "execution_count": 49,
   "metadata": {},
   "outputs": [
    {
     "name": "stdout",
     "output_type": "stream",
     "text": [
      "0.0\n",
      "99.9\n"
     ]
    }
   ],
   "source": [
    "print(loan_stats[\"revol_util\"].na_omit().min())\n",
    "print(loan_stats[\"revol_util\"].na_omit().max())\n",
    "# loan_stats[\"revol_util\"].describe()"
   ]
  },
  {
   "cell_type": "markdown",
   "metadata": {},
   "source": [
    "# Feature Engineering\n",
    "\n",
    "What new features could we create from the features we currently have?"
   ]
  },
  {
   "cell_type": "markdown",
   "metadata": {},
   "source": [
    "Let's create a new features called `credit_length_in_years`.\n",
    "Note: H2O coverts the date columns to milliseconds since January 1, 1970 behind the scenes."
   ]
  },
  {
   "cell_type": "code",
   "execution_count": 50,
   "metadata": {},
   "outputs": [
    {
     "data": {
      "text/plain": [
       "{'issue_d': 'time'}"
      ]
     },
     "execution_count": 50,
     "metadata": {},
     "output_type": "execute_result"
    }
   ],
   "source": [
    "loan_stats[\"issue_d\"].types"
   ]
  },
  {
   "cell_type": "code",
   "execution_count": 51,
   "metadata": {},
   "outputs": [
    {
     "data": {
      "text/html": [
       "<table>\n",
       "<thead>\n",
       "<tr><th>issue_d            </th></tr>\n",
       "</thead>\n",
       "<tbody>\n",
       "<tr><td>2011-12-01 00:00:00</td></tr>\n",
       "<tr><td>2011-12-01 00:00:00</td></tr>\n",
       "</tbody>\n",
       "</table>"
      ]
     },
     "metadata": {},
     "output_type": "display_data"
    },
    {
     "name": "stdout",
     "output_type": "stream",
     "text": [
      "\n"
     ]
    },
    {
     "data": {
      "text/html": [
       "<table>\n",
       "<thead>\n",
       "<tr><th style=\"text-align: right;\">  issue_d</th></tr>\n",
       "</thead>\n",
       "<tbody>\n",
       "<tr><td style=\"text-align: right;\">     2011</td></tr>\n",
       "<tr><td style=\"text-align: right;\">     2011</td></tr>\n",
       "</tbody>\n",
       "</table>"
      ]
     },
     "metadata": {},
     "output_type": "display_data"
    },
    {
     "name": "stdout",
     "output_type": "stream",
     "text": [
      "\n"
     ]
    }
   ],
   "source": [
    "print(loan_stats[\"issue_d\"].head(rows=2))\n",
    "print(loan_stats[\"issue_d\"].year().head(rows=2))"
   ]
  },
  {
   "cell_type": "code",
   "execution_count": 52,
   "metadata": {},
   "outputs": [
    {
     "data": {
      "text/html": [
       "<table>\n",
       "<thead>\n",
       "<tr><th>earliest_cr_line   </th></tr>\n",
       "</thead>\n",
       "<tbody>\n",
       "<tr><td>1985-01-01 00:00:00</td></tr>\n",
       "<tr><td>1999-04-01 00:00:00</td></tr>\n",
       "</tbody>\n",
       "</table>"
      ]
     },
     "metadata": {},
     "output_type": "display_data"
    },
    {
     "data": {
      "text/plain": []
     },
     "execution_count": 52,
     "metadata": {},
     "output_type": "execute_result"
    }
   ],
   "source": [
    "loan_stats[\"earliest_cr_line\"].head(rows=2)"
   ]
  },
  {
   "cell_type": "code",
   "execution_count": 53,
   "metadata": {},
   "outputs": [
    {
     "data": {
      "text/html": [
       "<table>\n",
       "<thead>\n",
       "<tr><th style=\"text-align: right;\">  credit_length_in_years</th></tr>\n",
       "</thead>\n",
       "<tbody>\n",
       "<tr><td style=\"text-align: right;\">                      26</td></tr>\n",
       "<tr><td style=\"text-align: right;\">                      12</td></tr>\n",
       "<tr><td style=\"text-align: right;\">                      10</td></tr>\n",
       "</tbody>\n",
       "</table>"
      ]
     },
     "metadata": {},
     "output_type": "display_data"
    },
    {
     "data": {
      "text/plain": []
     },
     "execution_count": 53,
     "metadata": {},
     "output_type": "execute_result"
    }
   ],
   "source": [
    "loan_stats[\"credit_length_in_years\"] = loan_stats[\"issue_d\"].year() - loan_stats[\"earliest_cr_line\"].year()\n",
    "loan_stats[\"credit_length_in_years\"].head(rows=3)"
   ]
  },
  {
   "cell_type": "markdown",
   "metadata": {},
   "source": [
    "# How to Export to CSV\n",
    "\n",
    "After you've finished your data and feature preprocessing, along with feature engineering you may want to download your dataset as a csv so that the next time you run this notebook you don't have to redo all the preprocessing steps."
   ]
  },
  {
   "cell_type": "code",
   "execution_count": 54,
   "metadata": {},
   "outputs": [],
   "source": [
    "# h2o.export_file(loan_stats,'preprocessed_loan_dataset.csv')\n",
    "\n",
    "# # import the file\n",
    "# clean_loan_stats = h2o.import_file('preprocessed_loan_dataset.csv')"
   ]
  },
  {
   "cell_type": "markdown",
   "metadata": {},
   "source": [
    "# Split the Dataset\n",
    "\n",
    "Split the original dataframe into 3 dataframes: training, validation, and test. We use the validation set to help prevent overfitting."
   ]
  },
  {
   "cell_type": "code",
   "execution_count": 55,
   "metadata": {},
   "outputs": [],
   "source": [
    "train, valid, test = loan_stats.split_frame(ratios=[0.7,.15], seed = 1234)"
   ]
  },
  {
   "cell_type": "code",
   "execution_count": 56,
   "metadata": {},
   "outputs": [
    {
     "data": {
      "text/html": [
       "<table>\n",
       "<thead>\n",
       "<tr><th>loan_result  </th><th style=\"text-align: right;\">  Count</th><th style=\"text-align: right;\">  Percentage</th></tr>\n",
       "</thead>\n",
       "<tbody>\n",
       "<tr><td>Fully Paid   </td><td style=\"text-align: right;\">  30843</td><td style=\"text-align: right;\">    0.850021</td></tr>\n",
       "<tr><td>Default      </td><td style=\"text-align: right;\">   5442</td><td style=\"text-align: right;\">    0.149979</td></tr>\n",
       "</tbody>\n",
       "</table>"
      ]
     },
     "metadata": {},
     "output_type": "display_data"
    },
    {
     "name": "stdout",
     "output_type": "stream",
     "text": [
      "\n"
     ]
    },
    {
     "data": {
      "text/html": [
       "<table>\n",
       "<thead>\n",
       "<tr><th>loan_result  </th><th style=\"text-align: right;\">  Count</th><th style=\"text-align: right;\">  Percentage</th></tr>\n",
       "</thead>\n",
       "<tbody>\n",
       "<tr><td>Fully Paid   </td><td style=\"text-align: right;\">  21639</td><td style=\"text-align: right;\">    0.848588</td></tr>\n",
       "<tr><td>Default      </td><td style=\"text-align: right;\">   3861</td><td style=\"text-align: right;\">    0.151412</td></tr>\n",
       "</tbody>\n",
       "</table>"
      ]
     },
     "metadata": {},
     "output_type": "display_data"
    },
    {
     "name": "stdout",
     "output_type": "stream",
     "text": [
      "\n"
     ]
    },
    {
     "data": {
      "text/html": [
       "<table>\n",
       "<thead>\n",
       "<tr><th>loan_result  </th><th style=\"text-align: right;\">  Count</th><th style=\"text-align: right;\">  Percentage</th></tr>\n",
       "</thead>\n",
       "<tbody>\n",
       "<tr><td>Fully Paid   </td><td style=\"text-align: right;\">   4581</td><td style=\"text-align: right;\">    0.854664</td></tr>\n",
       "<tr><td>Default      </td><td style=\"text-align: right;\">    779</td><td style=\"text-align: right;\">    0.145336</td></tr>\n",
       "</tbody>\n",
       "</table>"
      ]
     },
     "metadata": {},
     "output_type": "display_data"
    },
    {
     "name": "stdout",
     "output_type": "stream",
     "text": [
      "\n"
     ]
    },
    {
     "data": {
      "text/html": [
       "<table>\n",
       "<thead>\n",
       "<tr><th>loan_result  </th><th style=\"text-align: right;\">  Count</th><th style=\"text-align: right;\">  Percentage</th></tr>\n",
       "</thead>\n",
       "<tbody>\n",
       "<tr><td>Fully Paid   </td><td style=\"text-align: right;\">   4623</td><td style=\"text-align: right;\">    0.852166</td></tr>\n",
       "<tr><td>Default      </td><td style=\"text-align: right;\">    802</td><td style=\"text-align: right;\">    0.147834</td></tr>\n",
       "</tbody>\n",
       "</table>"
      ]
     },
     "metadata": {},
     "output_type": "display_data"
    },
    {
     "name": "stdout",
     "output_type": "stream",
     "text": [
      "\n"
     ]
    }
   ],
   "source": [
    "# Hint: Use h2o.table to see if the ratio of the response class is maintained\n",
    "orig_distribution = loan_stats[\"loan_result\"].table()\n",
    "orig_distribution[\"Percentage\"] = orig_distribution[\"Count\"]/loan_stats.nrow\n",
    "\n",
    "train_distribution = train[\"loan_result\"].table()\n",
    "train_distribution[\"Percentage\"] = train_distribution[\"Count\"]/train.nrow\n",
    "\n",
    "valid_distribution = valid[\"loan_result\"].table()\n",
    "valid_distribution[\"Percentage\"] = valid_distribution[\"Count\"]/valid.nrow\n",
    "\n",
    "test_distribution = test[\"loan_result\"].table()\n",
    "test_distribution[\"Percentage\"] = test_distribution[\"Count\"]/test.nrow\n",
    "\n",
    "print(orig_distribution)\n",
    "print(train_distribution)\n",
    "print(valid_distribution)\n",
    "print(test_distribution)"
   ]
  },
  {
   "cell_type": "markdown",
   "metadata": {},
   "source": [
    "# Build your Models\n",
    "\n",
    "Now we will run a Generalized Linear Model ([GLM](http://docs.h2o.ai/h2o/latest-stable/h2o-docs/data-science/glm.html)) and a Gradient Boosting Machine ([GBM](http://docs.h2o.ai/h2o/latest-stable/h2o-docs/data-science/gbm.html)).\n",
    "\n",
    "Specify your target variable (`target`) and the predictors (`predictor_columns`) that you want to pass to the algorithms. "
   ]
  },
  {
   "cell_type": "code",
   "execution_count": 57,
   "metadata": {},
   "outputs": [],
   "source": [
    "target = \"loan_result\"\n",
    "predictor_columns = [\"loan_amnt\", \"term\", \"home_ownership\", \"annual_inc\", \"verification_status\", \"purpose\",\n",
    "          \"addr_state\", \"dti\", \"delinq_2yrs\", \"open_acc\", \"pub_rec\", \"revol_bal\", \"total_acc\",\n",
    "          \"emp_length\", \"credit_length_in_years\", \"inq_last_6mths\", \"revol_util\"]"
   ]
  },
  {
   "cell_type": "markdown",
   "metadata": {},
   "source": [
    "Import the GLM estimator module, then initialize your estimator. Here we will leave the default settings, except to pass in the [model_id](http://docs.h2o.ai/h2o/latest-stable/h2o-docs/data-science/algo-params/model_id.html) and the [family](http://docs.h2o.ai/h2o/latest-stable/h2o-docs/data-science/algo-params/family.html). Then we will train our model by specifying the predictors, response column, training frame and validation frame."
   ]
  },
  {
   "cell_type": "code",
   "execution_count": 58,
   "metadata": {},
   "outputs": [
    {
     "name": "stdout",
     "output_type": "stream",
     "text": [
      "glm Model Build progress: |███████████████████████████████████████████████| 100%\n"
     ]
    }
   ],
   "source": [
    "from h2o.estimators.glm import H2OGeneralizedLinearEstimator\n",
    "\n",
    "# initialize your estimator\n",
    "glm_model = H2OGeneralizedLinearEstimator(model_id = \"GLM\", family = \"binomial\")\n",
    "\n",
    "# train your model\n",
    "glm_model.train(x = predictor_columns, y = target, training_frame = train, validation_frame = valid)"
   ]
  },
  {
   "cell_type": "markdown",
   "metadata": {},
   "source": [
    "Next we will build a GBM so we can compare the performance.\n",
    "\n",
    "Want to build other models? Check out your options in the [docs](http://docs.h2o.ai/h2o/latest-stable/h2o-py/docs/modeling.html)."
   ]
  },
  {
   "cell_type": "code",
   "execution_count": 59,
   "metadata": {},
   "outputs": [
    {
     "name": "stdout",
     "output_type": "stream",
     "text": [
      "gbm Model Build progress: |███████████████████████████████████████████████| 100%\n"
     ]
    }
   ],
   "source": [
    "from h2o.estimators.gbm import H2OGradientBoostingEstimator\n",
    "\n",
    "gbm_model = H2OGradientBoostingEstimator(model_id=\"GBM\", distribution = 'bernoulli')\n",
    "gbm_model.train(x = predictor_columns, y = target, training_frame = train, validation_frame = valid)"
   ]
  },
  {
   "cell_type": "markdown",
   "metadata": {},
   "source": [
    "# Evaluate Model Results\n",
    "Compare the results for each model. Which Algorigthm had a better AUC?"
   ]
  },
  {
   "cell_type": "code",
   "execution_count": 60,
   "metadata": {},
   "outputs": [
    {
     "name": "stdout",
     "output_type": "stream",
     "text": [
      "GLM AUC on training = 0.7241423358850226 and GLM AUC on validation = 0.7081676870951318\n",
      "GBM AUC on training = 0.8227698355939033 and GBM AUC on validation = 0.7122954974767409\n"
     ]
    }
   ],
   "source": [
    "print(\"GLM AUC on training = \" + str(glm_model.auc(train = True)) + \" and GLM AUC on validation = \" + str(glm_model.auc(valid = True)))\n",
    "\n",
    "print(\"GBM AUC on training = \" + str(gbm_model.auc(train = True)) + \" and GBM AUC on validation = \" + str(gbm_model.auc(valid = True)))"
   ]
  },
  {
   "cell_type": "markdown",
   "metadata": {},
   "source": [
    "Let's take a look at the ROC curves for the GLM and GBM, as well as their corresponding standardized coefficients plot and variable importance plot.\n",
    "\n",
    "#### The ROC Curve\n",
    "**GLM**"
   ]
  },
  {
   "cell_type": "code",
   "execution_count": 61,
   "metadata": {},
   "outputs": [
    {
     "data": {
      "image/png": "[encoded data removed]",
      "text/plain": [
       "<Figure size 432x288 with 1 Axes>"
      ]
     },
     "metadata": {},
     "output_type": "display_data"
    }
   ],
   "source": [
    "glm_perf = glm_model.model_performance(valid = True)\n",
    "glm_perf.plot()"
   ]
  },
  {
   "cell_type": "markdown",
   "metadata": {},
   "source": [
    "#### Standardized Coefficients Plot\n",
    "\n",
    "We can look at the standardized coefficients plot for our GLM to determine which features had the most influence on  each outcome. We can also get the confusion matrix to see how good our model was at predicting each class."
   ]
  },
  {
   "cell_type": "code",
   "execution_count": 62,
   "metadata": {},
   "outputs": [
    {
     "name": "stderr",
     "output_type": "stream",
     "text": [
      "/Users/navdeepgill/Desktop/pyenv/h2o3_py3.6_env2/lib/python3.6/site-packages/matplotlib/cbook/deprecation.py:107: MatplotlibDeprecationWarning: Passing one of 'on', 'true', 'off', 'false' as a boolean is deprecated; use an actual boolean (True/False) instead.\n",
      "  warnings.warn(message, mplDeprecation, stacklevel=1)\n"
     ]
    },
    {
     "data": {
      "image/png": "[encoded data removed]",
      "text/plain": [
       "<Figure size 1008x720 with 1 Axes>"
      ]
     },
     "metadata": {},
     "output_type": "display_data"
    },
    {
     "name": "stdout",
     "output_type": "stream",
     "text": [
      "Confusion Matrix (Act/Pred) for max f1 @ threshold = 0.1997507751132263: \n"
     ]
    },
    {
     "data": {
      "text/html": [
       "<div style=\"overflow:auto\"><table style=\"width:50%\"><tr><td><b></b></td>\n",
       "<td><b>Fully Paid</b></td>\n",
       "<td><b>Default</b></td>\n",
       "<td><b>Error</b></td>\n",
       "<td><b>Rate</b></td></tr>\n",
       "<tr><td>Fully Paid</td>\n",
       "<td>3744.0</td>\n",
       "<td>837.0</td>\n",
       "<td>0.1827</td>\n",
       "<td> (837.0/4581.0)</td></tr>\n",
       "<tr><td>Default</td>\n",
       "<td>415.0</td>\n",
       "<td>364.0</td>\n",
       "<td>0.5327</td>\n",
       "<td> (415.0/779.0)</td></tr>\n",
       "<tr><td>Total</td>\n",
       "<td>4159.0</td>\n",
       "<td>1201.0</td>\n",
       "<td>0.2336</td>\n",
       "<td> (1252.0/5360.0)</td></tr></table></div>"
      ],
      "text/plain": [
       "            Fully Paid    Default    Error    Rate\n",
       "----------  ------------  ---------  -------  ---------------\n",
       "Fully Paid  3744          837        0.1827   (837.0/4581.0)\n",
       "Default     415           364        0.5327   (415.0/779.0)\n",
       "Total       4159          1201       0.2336   (1252.0/5360.0)"
      ]
     },
     "metadata": {},
     "output_type": "display_data"
    },
    {
     "name": "stdout",
     "output_type": "stream",
     "text": [
      "\n"
     ]
    }
   ],
   "source": [
    "glm_model.std_coef_plot(num_of_features = 10)\n",
    "print(glm_model.confusion_matrix(valid = True))"
   ]
  },
  {
   "cell_type": "markdown",
   "metadata": {},
   "source": [
    "#### The ROC Curve & Scoring History\n",
    "**GBM**"
   ]
  },
  {
   "cell_type": "code",
   "execution_count": 63,
   "metadata": {},
   "outputs": [
    {
     "data": {
      "image/png": "[encoded data removed]",
      "text/plain": [
       "<Figure size 432x288 with 1 Axes>"
      ]
     },
     "metadata": {},
     "output_type": "display_data"
    }
   ],
   "source": [
    "gbm_perf = gbm_model.model_performance(valid = True)\n",
    "gbm_perf.plot()"
   ]
  },
  {
   "cell_type": "markdown",
   "metadata": {},
   "source": [
    "Now let's plot the scoring history of our GBM to make sure we weren't overfitting."
   ]
  },
  {
   "cell_type": "code",
   "execution_count": 64,
   "metadata": {
    "scrolled": true
   },
   "outputs": [
    {
     "data": {
      "image/png": "[encoded data removed]",
      "text/plain": [
       "<Figure size 432x288 with 1 Axes>"
      ]
     },
     "metadata": {},
     "output_type": "display_data"
    }
   ],
   "source": [
    "# Plot the scoring history to make sure you're not overfitting\n",
    "gbm_model.plot()"
   ]
  },
  {
   "cell_type": "markdown",
   "metadata": {},
   "source": [
    "#### Feature Importance Plot\n",
    "Take a look at the variable importance for the GBM and generate a confusion matrix for max F1 threshold."
   ]
  },
  {
   "cell_type": "code",
   "execution_count": 65,
   "metadata": {
    "scrolled": true
   },
   "outputs": [
    {
     "data": {
      "image/png": "[encoded data removed]",
      "text/plain": [
       "<Figure size 1008x720 with 1 Axes>"
      ]
     },
     "metadata": {},
     "output_type": "display_data"
    },
    {
     "name": "stdout",
     "output_type": "stream",
     "text": [
      "Confusion Matrix (Act/Pred) for max f1 @ threshold = 0.19267827271475077: \n"
     ]
    },
    {
     "data": {
      "text/html": [
       "<div style=\"overflow:auto\"><table style=\"width:50%\"><tr><td><b></b></td>\n",
       "<td><b>Fully Paid</b></td>\n",
       "<td><b>Default</b></td>\n",
       "<td><b>Error</b></td>\n",
       "<td><b>Rate</b></td></tr>\n",
       "<tr><td>Fully Paid</td>\n",
       "<td>3745.0</td>\n",
       "<td>836.0</td>\n",
       "<td>0.1825</td>\n",
       "<td> (836.0/4581.0)</td></tr>\n",
       "<tr><td>Default</td>\n",
       "<td>413.0</td>\n",
       "<td>366.0</td>\n",
       "<td>0.5302</td>\n",
       "<td> (413.0/779.0)</td></tr>\n",
       "<tr><td>Total</td>\n",
       "<td>4158.0</td>\n",
       "<td>1202.0</td>\n",
       "<td>0.233</td>\n",
       "<td> (1249.0/5360.0)</td></tr></table></div>"
      ],
      "text/plain": [
       "            Fully Paid    Default    Error    Rate\n",
       "----------  ------------  ---------  -------  ---------------\n",
       "Fully Paid  3745          836        0.1825   (836.0/4581.0)\n",
       "Default     413           366        0.5302   (413.0/779.0)\n",
       "Total       4158          1202       0.233    (1249.0/5360.0)"
      ]
     },
     "metadata": {},
     "output_type": "display_data"
    },
    {
     "name": "stdout",
     "output_type": "stream",
     "text": [
      "\n"
     ]
    }
   ],
   "source": [
    "gbm_model.varimp_plot()\n",
    "print(gbm_model.confusion_matrix(valid = True))"
   ]
  },
  {
   "cell_type": "markdown",
   "metadata": {},
   "source": [
    "# Scoring\n",
    "\n",
    "Use your model to predict on the test dataset (or new data)."
   ]
  },
  {
   "cell_type": "code",
   "execution_count": 66,
   "metadata": {},
   "outputs": [
    {
     "name": "stdout",
     "output_type": "stream",
     "text": [
      "gbm prediction progress: |████████████████████████████████████████████████| 100%\n"
     ]
    }
   ],
   "source": [
    "pred = gbm_model.predict(test)"
   ]
  },
  {
   "cell_type": "code",
   "execution_count": 67,
   "metadata": {},
   "outputs": [
    {
     "data": {
      "text/html": [
       "<table>\n",
       "<thead>\n",
       "<tr><th>predict   </th><th style=\"text-align: right;\">  Fully Paid</th><th style=\"text-align: right;\">  Default</th></tr>\n",
       "</thead>\n",
       "<tbody>\n",
       "<tr><td>Fully Paid</td><td style=\"text-align: right;\">    0.847003</td><td style=\"text-align: right;\"> 0.152997</td></tr>\n",
       "<tr><td>Fully Paid</td><td style=\"text-align: right;\">    0.898982</td><td style=\"text-align: right;\"> 0.101018</td></tr>\n",
       "<tr><td>Default   </td><td style=\"text-align: right;\">    0.773261</td><td style=\"text-align: right;\"> 0.226739</td></tr>\n",
       "</tbody>\n",
       "</table>"
      ]
     },
     "metadata": {},
     "output_type": "display_data"
    },
    {
     "data": {
      "text/plain": []
     },
     "execution_count": 67,
     "metadata": {},
     "output_type": "execute_result"
    }
   ],
   "source": [
    "pred.head(rows=3)"
   ]
  },
  {
   "cell_type": "markdown",
   "metadata": {},
   "source": [
    "We can verify the cutoff used to decide what will be Fully Paid and what will be Default by looking at the F1 score threshold."
   ]
  },
  {
   "cell_type": "code",
   "execution_count": 68,
   "metadata": {},
   "outputs": [
    {
     "data": {
      "text/plain": [
       "'threshold, F1 score : [0.19267827271475077, 0.3695103483089349]'"
      ]
     },
     "execution_count": 68,
     "metadata": {},
     "output_type": "execute_result"
    }
   ],
   "source": [
    "('threshold, F1 score : {0}').format(gbm_model.F1(valid=True)[0])"
   ]
  },
  {
   "cell_type": "markdown",
   "metadata": {},
   "source": [
    "If you want to take a look at the actual results versus what the algo predicted you can cbind the predictions to the  test dataset's prediction column."
   ]
  },
  {
   "cell_type": "code",
   "execution_count": 69,
   "metadata": {},
   "outputs": [
    {
     "data": {
      "text/html": [
       "<table>\n",
       "<thead>\n",
       "<tr><th>loan_result  </th><th>predict   </th><th style=\"text-align: right;\">  Fully Paid</th><th style=\"text-align: right;\">  Default</th></tr>\n",
       "</thead>\n",
       "<tbody>\n",
       "<tr><td>Fully Paid   </td><td>Fully Paid</td><td style=\"text-align: right;\">    0.847003</td><td style=\"text-align: right;\"> 0.152997</td></tr>\n",
       "<tr><td>Fully Paid   </td><td>Fully Paid</td><td style=\"text-align: right;\">    0.898982</td><td style=\"text-align: right;\"> 0.101018</td></tr>\n",
       "<tr><td>Fully Paid   </td><td>Default   </td><td style=\"text-align: right;\">    0.773261</td><td style=\"text-align: right;\"> 0.226739</td></tr>\n",
       "</tbody>\n",
       "</table>"
      ]
     },
     "metadata": {},
     "output_type": "display_data"
    },
    {
     "data": {
      "text/plain": []
     },
     "execution_count": 69,
     "metadata": {},
     "output_type": "execute_result"
    }
   ],
   "source": [
    "test['loan_result'].cbind(pred).head(rows=3)"
   ]
  },
  {
   "cell_type": "markdown",
   "metadata": {},
   "source": [
    "# Saving Models\n",
    "\n",
    "We can now save our model a binary model that we can use the next time we launch our H2O cluster (note: the saved model must be used with the same version of H2O that it was created with). "
   ]
  },
  {
   "cell_type": "code",
   "execution_count": 70,
   "metadata": {},
   "outputs": [],
   "source": [
    "# h2o.save_model(model=gbm_model)"
   ]
  },
  {
   "cell_type": "markdown",
   "metadata": {},
   "source": [
    "----------------------------------------------------------------------------------------------------------------\n",
    "# Hands-on Part II<a id='part2'></a>"
   ]
  },
  {
   "cell_type": "markdown",
   "metadata": {},
   "source": [
    "### Grid Search\n",
    "\n",
    "Now that we've gone through the process of manually training models, let's learn how to speed up the process and make use of H2O's Grid Search to train a bunch of models.\n",
    "\n",
    "H2O offers two types of grid search -- `Cartesian` and `RandomDiscrete`. Cartesian is the traditional, exhaustive, grid search, which searches over all the combinations of model hyperparameters. Random Grid Search will sample sets of model hyperparameters randomly for some specified period of time or constraint.\n",
    "\n",
    "We will continue on with the GBM algorithm to demonstrate H2O's grid search functionality."
   ]
  },
  {
   "cell_type": "markdown",
   "metadata": {},
   "source": [
    "### Cartesian Grid Search\n",
    "We first need to define a grid of GBM model hyperparameters. For this particular example, we will grid over the following model parameters:\n",
    "\n",
    "* [learn_rate](http://docs.h2o.ai/h2o/latest-stable/h2o-docs/data-science/algo-params/learn_rate.html)\n",
    "* [max_depth](http://docs.h2o.ai/h2o/latest-stable/h2o-docs/data-science/algo-params/max_depth.html)\n",
    "* [ntrees](http://docs.h2o.ai/h2o/latest-stable/h2o-docs/data-science/algo-params/ntrees.html)"
   ]
  },
  {
   "cell_type": "code",
   "execution_count": 71,
   "metadata": {},
   "outputs": [],
   "source": [
    "from h2o.grid.grid_search import H2OGridSearch\n",
    "\n",
    "gbm_hyperparams = {'learn_rate': [.01, .1, .5], \n",
    "                'max_depth': [3, 5, 9],\n",
    "                'ntrees': [50, 200, 500]}"
   ]
  },
  {
   "cell_type": "markdown",
   "metadata": {},
   "source": [
    "#### Train and validate a grid of GBMs"
   ]
  },
  {
   "cell_type": "code",
   "execution_count": 72,
   "metadata": {},
   "outputs": [
    {
     "name": "stdout",
     "output_type": "stream",
     "text": [
      "gbm Grid Build progress: |████████████████████████████████████████████████| 100%\n",
      "156.60505294799805\n"
     ]
    }
   ],
   "source": [
    "import time\n",
    "grid_id_name = 'gbm_cartesian'\n",
    "model_to_grid = H2OGradientBoostingEstimator(distribution = 'bernoulli', seed=1234)\n",
    "\n",
    "gbm_grid_cart = H2OGridSearch(model=model_to_grid,\n",
    "                          grid_id=grid_id_name,\n",
    "                          hyper_params=gbm_hyperparams)\n",
    "\n",
    "start = time.time()\n",
    "gbm_grid_cart.train(x=predictor_columns, y=target, training_frame=train, validation_frame=valid, seed=1234)\n",
    "end = time.time()\n",
    "\n",
    "print(end-start)"
   ]
  },
  {
   "cell_type": "markdown",
   "metadata": {},
   "source": [
    "#### Compare model performance\n",
    "To compare the model performance among all the models in a grid, sorted by a particular metric (e.g. AUC), you can use the `get_grid` method."
   ]
  },
  {
   "cell_type": "code",
   "execution_count": 73,
   "metadata": {},
   "outputs": [],
   "source": [
    "gbm_grid_cart = gbm_grid_cart.get_grid(sort_by='auc', decreasing=True)"
   ]
  },
  {
   "cell_type": "code",
   "execution_count": 74,
   "metadata": {},
   "outputs": [
    {
     "name": "stdout",
     "output_type": "stream",
     "text": [
      "     learn_rate max_depth ntrees               model_ids                 auc\n",
      "0          0.01         3    500  gbm_cartesian_model_18  0.7165831745175067\n",
      "1           0.1         3     50   gbm_cartesian_model_1  0.7165031711324248\n",
      "2           0.1         3    200  gbm_cartesian_model_10  0.7163965466559846\n",
      "3          0.01         5    500  gbm_cartesian_model_21  0.7127302619319235\n",
      "4           0.1         5     50   gbm_cartesian_model_4  0.7122954974767409\n",
      "5           0.1         3    500  gbm_cartesian_model_19   0.708475931310859\n",
      "6           0.5         3     50   gbm_cartesian_model_2   0.707145016853953\n",
      "7          0.01         3    200   gbm_cartesian_model_9  0.7066347325659174\n",
      "8          0.01         5    200  gbm_cartesian_model_12  0.7066257654614598\n",
      "9          0.01         5     50   gbm_cartesian_model_3   0.701742896862326\n",
      "10          0.1         5    200  gbm_cartesian_model_13  0.7011199633245427\n",
      "11         0.01         3     50   gbm_cartesian_model_0  0.6963766452885293\n",
      "12         0.01         9    200  gbm_cartesian_model_15   0.695289383873055\n",
      "13         0.01         9     50   gbm_cartesian_model_6  0.6940812066584113\n",
      "14         0.01         9    500  gbm_cartesian_model_24  0.6913996220925915\n",
      "15          0.1         9     50   gbm_cartesian_model_7  0.6903923640621992\n",
      "16          0.5         3    200  gbm_cartesian_model_11   0.679025578385243\n",
      "17          0.1         5    500  gbm_cartesian_model_22  0.6788861679331301\n",
      "18          0.5         5     50   gbm_cartesian_model_5  0.6755384956393251\n",
      "19          0.1         9    200  gbm_cartesian_model_16  0.6689577618555629\n",
      "20          0.5         3    500  gbm_cartesian_model_20  0.6616326182908194\n",
      "21          0.1         9    500  gbm_cartesian_model_25   0.654409195317266\n",
      "22          0.5         5    200  gbm_cartesian_model_14  0.6537240524923086\n",
      "23          0.5         9    200  gbm_cartesian_model_17  0.6456896670093782\n",
      "24          0.5         5    500  gbm_cartesian_model_23  0.6451236185404973\n",
      "25          0.5         9     50   gbm_cartesian_model_8  0.6361552530839134\n",
      "26          0.5         9    500  gbm_cartesian_model_26  0.6164449970422566\n",
      "\n"
     ]
    }
   ],
   "source": [
    "print(gbm_grid_cart)"
   ]
  },
  {
   "cell_type": "code",
   "execution_count": 75,
   "metadata": {},
   "outputs": [
    {
     "name": "stdout",
     "output_type": "stream",
     "text": [
      "Model Details\n",
      "=============\n",
      "H2OGradientBoostingEstimator :  Gradient Boosting Machine\n",
      "Model Key:  gbm_cartesian_model_18\n",
      "\n",
      "\n",
      "ModelMetricsBinomial: gbm\n",
      "** Reported on train data. **\n",
      "\n",
      "MSE: 0.11325024427648815\n",
      "RMSE: 0.33652673634718555\n",
      "LogLoss: 0.37315504150721474\n",
      "Mean Per-Class Error: 0.31452935078333666\n",
      "AUC: 0.7531002800192689\n",
      "Gini: 0.5062005600385378\n",
      "Confusion Matrix (Act/Pred) for max f1 @ threshold = 0.1761464520702621: \n"
     ]
    },
    {
     "data": {
      "text/html": [
       "<div style=\"overflow:auto\"><table style=\"width:50%\"><tr><td><b></b></td>\n",
       "<td><b>Fully Paid</b></td>\n",
       "<td><b>Default</b></td>\n",
       "<td><b>Error</b></td>\n",
       "<td><b>Rate</b></td></tr>\n",
       "<tr><td>Fully Paid</td>\n",
       "<td>17190.0</td>\n",
       "<td>4449.0</td>\n",
       "<td>0.2056</td>\n",
       "<td> (4449.0/21639.0)</td></tr>\n",
       "<tr><td>Default</td>\n",
       "<td>1704.0</td>\n",
       "<td>2157.0</td>\n",
       "<td>0.4413</td>\n",
       "<td> (1704.0/3861.0)</td></tr>\n",
       "<tr><td>Total</td>\n",
       "<td>18894.0</td>\n",
       "<td>6606.0</td>\n",
       "<td>0.2413</td>\n",
       "<td> (6153.0/25500.0)</td></tr></table></div>"
      ],
      "text/plain": [
       "            Fully Paid    Default    Error    Rate\n",
       "----------  ------------  ---------  -------  ----------------\n",
       "Fully Paid  17190         4449       0.2056   (4449.0/21639.0)\n",
       "Default     1704          2157       0.4413   (1704.0/3861.0)\n",
       "Total       18894         6606       0.2413   (6153.0/25500.0)"
      ]
     },
     "metadata": {},
     "output_type": "display_data"
    },
    {
     "name": "stdout",
     "output_type": "stream",
     "text": [
      "Maximum Metrics: Maximum metrics at their respective thresholds\n",
      "\n"
     ]
    },
    {
     "data": {
      "text/html": [
       "<div style=\"overflow:auto\"><table style=\"width:50%\"><tr><td><b>metric</b></td>\n",
       "<td><b>threshold</b></td>\n",
       "<td><b>value</b></td>\n",
       "<td><b>idx</b></td></tr>\n",
       "<tr><td>max f1</td>\n",
       "<td>0.1761465</td>\n",
       "<td>0.4121525</td>\n",
       "<td>225.0</td></tr>\n",
       "<tr><td>max f2</td>\n",
       "<td>0.1202026</td>\n",
       "<td>0.5480929</td>\n",
       "<td>289.0</td></tr>\n",
       "<tr><td>max f0point5</td>\n",
       "<td>0.2865419</td>\n",
       "<td>0.4121196</td>\n",
       "<td>141.0</td></tr>\n",
       "<tr><td>max accuracy</td>\n",
       "<td>0.4019588</td>\n",
       "<td>0.8543137</td>\n",
       "<td>72.0</td></tr>\n",
       "<tr><td>max precision</td>\n",
       "<td>0.7392909</td>\n",
       "<td>1.0</td>\n",
       "<td>0.0</td></tr>\n",
       "<tr><td>max recall</td>\n",
       "<td>0.0496158</td>\n",
       "<td>1.0</td>\n",
       "<td>387.0</td></tr>\n",
       "<tr><td>max specificity</td>\n",
       "<td>0.7392909</td>\n",
       "<td>1.0</td>\n",
       "<td>0.0</td></tr>\n",
       "<tr><td>max absolute_mcc</td>\n",
       "<td>0.2205454</td>\n",
       "<td>0.2951246</td>\n",
       "<td>189.0</td></tr>\n",
       "<tr><td>max min_per_class_accuracy</td>\n",
       "<td>0.1429810</td>\n",
       "<td>0.6834881</td>\n",
       "<td>261.0</td></tr>\n",
       "<tr><td>max mean_per_class_accuracy</td>\n",
       "<td>0.1335628</td>\n",
       "<td>0.6854706</td>\n",
       "<td>272.0</td></tr></table></div>"
      ],
      "text/plain": [
       "metric                       threshold    value     idx\n",
       "---------------------------  -----------  --------  -----\n",
       "max f1                       0.176146     0.412152  225\n",
       "max f2                       0.120203     0.548093  289\n",
       "max f0point5                 0.286542     0.41212   141\n",
       "max accuracy                 0.401959     0.854314  72\n",
       "max precision                0.739291     1         0\n",
       "max recall                   0.0496158    1         387\n",
       "max specificity              0.739291     1         0\n",
       "max absolute_mcc             0.220545     0.295125  189\n",
       "max min_per_class_accuracy   0.142981     0.683488  261\n",
       "max mean_per_class_accuracy  0.133563     0.685471  272"
      ]
     },
     "metadata": {},
     "output_type": "display_data"
    },
    {
     "name": "stdout",
     "output_type": "stream",
     "text": [
      "Gains/Lift Table: Avg response rate: 15.14 %\n",
      "\n"
     ]
    },
    {
     "data": {
      "text/html": [
       "<div style=\"overflow:auto\"><table style=\"width:50%\"><tr><td><b></b></td>\n",
       "<td><b>group</b></td>\n",
       "<td><b>cumulative_data_fraction</b></td>\n",
       "<td><b>lower_threshold</b></td>\n",
       "<td><b>lift</b></td>\n",
       "<td><b>cumulative_lift</b></td>\n",
       "<td><b>response_rate</b></td>\n",
       "<td><b>cumulative_response_rate</b></td>\n",
       "<td><b>capture_rate</b></td>\n",
       "<td><b>cumulative_capture_rate</b></td>\n",
       "<td><b>gain</b></td>\n",
       "<td><b>cumulative_gain</b></td></tr>\n",
       "<tr><td></td>\n",
       "<td>1</td>\n",
       "<td>0.01</td>\n",
       "<td>0.4839134</td>\n",
       "<td>4.4289044</td>\n",
       "<td>4.4289044</td>\n",
       "<td>0.6705882</td>\n",
       "<td>0.6705882</td>\n",
       "<td>0.0442890</td>\n",
       "<td>0.0442890</td>\n",
       "<td>342.8904429</td>\n",
       "<td>342.8904429</td></tr>\n",
       "<tr><td></td>\n",
       "<td>2</td>\n",
       "<td>0.02</td>\n",
       "<td>0.4399643</td>\n",
       "<td>3.7296037</td>\n",
       "<td>4.0792541</td>\n",
       "<td>0.5647059</td>\n",
       "<td>0.6176471</td>\n",
       "<td>0.0372960</td>\n",
       "<td>0.0815851</td>\n",
       "<td>272.9603730</td>\n",
       "<td>307.9254079</td></tr>\n",
       "<tr><td></td>\n",
       "<td>3</td>\n",
       "<td>0.03</td>\n",
       "<td>0.4038075</td>\n",
       "<td>3.5483035</td>\n",
       "<td>3.9022706</td>\n",
       "<td>0.5372549</td>\n",
       "<td>0.5908497</td>\n",
       "<td>0.0354830</td>\n",
       "<td>0.1170681</td>\n",
       "<td>254.8303548</td>\n",
       "<td>290.2270569</td></tr>\n",
       "<tr><td></td>\n",
       "<td>4</td>\n",
       "<td>0.04</td>\n",
       "<td>0.3765660</td>\n",
       "<td>3.0044030</td>\n",
       "<td>3.6778037</td>\n",
       "<td>0.4549020</td>\n",
       "<td>0.5568627</td>\n",
       "<td>0.0300440</td>\n",
       "<td>0.1471121</td>\n",
       "<td>200.4403004</td>\n",
       "<td>267.7803678</td></tr>\n",
       "<tr><td></td>\n",
       "<td>5</td>\n",
       "<td>0.05</td>\n",
       "<td>0.3568678</td>\n",
       "<td>2.7195027</td>\n",
       "<td>3.4861435</td>\n",
       "<td>0.4117647</td>\n",
       "<td>0.5278431</td>\n",
       "<td>0.0271950</td>\n",
       "<td>0.1743072</td>\n",
       "<td>171.9502720</td>\n",
       "<td>248.6143486</td></tr>\n",
       "<tr><td></td>\n",
       "<td>6</td>\n",
       "<td>0.1</td>\n",
       "<td>0.2927688</td>\n",
       "<td>2.4864025</td>\n",
       "<td>2.9862730</td>\n",
       "<td>0.3764706</td>\n",
       "<td>0.4521569</td>\n",
       "<td>0.1243201</td>\n",
       "<td>0.2986273</td>\n",
       "<td>148.6402486</td>\n",
       "<td>198.6272986</td></tr>\n",
       "<tr><td></td>\n",
       "<td>7</td>\n",
       "<td>0.15</td>\n",
       "<td>0.2431844</td>\n",
       "<td>1.9839420</td>\n",
       "<td>2.6521627</td>\n",
       "<td>0.3003922</td>\n",
       "<td>0.4015686</td>\n",
       "<td>0.0991971</td>\n",
       "<td>0.3978244</td>\n",
       "<td>98.3941984</td>\n",
       "<td>165.2162652</td></tr>\n",
       "<tr><td></td>\n",
       "<td>8</td>\n",
       "<td>0.2</td>\n",
       "<td>0.2047999</td>\n",
       "<td>1.5591816</td>\n",
       "<td>2.3789174</td>\n",
       "<td>0.2360784</td>\n",
       "<td>0.3601961</td>\n",
       "<td>0.0779591</td>\n",
       "<td>0.4757835</td>\n",
       "<td>55.9181559</td>\n",
       "<td>137.8917379</td></tr>\n",
       "<tr><td></td>\n",
       "<td>9</td>\n",
       "<td>0.3</td>\n",
       "<td>0.1616422</td>\n",
       "<td>1.3131313</td>\n",
       "<td>2.0236554</td>\n",
       "<td>0.1988235</td>\n",
       "<td>0.3064052</td>\n",
       "<td>0.1313131</td>\n",
       "<td>0.6070966</td>\n",
       "<td>31.3131313</td>\n",
       "<td>102.3655357</td></tr>\n",
       "<tr><td></td>\n",
       "<td>10</td>\n",
       "<td>0.4</td>\n",
       "<td>0.1369560</td>\n",
       "<td>1.0696711</td>\n",
       "<td>1.7851593</td>\n",
       "<td>0.1619608</td>\n",
       "<td>0.2702941</td>\n",
       "<td>0.1069671</td>\n",
       "<td>0.7140637</td>\n",
       "<td>6.9671070</td>\n",
       "<td>78.5159285</td></tr>\n",
       "<tr><td></td>\n",
       "<td>11</td>\n",
       "<td>0.5</td>\n",
       "<td>0.1202810</td>\n",
       "<td>0.8443408</td>\n",
       "<td>1.5969956</td>\n",
       "<td>0.1278431</td>\n",
       "<td>0.2418039</td>\n",
       "<td>0.0844341</td>\n",
       "<td>0.7984978</td>\n",
       "<td>-15.5659156</td>\n",
       "<td>59.6995597</td></tr>\n",
       "<tr><td></td>\n",
       "<td>12</td>\n",
       "<td>0.6</td>\n",
       "<td>0.1069056</td>\n",
       "<td>0.6734007</td>\n",
       "<td>1.4430631</td>\n",
       "<td>0.1019608</td>\n",
       "<td>0.2184967</td>\n",
       "<td>0.0673401</td>\n",
       "<td>0.8658379</td>\n",
       "<td>-32.6599327</td>\n",
       "<td>44.3063110</td></tr>\n",
       "<tr><td></td>\n",
       "<td>13</td>\n",
       "<td>0.7</td>\n",
       "<td>0.0941000</td>\n",
       "<td>0.5361305</td>\n",
       "<td>1.3135013</td>\n",
       "<td>0.0811765</td>\n",
       "<td>0.1988796</td>\n",
       "<td>0.0536131</td>\n",
       "<td>0.9194509</td>\n",
       "<td>-46.3869464</td>\n",
       "<td>31.3501314</td></tr>\n",
       "<tr><td></td>\n",
       "<td>14</td>\n",
       "<td>0.8</td>\n",
       "<td>0.0815409</td>\n",
       "<td>0.3470603</td>\n",
       "<td>1.1926962</td>\n",
       "<td>0.0525490</td>\n",
       "<td>0.1805882</td>\n",
       "<td>0.0347060</td>\n",
       "<td>0.9541570</td>\n",
       "<td>-65.2939653</td>\n",
       "<td>19.2696193</td></tr>\n",
       "<tr><td></td>\n",
       "<td>15</td>\n",
       "<td>0.9</td>\n",
       "<td>0.0678800</td>\n",
       "<td>0.2900803</td>\n",
       "<td>1.0924055</td>\n",
       "<td>0.0439216</td>\n",
       "<td>0.1654031</td>\n",
       "<td>0.0290080</td>\n",
       "<td>0.9831650</td>\n",
       "<td>-70.9919710</td>\n",
       "<td>9.2405537</td></tr>\n",
       "<tr><td></td>\n",
       "<td>16</td>\n",
       "<td>1.0</td>\n",
       "<td>0.0290953</td>\n",
       "<td>0.1683502</td>\n",
       "<td>1.0</td>\n",
       "<td>0.0254902</td>\n",
       "<td>0.1514118</td>\n",
       "<td>0.0168350</td>\n",
       "<td>1.0</td>\n",
       "<td>-83.1649832</td>\n",
       "<td>0.0</td></tr></table></div>"
      ],
      "text/plain": [
       "    group    cumulative_data_fraction    lower_threshold    lift      cumulative_lift    response_rate    cumulative_response_rate    capture_rate    cumulative_capture_rate    gain      cumulative_gain\n",
       "--  -------  --------------------------  -----------------  --------  -----------------  ---------------  --------------------------  --------------  -------------------------  --------  -----------------\n",
       "    1        0.01                        0.483913           4.4289    4.4289             0.670588         0.670588                    0.044289        0.044289                   342.89    342.89\n",
       "    2        0.02                        0.439964           3.7296    4.07925            0.564706         0.617647                    0.037296        0.0815851                  272.96    307.925\n",
       "    3        0.03                        0.403808           3.5483    3.90227            0.537255         0.59085                     0.035483        0.117068                   254.83    290.227\n",
       "    4        0.04                        0.376566           3.0044    3.6778             0.454902         0.556863                    0.030044        0.147112                   200.44    267.78\n",
       "    5        0.05                        0.356868           2.7195    3.48614            0.411765         0.527843                    0.027195        0.174307                   171.95    248.614\n",
       "    6        0.1                         0.292769           2.4864    2.98627            0.376471         0.452157                    0.12432         0.298627                   148.64    198.627\n",
       "    7        0.15                        0.243184           1.98394   2.65216            0.300392         0.401569                    0.0991971       0.397824                   98.3942   165.216\n",
       "    8        0.2                         0.2048             1.55918   2.37892            0.236078         0.360196                    0.0779591       0.475783                   55.9182   137.892\n",
       "    9        0.3                         0.161642           1.31313   2.02366            0.198824         0.306405                    0.131313        0.607097                   31.3131   102.366\n",
       "    10       0.4                         0.136956           1.06967   1.78516            0.161961         0.270294                    0.106967        0.714064                   6.96711   78.5159\n",
       "    11       0.5                         0.120281           0.844341  1.597              0.127843         0.241804                    0.0844341       0.798498                   -15.5659  59.6996\n",
       "    12       0.6                         0.106906           0.673401  1.44306            0.101961         0.218497                    0.0673401       0.865838                   -32.6599  44.3063\n",
       "    13       0.7                         0.0941             0.536131  1.3135             0.0811765        0.19888                     0.0536131       0.919451                   -46.3869  31.3501\n",
       "    14       0.8                         0.0815409          0.34706   1.1927             0.052549         0.180588                    0.034706        0.954157                   -65.294   19.2696\n",
       "    15       0.9                         0.06788            0.29008   1.09241            0.0439216        0.165403                    0.029008        0.983165                   -70.992   9.24055\n",
       "    16       1                           0.0290953          0.16835   1                  0.0254902        0.151412                    0.016835        1                          -83.165   0"
      ]
     },
     "metadata": {},
     "output_type": "display_data"
    },
    {
     "name": "stdout",
     "output_type": "stream",
     "text": [
      "\n",
      "\n",
      "ModelMetricsBinomial: gbm\n",
      "** Reported on validation data. **\n",
      "\n",
      "MSE: 0.11392746030674214\n",
      "RMSE: 0.3375314212139992\n",
      "LogLoss: 0.3772159089554665\n",
      "Mean Per-Class Error: 0.33905350531118794\n",
      "AUC: 0.7165831745175067\n",
      "Gini: 0.4331663490350135\n",
      "Confusion Matrix (Act/Pred) for max f1 @ threshold = 0.1799337143948614: \n"
     ]
    },
    {
     "data": {
      "text/html": [
       "<div style=\"overflow:auto\"><table style=\"width:50%\"><tr><td><b></b></td>\n",
       "<td><b>Fully Paid</b></td>\n",
       "<td><b>Default</b></td>\n",
       "<td><b>Error</b></td>\n",
       "<td><b>Rate</b></td></tr>\n",
       "<tr><td>Fully Paid</td>\n",
       "<td>3662.0</td>\n",
       "<td>919.0</td>\n",
       "<td>0.2006</td>\n",
       "<td> (919.0/4581.0)</td></tr>\n",
       "<tr><td>Default</td>\n",
       "<td>391.0</td>\n",
       "<td>388.0</td>\n",
       "<td>0.5019</td>\n",
       "<td> (391.0/779.0)</td></tr>\n",
       "<tr><td>Total</td>\n",
       "<td>4053.0</td>\n",
       "<td>1307.0</td>\n",
       "<td>0.2444</td>\n",
       "<td> (1310.0/5360.0)</td></tr></table></div>"
      ],
      "text/plain": [
       "            Fully Paid    Default    Error    Rate\n",
       "----------  ------------  ---------  -------  ---------------\n",
       "Fully Paid  3662          919        0.2006   (919.0/4581.0)\n",
       "Default     391           388        0.5019   (391.0/779.0)\n",
       "Total       4053          1307       0.2444   (1310.0/5360.0)"
      ]
     },
     "metadata": {},
     "output_type": "display_data"
    },
    {
     "name": "stdout",
     "output_type": "stream",
     "text": [
      "Maximum Metrics: Maximum metrics at their respective thresholds\n",
      "\n"
     ]
    },
    {
     "data": {
      "text/html": [
       "<div style=\"overflow:auto\"><table style=\"width:50%\"><tr><td><b>metric</b></td>\n",
       "<td><b>threshold</b></td>\n",
       "<td><b>value</b></td>\n",
       "<td><b>idx</b></td></tr>\n",
       "<tr><td>max f1</td>\n",
       "<td>0.1799337</td>\n",
       "<td>0.3720038</td>\n",
       "<td>206.0</td></tr>\n",
       "<tr><td>max f2</td>\n",
       "<td>0.1031409</td>\n",
       "<td>0.5128403</td>\n",
       "<td>307.0</td></tr>\n",
       "<tr><td>max f0point5</td>\n",
       "<td>0.2898730</td>\n",
       "<td>0.3509956</td>\n",
       "<td>122.0</td></tr>\n",
       "<tr><td>max accuracy</td>\n",
       "<td>0.5141292</td>\n",
       "<td>0.8569030</td>\n",
       "<td>17.0</td></tr>\n",
       "<tr><td>max precision</td>\n",
       "<td>0.6853600</td>\n",
       "<td>1.0</td>\n",
       "<td>0.0</td></tr>\n",
       "<tr><td>max recall</td>\n",
       "<td>0.0500415</td>\n",
       "<td>1.0</td>\n",
       "<td>387.0</td></tr>\n",
       "<tr><td>max specificity</td>\n",
       "<td>0.6853600</td>\n",
       "<td>1.0</td>\n",
       "<td>0.0</td></tr>\n",
       "<tr><td>max absolute_mcc</td>\n",
       "<td>0.1799337</td>\n",
       "<td>0.2441496</td>\n",
       "<td>206.0</td></tr>\n",
       "<tr><td>max min_per_class_accuracy</td>\n",
       "<td>0.1376923</td>\n",
       "<td>0.6572529</td>\n",
       "<td>255.0</td></tr>\n",
       "<tr><td>max mean_per_class_accuracy</td>\n",
       "<td>0.1406474</td>\n",
       "<td>0.6609465</td>\n",
       "<td>251.0</td></tr></table></div>"
      ],
      "text/plain": [
       "metric                       threshold    value     idx\n",
       "---------------------------  -----------  --------  -----\n",
       "max f1                       0.179934     0.372004  206\n",
       "max f2                       0.103141     0.51284   307\n",
       "max f0point5                 0.289873     0.350996  122\n",
       "max accuracy                 0.514129     0.856903  17\n",
       "max precision                0.68536      1         0\n",
       "max recall                   0.0500415    1         387\n",
       "max specificity              0.68536      1         0\n",
       "max absolute_mcc             0.179934     0.24415   206\n",
       "max min_per_class_accuracy   0.137692     0.657253  255\n",
       "max mean_per_class_accuracy  0.140647     0.660946  251"
      ]
     },
     "metadata": {},
     "output_type": "display_data"
    },
    {
     "name": "stdout",
     "output_type": "stream",
     "text": [
      "Gains/Lift Table: Avg response rate: 14.53 %\n",
      "\n"
     ]
    },
    {
     "data": {
      "text/html": [
       "<div style=\"overflow:auto\"><table style=\"width:50%\"><tr><td><b></b></td>\n",
       "<td><b>group</b></td>\n",
       "<td><b>cumulative_data_fraction</b></td>\n",
       "<td><b>lower_threshold</b></td>\n",
       "<td><b>lift</b></td>\n",
       "<td><b>cumulative_lift</b></td>\n",
       "<td><b>response_rate</b></td>\n",
       "<td><b>cumulative_response_rate</b></td>\n",
       "<td><b>capture_rate</b></td>\n",
       "<td><b>cumulative_capture_rate</b></td>\n",
       "<td><b>gain</b></td>\n",
       "<td><b>cumulative_gain</b></td></tr>\n",
       "<tr><td></td>\n",
       "<td>1</td>\n",
       "<td>0.0100746</td>\n",
       "<td>0.4657955</td>\n",
       "<td>3.8225645</td>\n",
       "<td>3.8225645</td>\n",
       "<td>0.5555556</td>\n",
       "<td>0.5555556</td>\n",
       "<td>0.0385109</td>\n",
       "<td>0.0385109</td>\n",
       "<td>282.2564541</td>\n",
       "<td>282.2564541</td></tr>\n",
       "<tr><td></td>\n",
       "<td>2</td>\n",
       "<td>0.0201493</td>\n",
       "<td>0.4282946</td>\n",
       "<td>3.4403081</td>\n",
       "<td>3.6314363</td>\n",
       "<td>0.5</td>\n",
       "<td>0.5277778</td>\n",
       "<td>0.0346598</td>\n",
       "<td>0.0731707</td>\n",
       "<td>244.0308087</td>\n",
       "<td>263.1436314</td></tr>\n",
       "<tr><td></td>\n",
       "<td>3</td>\n",
       "<td>0.0300373</td>\n",
       "<td>0.4052576</td>\n",
       "<td>2.5964589</td>\n",
       "<td>3.2907295</td>\n",
       "<td>0.3773585</td>\n",
       "<td>0.4782609</td>\n",
       "<td>0.0256739</td>\n",
       "<td>0.0988447</td>\n",
       "<td>159.6458934</td>\n",
       "<td>229.0729475</td></tr>\n",
       "<tr><td></td>\n",
       "<td>4</td>\n",
       "<td>0.0401119</td>\n",
       "<td>0.3788403</td>\n",
       "<td>2.6757952</td>\n",
       "<td>3.1362809</td>\n",
       "<td>0.3888889</td>\n",
       "<td>0.4558140</td>\n",
       "<td>0.0269576</td>\n",
       "<td>0.1258023</td>\n",
       "<td>167.5795179</td>\n",
       "<td>213.6280861</td></tr>\n",
       "<tr><td></td>\n",
       "<td>5</td>\n",
       "<td>0.05</td>\n",
       "<td>0.3583882</td>\n",
       "<td>2.0771671</td>\n",
       "<td>2.9268293</td>\n",
       "<td>0.3018868</td>\n",
       "<td>0.4253731</td>\n",
       "<td>0.0205392</td>\n",
       "<td>0.1463415</td>\n",
       "<td>107.7167147</td>\n",
       "<td>192.6829268</td></tr>\n",
       "<tr><td></td>\n",
       "<td>6</td>\n",
       "<td>0.1</td>\n",
       "<td>0.2911373</td>\n",
       "<td>2.3106547</td>\n",
       "<td>2.6187420</td>\n",
       "<td>0.3358209</td>\n",
       "<td>0.3805970</td>\n",
       "<td>0.1155327</td>\n",
       "<td>0.2618742</td>\n",
       "<td>131.0654685</td>\n",
       "<td>161.8741977</td></tr>\n",
       "<tr><td></td>\n",
       "<td>7</td>\n",
       "<td>0.15</td>\n",
       "<td>0.2401567</td>\n",
       "<td>1.7458280</td>\n",
       "<td>2.3277706</td>\n",
       "<td>0.2537313</td>\n",
       "<td>0.3383085</td>\n",
       "<td>0.0872914</td>\n",
       "<td>0.3491656</td>\n",
       "<td>74.5827985</td>\n",
       "<td>132.7770646</td></tr>\n",
       "<tr><td></td>\n",
       "<td>8</td>\n",
       "<td>0.2</td>\n",
       "<td>0.1998699</td>\n",
       "<td>1.5917843</td>\n",
       "<td>2.1437741</td>\n",
       "<td>0.2313433</td>\n",
       "<td>0.3115672</td>\n",
       "<td>0.0795892</td>\n",
       "<td>0.4287548</td>\n",
       "<td>59.1784339</td>\n",
       "<td>114.3774069</td></tr>\n",
       "<tr><td></td>\n",
       "<td>9</td>\n",
       "<td>0.3</td>\n",
       "<td>0.1584837</td>\n",
       "<td>1.2451861</td>\n",
       "<td>1.8442448</td>\n",
       "<td>0.1809701</td>\n",
       "<td>0.2680348</td>\n",
       "<td>0.1245186</td>\n",
       "<td>0.5532734</td>\n",
       "<td>24.5186136</td>\n",
       "<td>84.4244758</td></tr>\n",
       "<tr><td></td>\n",
       "<td>10</td>\n",
       "<td>0.4</td>\n",
       "<td>0.1348070</td>\n",
       "<td>1.1296534</td>\n",
       "<td>1.6655969</td>\n",
       "<td>0.1641791</td>\n",
       "<td>0.2420709</td>\n",
       "<td>0.1129653</td>\n",
       "<td>0.6662388</td>\n",
       "<td>12.9653402</td>\n",
       "<td>66.5596919</td></tr>\n",
       "<tr><td></td>\n",
       "<td>11</td>\n",
       "<td>0.5</td>\n",
       "<td>0.1187500</td>\n",
       "<td>0.8344031</td>\n",
       "<td>1.4993582</td>\n",
       "<td>0.1212687</td>\n",
       "<td>0.2179104</td>\n",
       "<td>0.0834403</td>\n",
       "<td>0.7496791</td>\n",
       "<td>-16.5596919</td>\n",
       "<td>49.9358151</td></tr>\n",
       "<tr><td></td>\n",
       "<td>12</td>\n",
       "<td>0.6</td>\n",
       "<td>0.1057683</td>\n",
       "<td>0.7702182</td>\n",
       "<td>1.3778348</td>\n",
       "<td>0.1119403</td>\n",
       "<td>0.2002488</td>\n",
       "<td>0.0770218</td>\n",
       "<td>0.8267009</td>\n",
       "<td>-22.9781772</td>\n",
       "<td>37.7834831</td></tr>\n",
       "<tr><td></td>\n",
       "<td>13</td>\n",
       "<td>0.7</td>\n",
       "<td>0.0936254</td>\n",
       "<td>0.7445443</td>\n",
       "<td>1.2873648</td>\n",
       "<td>0.1082090</td>\n",
       "<td>0.1871002</td>\n",
       "<td>0.0744544</td>\n",
       "<td>0.9011553</td>\n",
       "<td>-25.5455712</td>\n",
       "<td>28.7364753</td></tr>\n",
       "<tr><td></td>\n",
       "<td>14</td>\n",
       "<td>0.8</td>\n",
       "<td>0.0817946</td>\n",
       "<td>0.4364570</td>\n",
       "<td>1.1810013</td>\n",
       "<td>0.0634328</td>\n",
       "<td>0.1716418</td>\n",
       "<td>0.0436457</td>\n",
       "<td>0.9448010</td>\n",
       "<td>-56.3543004</td>\n",
       "<td>18.1001284</td></tr>\n",
       "<tr><td></td>\n",
       "<td>15</td>\n",
       "<td>0.9</td>\n",
       "<td>0.0680347</td>\n",
       "<td>0.3209243</td>\n",
       "<td>1.0854372</td>\n",
       "<td>0.0466418</td>\n",
       "<td>0.1577529</td>\n",
       "<td>0.0320924</td>\n",
       "<td>0.9768935</td>\n",
       "<td>-67.9075738</td>\n",
       "<td>8.5437170</td></tr>\n",
       "<tr><td></td>\n",
       "<td>16</td>\n",
       "<td>1.0</td>\n",
       "<td>0.0328069</td>\n",
       "<td>0.2310655</td>\n",
       "<td>1.0</td>\n",
       "<td>0.0335821</td>\n",
       "<td>0.1453358</td>\n",
       "<td>0.0231065</td>\n",
       "<td>1.0</td>\n",
       "<td>-76.8934531</td>\n",
       "<td>0.0</td></tr></table></div>"
      ],
      "text/plain": [
       "    group    cumulative_data_fraction    lower_threshold    lift      cumulative_lift    response_rate    cumulative_response_rate    capture_rate    cumulative_capture_rate    gain      cumulative_gain\n",
       "--  -------  --------------------------  -----------------  --------  -----------------  ---------------  --------------------------  --------------  -------------------------  --------  -----------------\n",
       "    1        0.0100746                   0.465795           3.82256   3.82256            0.555556         0.555556                    0.0385109       0.0385109                  282.256   282.256\n",
       "    2        0.0201493                   0.428295           3.44031   3.63144            0.5              0.527778                    0.0346598       0.0731707                  244.031   263.144\n",
       "    3        0.0300373                   0.405258           2.59646   3.29073            0.377358         0.478261                    0.0256739       0.0988447                  159.646   229.073\n",
       "    4        0.0401119                   0.37884            2.6758    3.13628            0.388889         0.455814                    0.0269576       0.125802                   167.58    213.628\n",
       "    5        0.05                        0.358388           2.07717   2.92683            0.301887         0.425373                    0.0205392       0.146341                   107.717   192.683\n",
       "    6        0.1                         0.291137           2.31065   2.61874            0.335821         0.380597                    0.115533        0.261874                   131.065   161.874\n",
       "    7        0.15                        0.240157           1.74583   2.32777            0.253731         0.338308                    0.0872914       0.349166                   74.5828   132.777\n",
       "    8        0.2                         0.19987            1.59178   2.14377            0.231343         0.311567                    0.0795892       0.428755                   59.1784   114.377\n",
       "    9        0.3                         0.158484           1.24519   1.84424            0.18097          0.268035                    0.124519        0.553273                   24.5186   84.4245\n",
       "    10       0.4                         0.134807           1.12965   1.6656             0.164179         0.242071                    0.112965        0.666239                   12.9653   66.5597\n",
       "    11       0.5                         0.11875            0.834403  1.49936            0.121269         0.21791                     0.0834403       0.749679                   -16.5597  49.9358\n",
       "    12       0.6                         0.105768           0.770218  1.37783            0.11194          0.200249                    0.0770218       0.826701                   -22.9782  37.7835\n",
       "    13       0.7                         0.0936254          0.744544  1.28736            0.108209         0.1871                      0.0744544       0.901155                   -25.5456  28.7365\n",
       "    14       0.8                         0.0817946          0.436457  1.181              0.0634328        0.171642                    0.0436457       0.944801                   -56.3543  18.1001\n",
       "    15       0.9                         0.0680347          0.320924  1.08544            0.0466418        0.157753                    0.0320924       0.976893                   -67.9076  8.54372\n",
       "    16       1                           0.0328069          0.231065  1                  0.0335821        0.145336                    0.0231065       1                          -76.8935  0"
      ]
     },
     "metadata": {},
     "output_type": "display_data"
    },
    {
     "name": "stdout",
     "output_type": "stream",
     "text": [
      "\n",
      "Scoring History: \n"
     ]
    },
    {
     "data": {
      "text/html": [
       "<div style=\"overflow:auto\"><table style=\"width:50%\"><tr><td><b></b></td>\n",
       "<td><b>timestamp</b></td>\n",
       "<td><b>duration</b></td>\n",
       "<td><b>number_of_trees</b></td>\n",
       "<td><b>training_rmse</b></td>\n",
       "<td><b>training_logloss</b></td>\n",
       "<td><b>training_auc</b></td>\n",
       "<td><b>training_lift</b></td>\n",
       "<td><b>training_classification_error</b></td>\n",
       "<td><b>validation_rmse</b></td>\n",
       "<td><b>validation_logloss</b></td>\n",
       "<td><b>validation_auc</b></td>\n",
       "<td><b>validation_lift</b></td>\n",
       "<td><b>validation_classification_error</b></td></tr>\n",
       "<tr><td></td>\n",
       "<td>2018-05-14 09:56:11</td>\n",
       "<td> 1 min  9.487 sec</td>\n",
       "<td>0.0</td>\n",
       "<td>0.3584498</td>\n",
       "<td>0.4251501</td>\n",
       "<td>0.5</td>\n",
       "<td>1.0</td>\n",
       "<td>0.8485882</td>\n",
       "<td>0.3524915</td>\n",
       "<td>0.4146778</td>\n",
       "<td>0.5</td>\n",
       "<td>1.0</td>\n",
       "<td>0.8546642</td></tr>\n",
       "<tr><td></td>\n",
       "<td>2018-05-14 09:56:11</td>\n",
       "<td> 1 min  9.501 sec</td>\n",
       "<td>1.0</td>\n",
       "<td>0.3582061</td>\n",
       "<td>0.4244733</td>\n",
       "<td>0.6764927</td>\n",
       "<td>3.0007586</td>\n",
       "<td>0.2554118</td>\n",
       "<td>0.3522787</td>\n",
       "<td>0.4140963</td>\n",
       "<td>0.6634224</td>\n",
       "<td>2.6381637</td>\n",
       "<td>0.2694030</td></tr>\n",
       "<tr><td></td>\n",
       "<td>2018-05-14 09:56:11</td>\n",
       "<td> 1 min  9.513 sec</td>\n",
       "<td>2.0</td>\n",
       "<td>0.3579671</td>\n",
       "<td>0.4238154</td>\n",
       "<td>0.6770536</td>\n",
       "<td>3.0007586</td>\n",
       "<td>0.2649412</td>\n",
       "<td>0.3520625</td>\n",
       "<td>0.4135102</td>\n",
       "<td>0.6653565</td>\n",
       "<td>2.6381637</td>\n",
       "<td>0.2615672</td></tr>\n",
       "<tr><td></td>\n",
       "<td>2018-05-14 09:56:11</td>\n",
       "<td> 1 min  9.526 sec</td>\n",
       "<td>3.0</td>\n",
       "<td>0.3577326</td>\n",
       "<td>0.4231754</td>\n",
       "<td>0.6770536</td>\n",
       "<td>3.0007586</td>\n",
       "<td>0.2649412</td>\n",
       "<td>0.3518585</td>\n",
       "<td>0.4129611</td>\n",
       "<td>0.6653565</td>\n",
       "<td>2.6381637</td>\n",
       "<td>0.2615672</td></tr>\n",
       "<tr><td></td>\n",
       "<td>2018-05-14 09:56:11</td>\n",
       "<td> 1 min  9.537 sec</td>\n",
       "<td>4.0</td>\n",
       "<td>0.3575026</td>\n",
       "<td>0.4225525</td>\n",
       "<td>0.6771438</td>\n",
       "<td>3.0007586</td>\n",
       "<td>0.2692941</td>\n",
       "<td>0.3516556</td>\n",
       "<td>0.4124189</td>\n",
       "<td>0.6654534</td>\n",
       "<td>2.6381637</td>\n",
       "<td>0.2664179</td></tr>\n",
       "<tr><td>---</td>\n",
       "<td>---</td>\n",
       "<td>---</td>\n",
       "<td>---</td>\n",
       "<td>---</td>\n",
       "<td>---</td>\n",
       "<td>---</td>\n",
       "<td>---</td>\n",
       "<td>---</td>\n",
       "<td>---</td>\n",
       "<td>---</td>\n",
       "<td>---</td>\n",
       "<td>---</td>\n",
       "<td>---</td></tr>\n",
       "<tr><td></td>\n",
       "<td>2018-05-14 09:56:15</td>\n",
       "<td> 1 min 13.349 sec</td>\n",
       "<td>144.0</td>\n",
       "<td>0.3442183</td>\n",
       "<td>0.3911656</td>\n",
       "<td>0.7228695</td>\n",
       "<td>4.0584945</td>\n",
       "<td>0.2688235</td>\n",
       "<td>0.3408493</td>\n",
       "<td>0.3862275</td>\n",
       "<td>0.7032725</td>\n",
       "<td>3.4403081</td>\n",
       "<td>0.2503731</td></tr>\n",
       "<tr><td></td>\n",
       "<td>2018-05-14 09:56:15</td>\n",
       "<td> 1 min 13.387 sec</td>\n",
       "<td>145.0</td>\n",
       "<td>0.3441818</td>\n",
       "<td>0.3910859</td>\n",
       "<td>0.7229629</td>\n",
       "<td>4.0623946</td>\n",
       "<td>0.2696863</td>\n",
       "<td>0.3408238</td>\n",
       "<td>0.3861688</td>\n",
       "<td>0.7032735</td>\n",
       "<td>3.4403081</td>\n",
       "<td>0.2554104</td></tr>\n",
       "<tr><td></td>\n",
       "<td>2018-05-14 09:56:15</td>\n",
       "<td> 1 min 13.423 sec</td>\n",
       "<td>146.0</td>\n",
       "<td>0.3441465</td>\n",
       "<td>0.3910075</td>\n",
       "<td>0.7230369</td>\n",
       "<td>4.1020178</td>\n",
       "<td>0.2701176</td>\n",
       "<td>0.3408003</td>\n",
       "<td>0.3861089</td>\n",
       "<td>0.7034003</td>\n",
       "<td>3.4403081</td>\n",
       "<td>0.2513060</td></tr>\n",
       "<tr><td></td>\n",
       "<td>2018-05-14 09:56:15</td>\n",
       "<td> 1 min 13.463 sec</td>\n",
       "<td>147.0</td>\n",
       "<td>0.3441120</td>\n",
       "<td>0.3909268</td>\n",
       "<td>0.7230689</td>\n",
       "<td>4.0860566</td>\n",
       "<td>0.2632157</td>\n",
       "<td>0.3407881</td>\n",
       "<td>0.3860715</td>\n",
       "<td>0.7032704</td>\n",
       "<td>3.4403081</td>\n",
       "<td>0.2516791</td></tr>\n",
       "<tr><td></td>\n",
       "<td>2018-05-14 09:56:18</td>\n",
       "<td> 1 min 15.970 sec</td>\n",
       "<td>500.0</td>\n",
       "<td>0.3365267</td>\n",
       "<td>0.3731550</td>\n",
       "<td>0.7531003</td>\n",
       "<td>4.4289044</td>\n",
       "<td>0.2412941</td>\n",
       "<td>0.3375314</td>\n",
       "<td>0.3772159</td>\n",
       "<td>0.7165832</td>\n",
       "<td>3.8225645</td>\n",
       "<td>0.2444030</td></tr></table></div>"
      ],
      "text/plain": [
       "     timestamp            duration          number_of_trees    training_rmse        training_logloss     training_auc        training_lift      training_classification_error    validation_rmse      validation_logloss    validation_auc      validation_lift     validation_classification_error\n",
       "---  -------------------  ----------------  -----------------  -------------------  -------------------  ------------------  -----------------  -------------------------------  -------------------  --------------------  ------------------  ------------------  ---------------------------------\n",
       "     2018-05-14 09:56:11  1 min  9.487 sec  0.0                0.35844977641858344  0.4251501404519151   0.5                 1.0                0.8485882352941176               0.35249147103629797  0.41467781975140944   0.5                 1.0                 0.8546641791044776\n",
       "     2018-05-14 09:56:11  1 min  9.501 sec  1.0                0.3582060792383898   0.4244733347486899   0.6764927216426824  3.000758639856384  0.25541176470588234              0.3522786663941053   0.4140963326321086    0.6634223962961375  2.638163714606876   0.26940298507462684\n",
       "     2018-05-14 09:56:11  1 min  9.513 sec  2.0                0.3579670821727389   0.4238153852954245   0.6770536075956844  3.000758639856384  0.26494117647058824              0.3520625341831957   0.4135102243645516    0.6653564886388187  2.638163714606876   0.26156716417910447\n",
       "     2018-05-14 09:56:11  1 min  9.526 sec  3.0                0.35773263127001986  0.42317538790985676  0.6770536075956844  3.000758639856384  0.26494117647058824              0.35185846407276444  0.412961058799672     0.6653564886388187  2.638163714606876   0.26156716417910447\n",
       "     2018-05-14 09:56:11  1 min  9.537 sec  4.0                0.3575026012168391   0.42255250368997554  0.6771438429555717  3.000758639856384  0.26929411764705885              0.3516556292340489   0.41241886861807076   0.6654534454557657  2.638163714606876   0.2664179104477612\n",
       "---  ---                  ---               ---                ---                  ---                  ---                 ---                ---                              ---                  ---                   ---                 ---                 ---\n",
       "     2018-05-14 09:56:15  1 min 13.349 sec  144.0              0.3442182652661374   0.3911655629854929   0.7228695074251708  4.058494516509783  0.2688235294117647               0.340849330344052    0.38622748736930196   0.7032724887273689  3.4403080872913994  0.2503731343283582\n",
       "     2018-05-14 09:56:15  1 min 13.387 sec  145.0              0.3441817853863554   0.3910859288487705   0.722962920592201   4.062394628432364  0.2696862745098039               0.340823795411822    0.3861687540232441    0.703273469504419   3.4403080872913994  0.25541044776119404\n",
       "     2018-05-14 09:56:15  1 min 13.423 sec  146.0              0.34414648121931435  0.3910074591458048   0.7230369257958333  4.102017773892774  0.2701176470588235               0.34080030285725693  0.38610889325654946   0.7034002699658886  3.4403080872913994  0.2513059701492537\n",
       "     2018-05-14 09:56:15  1 min 13.463 sec  147.0              0.3441119807722351   0.39092680222382126  0.7230688654506761  4.086056615239495  0.2632156862745098               0.34078812343641285  0.3860715424151345    0.7032703870622617  3.4403080872913994  0.25167910447761194\n",
       "     2018-05-14 09:56:18  1 min 15.970 sec  500.0              0.33652673634718555  0.37315504150721474  0.7531002800192689  4.428904428904429  0.24129411764705883              0.3375314212139992   0.3772159089554665    0.7165831745175067  3.8225645414348883  0.24440298507462688"
      ]
     },
     "metadata": {},
     "output_type": "display_data"
    },
    {
     "name": "stdout",
     "output_type": "stream",
     "text": [
      "\n",
      "See the whole table with table.as_data_frame()\n",
      "Variable Importances: \n"
     ]
    },
    {
     "data": {
      "text/html": [
       "<div style=\"overflow:auto\"><table style=\"width:50%\"><tr><td><b>variable</b></td>\n",
       "<td><b>relative_importance</b></td>\n",
       "<td><b>scaled_importance</b></td>\n",
       "<td><b>percentage</b></td></tr>\n",
       "<tr><td>term</td>\n",
       "<td>8151.7578125</td>\n",
       "<td>1.0</td>\n",
       "<td>0.4361770</td></tr>\n",
       "<tr><td>addr_state</td>\n",
       "<td>2948.3635254</td>\n",
       "<td>0.3616844</td>\n",
       "<td>0.1577584</td></tr>\n",
       "<tr><td>annual_inc</td>\n",
       "<td>1775.1832275</td>\n",
       "<td>0.2177669</td>\n",
       "<td>0.0949849</td></tr>\n",
       "<tr><td>revol_util</td>\n",
       "<td>1765.9587402</td>\n",
       "<td>0.2166353</td>\n",
       "<td>0.0944913</td></tr>\n",
       "<tr><td>purpose</td>\n",
       "<td>1698.1835938</td>\n",
       "<td>0.2083212</td>\n",
       "<td>0.0908649</td></tr>\n",
       "<tr><td>inq_last_6mths</td>\n",
       "<td>951.2167969</td>\n",
       "<td>0.1166885</td>\n",
       "<td>0.0508969</td></tr>\n",
       "<tr><td>emp_length</td>\n",
       "<td>362.4564819</td>\n",
       "<td>0.0444636</td>\n",
       "<td>0.0193940</td></tr>\n",
       "<tr><td>pub_rec</td>\n",
       "<td>231.0276337</td>\n",
       "<td>0.0283408</td>\n",
       "<td>0.0123616</td></tr>\n",
       "<tr><td>loan_amnt</td>\n",
       "<td>208.1590729</td>\n",
       "<td>0.0255355</td>\n",
       "<td>0.0111380</td></tr>\n",
       "<tr><td>open_acc</td>\n",
       "<td>153.2784882</td>\n",
       "<td>0.0188031</td>\n",
       "<td>0.0082015</td></tr>\n",
       "<tr><td>revol_bal</td>\n",
       "<td>103.6732330</td>\n",
       "<td>0.0127179</td>\n",
       "<td>0.0055473</td></tr>\n",
       "<tr><td>total_acc</td>\n",
       "<td>102.4322281</td>\n",
       "<td>0.0125657</td>\n",
       "<td>0.0054809</td></tr>\n",
       "<tr><td>dti</td>\n",
       "<td>91.4625931</td>\n",
       "<td>0.0112200</td>\n",
       "<td>0.0048939</td></tr>\n",
       "<tr><td>delinq_2yrs</td>\n",
       "<td>90.8476715</td>\n",
       "<td>0.0111445</td>\n",
       "<td>0.0048610</td></tr>\n",
       "<tr><td>verification_status</td>\n",
       "<td>48.1918831</td>\n",
       "<td>0.0059118</td>\n",
       "<td>0.0025786</td></tr>\n",
       "<tr><td>home_ownership</td>\n",
       "<td>3.9253502</td>\n",
       "<td>0.0004815</td>\n",
       "<td>0.0002100</td></tr>\n",
       "<tr><td>credit_length_in_years</td>\n",
       "<td>2.9888377</td>\n",
       "<td>0.0003666</td>\n",
       "<td>0.0001599</td></tr></table></div>"
      ],
      "text/plain": [
       "variable                relative_importance    scaled_importance    percentage\n",
       "----------------------  ---------------------  -------------------  ------------\n",
       "term                    8151.76                1                    0.436177\n",
       "addr_state              2948.36                0.361684             0.157758\n",
       "annual_inc              1775.18                0.217767             0.0949849\n",
       "revol_util              1765.96                0.216635             0.0944913\n",
       "purpose                 1698.18                0.208321             0.0908649\n",
       "inq_last_6mths          951.217                0.116689             0.0508969\n",
       "emp_length              362.456                0.0444636            0.019394\n",
       "pub_rec                 231.028                0.0283408            0.0123616\n",
       "loan_amnt               208.159                0.0255355            0.011138\n",
       "open_acc                153.278                0.0188031            0.00820149\n",
       "revol_bal               103.673                0.0127179            0.00554725\n",
       "total_acc               102.432                0.0125657            0.00548085\n",
       "dti                     91.4626                0.01122              0.0048939\n",
       "delinq_2yrs             90.8477                0.0111445            0.004861\n",
       "verification_status     48.1919                0.00591184           0.00257861\n",
       "home_ownership          3.92535                0.000481534          0.000210034\n",
       "credit_length_in_years  2.98884                0.000366649          0.000159924"
      ]
     },
     "metadata": {},
     "output_type": "display_data"
    },
    {
     "data": {
      "text/plain": []
     },
     "execution_count": 75,
     "metadata": {},
     "output_type": "execute_result"
    }
   ],
   "source": [
    "# get the top model to use\n",
    "best_model = h2o.get_model(gbm_grid_cart.model_ids[0])\n",
    "best_model"
   ]
  },
  {
   "cell_type": "markdown",
   "metadata": {},
   "source": [
    "## Random Grid Search\n",
    "This example is set to run fairly quickly -- increase `max_runtime_secs` or `max_models` to cover more of the hyperparameter space. Also, you can expand the hyperparameter space of each of the algorithms by modifying the hyper parameter list below."
   ]
  },
  {
   "cell_type": "code",
   "execution_count": 76,
   "metadata": {},
   "outputs": [],
   "source": [
    "grid_id_name_rand = 'gbm_random'\n",
    "\n",
    "gbm_hyperparams_rand = {'learn_rate': [0.01, 0.02, 0.03, 0.04, 0.05, 0.06, 0.07, 0.08, 0.09, 0.1], \n",
    "                'max_depth': [2, 3, 4, 5, 6, 7, 8, 9, 10],\n",
    "                'ntrees': [50, 100, 200, 500, 1000]}"
   ]
  },
  {
   "cell_type": "markdown",
   "metadata": {},
   "source": [
    "the `search_criteria` parameter allows you to pass a dictionary of directives which control the search of the hyperparameter space. The default strategy “Cartesian” covers the entire space of hyperparameter combinations. Specify the “RandomDiscrete” strategy to get random search of all the combinations of your hyperparameters. `RandomDiscrete` should usually be combined with at least one early stopping criterion: max_models and/or max_runtime_secs"
   ]
  },
  {
   "cell_type": "code",
   "execution_count": 77,
   "metadata": {},
   "outputs": [],
   "source": [
    "search_criteria = {'strategy': 'RandomDiscrete', 'max_runtime_secs': 30}"
   ]
  },
  {
   "cell_type": "markdown",
   "metadata": {},
   "source": [
    "#### Train and validate a random grid of GBMs"
   ]
  },
  {
   "cell_type": "code",
   "execution_count": 78,
   "metadata": {},
   "outputs": [
    {
     "name": "stdout",
     "output_type": "stream",
     "text": [
      "gbm Grid Build progress: |████████████████████████████████████████████████| 100%\n"
     ]
    }
   ],
   "source": [
    "gbm_grid_rand = H2OGridSearch(model=model_to_grid,\n",
    "                              grid_id=grid_id_name_rand,\n",
    "                              hyper_params=gbm_hyperparams_rand,\n",
    "                              search_criteria=search_criteria)\n",
    "\n",
    "gbm_grid_rand.train(x=predictor_columns, y=target, training_frame=train, validation_frame=valid, seed=1234)"
   ]
  },
  {
   "cell_type": "markdown",
   "metadata": {},
   "source": [
    "#### Compare model performance¶"
   ]
  },
  {
   "cell_type": "code",
   "execution_count": 79,
   "metadata": {},
   "outputs": [
    {
     "name": "stdout",
     "output_type": "stream",
     "text": [
      "    learn_rate max_depth ntrees           model_ids                 auc\n",
      "0         0.02         5    500  gbm_random_model_0  0.7130308000422575\n",
      "1         0.01         4    200  gbm_random_model_2  0.7090903180772062\n",
      "2         0.03         6   1000  gbm_random_model_1  0.6903190860054604\n",
      "3         0.04        10    200  gbm_random_model_3  0.6800004707729841\n",
      "\n"
     ]
    }
   ],
   "source": [
    "gbm_grid_rand = gbm_grid_rand.get_grid(sort_by='auc', decreasing=True)\n",
    "print(gbm_grid_rand)"
   ]
  },
  {
   "cell_type": "markdown",
   "metadata": {},
   "source": [
    "--------------------------------------------------------------------------------------------------------------\n",
    "# AutoML<a id='automl'></a>\n",
    "\n",
    "After all the hard manual labor above, we will now see how we can automate our previous work with AutoML.\n",
    "\n",
    "Read more about AutoML in the [docs](http://docs.h2o.ai/h2o/latest-stable/h2o-docs/automl.html).\n",
    "\n",
    "*The H2O AutoML interface is designed to have as few parameters as possible so that all the user needs to do is point to their dataset, identify the response column and optionally specify a time constraint or limit on the number of total models trained.* \n",
    "\n",
    "Note: by default AutoML will run cross-validation for all models, and therefore use the cross-validation metrics to generate the leaderboard results."
   ]
  },
  {
   "cell_type": "code",
   "execution_count": 80,
   "metadata": {},
   "outputs": [
    {
     "name": "stdout",
     "output_type": "stream",
     "text": [
      "AutoML progress: |████████████████████████████████████████████████████████| 100%\n",
      "Parse progress: |█████████████████████████████████████████████████████████| 100%\n"
     ]
    }
   ],
   "source": [
    "from h2o.automl import H2OAutoML\n",
    "\n",
    "automl = H2OAutoML(max_runtime_secs = 60, seed = 12345)\n",
    "\n",
    "automl.train(x = predictor_columns, y = target, training_frame = loan_stats)"
   ]
  },
  {
   "cell_type": "markdown",
   "metadata": {},
   "source": [
    "Print out the leaderboard (the leaderboard is a table that ranks your models by a default metric based on the problem type (the second column of the leaderboard). In binary classification problems, that metric is AUC, and in multiclass classification problems, the metric is mean per-class error. In regression problems, the default sort metric is deviance. Some additional metrics are also provided, for convenience."
   ]
  },
  {
   "cell_type": "code",
   "execution_count": 81,
   "metadata": {},
   "outputs": [
    {
     "data": {
      "text/html": [
       "<table>\n",
       "<thead>\n",
       "<tr><th>model_id                                             </th><th style=\"text-align: right;\">     auc</th><th style=\"text-align: right;\">  logloss</th></tr>\n",
       "</thead>\n",
       "<tbody>\n",
       "<tr><td>StackedEnsemble_AllModels_0_AutoML_20180514_095954   </td><td style=\"text-align: right;\">0.720538</td><td style=\"text-align: right;\"> 0.385208</td></tr>\n",
       "<tr><td>StackedEnsemble_BestOfFamily_0_AutoML_20180514_095954</td><td style=\"text-align: right;\">0.720446</td><td style=\"text-align: right;\"> 0.385248</td></tr>\n",
       "<tr><td>GLM_grid_0_AutoML_20180514_095954_model_0            </td><td style=\"text-align: right;\">0.715088</td><td style=\"text-align: right;\"> 0.384592</td></tr>\n",
       "<tr><td>GBM_grid_0_AutoML_20180514_095954_model_0            </td><td style=\"text-align: right;\">0.709547</td><td style=\"text-align: right;\"> 0.387792</td></tr>\n",
       "<tr><td>GBM_grid_0_AutoML_20180514_095954_model_1            </td><td style=\"text-align: right;\">0.703459</td><td style=\"text-align: right;\"> 0.389711</td></tr>\n",
       "<tr><td>GBM_grid_0_AutoML_20180514_095954_model_2            </td><td style=\"text-align: right;\">0.696283</td><td style=\"text-align: right;\"> 0.391423</td></tr>\n",
       "<tr><td>DRF_0_AutoML_20180514_095954                         </td><td style=\"text-align: right;\">0.689586</td><td style=\"text-align: right;\"> 0.410104</td></tr>\n",
       "<tr><td>XRT_0_AutoML_20180514_095954                         </td><td style=\"text-align: right;\">0.68409 </td><td style=\"text-align: right;\"> 0.398843</td></tr>\n",
       "</tbody>\n",
       "</table>"
      ]
     },
     "metadata": {},
     "output_type": "display_data"
    },
    {
     "data": {
      "text/plain": []
     },
     "execution_count": 81,
     "metadata": {},
     "output_type": "execute_result"
    }
   ],
   "source": [
    "automl.leaderboard"
   ]
  },
  {
   "cell_type": "markdown",
   "metadata": {},
   "source": [
    "Print the results of the leader model"
   ]
  },
  {
   "cell_type": "code",
   "execution_count": 82,
   "metadata": {},
   "outputs": [
    {
     "name": "stdout",
     "output_type": "stream",
     "text": [
      "Model Details\n",
      "=============\n",
      "H2OStackedEnsembleEstimator :  Stacked Ensemble\n",
      "Model Key:  StackedEnsemble_AllModels_0_AutoML_20180514_095954\n",
      "No model summary for this model\n",
      "\n",
      "\n",
      "ModelMetricsBinomialGLM: stackedensemble\n",
      "** Reported on train data. **\n",
      "\n",
      "MSE: 0.07652721851018394\n",
      "RMSE: 0.27663553370849514\n",
      "LogLoss: 0.26685295028426576\n",
      "Null degrees of freedom: 28966\n",
      "Residual degrees of freedom: 28960\n",
      "Null deviance: 24489.05483216992\n",
      "Residual deviance: 15459.85882176865\n",
      "AIC: 15473.85882176865\n",
      "AUC: 0.9594435973180309\n",
      "Gini: 0.9188871946360617\n",
      "Confusion Matrix (Act/Pred) for max f1 @ threshold = 0.20663361204308228: \n"
     ]
    },
    {
     "data": {
      "text/html": [
       "<div style=\"overflow:auto\"><table style=\"width:50%\"><tr><td><b></b></td>\n",
       "<td><b>Fully Paid</b></td>\n",
       "<td><b>Default</b></td>\n",
       "<td><b>Error</b></td>\n",
       "<td><b>Rate</b></td></tr>\n",
       "<tr><td>Fully Paid</td>\n",
       "<td>22618.0</td>\n",
       "<td>2004.0</td>\n",
       "<td>0.0814</td>\n",
       "<td> (2004.0/24622.0)</td></tr>\n",
       "<tr><td>Default</td>\n",
       "<td>803.0</td>\n",
       "<td>3542.0</td>\n",
       "<td>0.1848</td>\n",
       "<td> (803.0/4345.0)</td></tr>\n",
       "<tr><td>Total</td>\n",
       "<td>23421.0</td>\n",
       "<td>5546.0</td>\n",
       "<td>0.0969</td>\n",
       "<td> (2807.0/28967.0)</td></tr></table></div>"
      ],
      "text/plain": [
       "            Fully Paid    Default    Error    Rate\n",
       "----------  ------------  ---------  -------  ----------------\n",
       "Fully Paid  22618         2004       0.0814   (2004.0/24622.0)\n",
       "Default     803           3542       0.1848   (803.0/4345.0)\n",
       "Total       23421         5546       0.0969   (2807.0/28967.0)"
      ]
     },
     "metadata": {},
     "output_type": "display_data"
    },
    {
     "name": "stdout",
     "output_type": "stream",
     "text": [
      "Maximum Metrics: Maximum metrics at their respective thresholds\n",
      "\n"
     ]
    },
    {
     "data": {
      "text/html": [
       "<div style=\"overflow:auto\"><table style=\"width:50%\"><tr><td><b>metric</b></td>\n",
       "<td><b>threshold</b></td>\n",
       "<td><b>value</b></td>\n",
       "<td><b>idx</b></td></tr>\n",
       "<tr><td>max f1</td>\n",
       "<td>0.2066336</td>\n",
       "<td>0.7162067</td>\n",
       "<td>243.0</td></tr>\n",
       "<tr><td>max f2</td>\n",
       "<td>0.1558562</td>\n",
       "<td>0.8211505</td>\n",
       "<td>279.0</td></tr>\n",
       "<tr><td>max f0point5</td>\n",
       "<td>0.3668002</td>\n",
       "<td>0.7477783</td>\n",
       "<td>157.0</td></tr>\n",
       "<tr><td>max accuracy</td>\n",
       "<td>0.2972102</td>\n",
       "<td>0.9145925</td>\n",
       "<td>190.0</td></tr>\n",
       "<tr><td>max precision</td>\n",
       "<td>0.9289539</td>\n",
       "<td>1.0</td>\n",
       "<td>0.0</td></tr>\n",
       "<tr><td>max recall</td>\n",
       "<td>0.0978745</td>\n",
       "<td>1.0</td>\n",
       "<td>340.0</td></tr>\n",
       "<tr><td>max specificity</td>\n",
       "<td>0.9289539</td>\n",
       "<td>1.0</td>\n",
       "<td>0.0</td></tr>\n",
       "<tr><td>max absolute_mcc</td>\n",
       "<td>0.2066336</td>\n",
       "<td>0.6659493</td>\n",
       "<td>243.0</td></tr>\n",
       "<tr><td>max min_per_class_accuracy</td>\n",
       "<td>0.1796721</td>\n",
       "<td>0.8874990</td>\n",
       "<td>261.0</td></tr>\n",
       "<tr><td>max mean_per_class_accuracy</td>\n",
       "<td>0.1502642</td>\n",
       "<td>0.9015038</td>\n",
       "<td>283.0</td></tr></table></div>"
      ],
      "text/plain": [
       "metric                       threshold    value     idx\n",
       "---------------------------  -----------  --------  -----\n",
       "max f1                       0.206634     0.716207  243\n",
       "max f2                       0.155856     0.82115   279\n",
       "max f0point5                 0.3668       0.747778  157\n",
       "max accuracy                 0.29721      0.914592  190\n",
       "max precision                0.928954     1         0\n",
       "max recall                   0.0978745    1         340\n",
       "max specificity              0.928954     1         0\n",
       "max absolute_mcc             0.206634     0.665949  243\n",
       "max min_per_class_accuracy   0.179672     0.887499  261\n",
       "max mean_per_class_accuracy  0.150264     0.901504  283"
      ]
     },
     "metadata": {},
     "output_type": "display_data"
    },
    {
     "name": "stdout",
     "output_type": "stream",
     "text": [
      "Gains/Lift Table: Avg response rate: 15.00 %\n",
      "\n"
     ]
    },
    {
     "data": {
      "text/html": [
       "<div style=\"overflow:auto\"><table style=\"width:50%\"><tr><td><b></b></td>\n",
       "<td><b>group</b></td>\n",
       "<td><b>cumulative_data_fraction</b></td>\n",
       "<td><b>lower_threshold</b></td>\n",
       "<td><b>lift</b></td>\n",
       "<td><b>cumulative_lift</b></td>\n",
       "<td><b>response_rate</b></td>\n",
       "<td><b>cumulative_response_rate</b></td>\n",
       "<td><b>capture_rate</b></td>\n",
       "<td><b>cumulative_capture_rate</b></td>\n",
       "<td><b>gain</b></td>\n",
       "<td><b>cumulative_gain</b></td></tr>\n",
       "<tr><td></td>\n",
       "<td>1</td>\n",
       "<td>0.0100114</td>\n",
       "<td>0.6983370</td>\n",
       "<td>6.6667434</td>\n",
       "<td>6.6667434</td>\n",
       "<td>1.0</td>\n",
       "<td>1.0</td>\n",
       "<td>0.0667434</td>\n",
       "<td>0.0667434</td>\n",
       "<td>566.6743383</td>\n",
       "<td>566.6743383</td></tr>\n",
       "<tr><td></td>\n",
       "<td>2</td>\n",
       "<td>0.0200228</td>\n",
       "<td>0.6238288</td>\n",
       "<td>6.4138669</td>\n",
       "<td>6.5403051</td>\n",
       "<td>0.9620690</td>\n",
       "<td>0.9810345</td>\n",
       "<td>0.0642117</td>\n",
       "<td>0.1309551</td>\n",
       "<td>541.3866910</td>\n",
       "<td>554.0305147</td></tr>\n",
       "<tr><td></td>\n",
       "<td>3</td>\n",
       "<td>0.0299997</td>\n",
       "<td>0.5597307</td>\n",
       "<td>6.3899236</td>\n",
       "<td>6.4902933</td>\n",
       "<td>0.9584775</td>\n",
       "<td>0.9735328</td>\n",
       "<td>0.0637514</td>\n",
       "<td>0.1947066</td>\n",
       "<td>538.9923589</td>\n",
       "<td>549.0293328</td></tr>\n",
       "<tr><td></td>\n",
       "<td>4</td>\n",
       "<td>0.0400110</td>\n",
       "<td>0.5101981</td>\n",
       "<td>6.0230578</td>\n",
       "<td>6.3733837</td>\n",
       "<td>0.9034483</td>\n",
       "<td>0.9559965</td>\n",
       "<td>0.0602992</td>\n",
       "<td>0.2550058</td>\n",
       "<td>502.3057815</td>\n",
       "<td>537.3383666</td></tr>\n",
       "<tr><td></td>\n",
       "<td>5</td>\n",
       "<td>0.0500224</td>\n",
       "<td>0.4668628</td>\n",
       "<td>5.7701813</td>\n",
       "<td>6.2526599</td>\n",
       "<td>0.8655172</td>\n",
       "<td>0.9378882</td>\n",
       "<td>0.0577675</td>\n",
       "<td>0.3127733</td>\n",
       "<td>477.0181342</td>\n",
       "<td>525.2659943</td></tr>\n",
       "<tr><td></td>\n",
       "<td>6</td>\n",
       "<td>0.1000104</td>\n",
       "<td>0.3234354</td>\n",
       "<td>4.6731661</td>\n",
       "<td>5.4631856</td>\n",
       "<td>0.7009669</td>\n",
       "<td>0.8194684</td>\n",
       "<td>0.2336018</td>\n",
       "<td>0.5463751</td>\n",
       "<td>367.3166115</td>\n",
       "<td>446.3185637</td></tr>\n",
       "<tr><td></td>\n",
       "<td>7</td>\n",
       "<td>0.1499983</td>\n",
       "<td>0.2444197</td>\n",
       "<td>3.0893542</td>\n",
       "<td>4.6720906</td>\n",
       "<td>0.4633978</td>\n",
       "<td>0.7008055</td>\n",
       "<td>0.1544304</td>\n",
       "<td>0.7008055</td>\n",
       "<td>208.9354151</td>\n",
       "<td>367.2090587</td></tr>\n",
       "<tr><td></td>\n",
       "<td>8</td>\n",
       "<td>0.2000207</td>\n",
       "<td>0.1994899</td>\n",
       "<td>2.6225285</td>\n",
       "<td>4.1595232</td>\n",
       "<td>0.3933747</td>\n",
       "<td>0.6239213</td>\n",
       "<td>0.1311853</td>\n",
       "<td>0.8319908</td>\n",
       "<td>162.2528453</td>\n",
       "<td>315.9523184</td></tr>\n",
       "<tr><td></td>\n",
       "<td>9</td>\n",
       "<td>0.2999965</td>\n",
       "<td>0.1409562</td>\n",
       "<td>1.4295745</td>\n",
       "<td>3.2497497</td>\n",
       "<td>0.2144337</td>\n",
       "<td>0.4874568</td>\n",
       "<td>0.1429229</td>\n",
       "<td>0.9749137</td>\n",
       "<td>42.9574462</td>\n",
       "<td>224.9749709</td></tr>\n",
       "<tr><td></td>\n",
       "<td>10</td>\n",
       "<td>0.4000069</td>\n",
       "<td>0.1142869</td>\n",
       "<td>0.2324270</td>\n",
       "<td>2.4953539</td>\n",
       "<td>0.0348637</td>\n",
       "<td>0.3742988</td>\n",
       "<td>0.0232451</td>\n",
       "<td>0.9981588</td>\n",
       "<td>-76.7572978</td>\n",
       "<td>149.5353936</td></tr>\n",
       "<tr><td></td>\n",
       "<td>11</td>\n",
       "<td>0.5000173</td>\n",
       "<td>0.1001639</td>\n",
       "<td>0.0161088</td>\n",
       "<td>1.9994707</td>\n",
       "<td>0.0024163</td>\n",
       "<td>0.2999171</td>\n",
       "<td>0.0016110</td>\n",
       "<td>0.9997699</td>\n",
       "<td>-98.3891197</td>\n",
       "<td>99.9470675</td></tr>\n",
       "<tr><td></td>\n",
       "<td>12</td>\n",
       "<td>0.5999931</td>\n",
       "<td>0.0904259</td>\n",
       "<td>0.0023021</td>\n",
       "<td>1.6666858</td>\n",
       "<td>0.0003453</td>\n",
       "<td>0.25</td>\n",
       "<td>0.0002301</td>\n",
       "<td>1.0</td>\n",
       "<td>-99.7697948</td>\n",
       "<td>66.6685846</td></tr>\n",
       "<tr><td></td>\n",
       "<td>13</td>\n",
       "<td>0.7000035</td>\n",
       "<td>0.0831746</td>\n",
       "<td>0.0</td>\n",
       "<td>1.4285644</td>\n",
       "<td>0.0</td>\n",
       "<td>0.2142822</td>\n",
       "<td>0.0</td>\n",
       "<td>1.0</td>\n",
       "<td>-100.0</td>\n",
       "<td>42.8564383</td></tr>\n",
       "<tr><td></td>\n",
       "<td>14</td>\n",
       "<td>0.7999793</td>\n",
       "<td>0.0766928</td>\n",
       "<td>0.0</td>\n",
       "<td>1.2500324</td>\n",
       "<td>0.0</td>\n",
       "<td>0.1875027</td>\n",
       "<td>0.0</td>\n",
       "<td>1.0</td>\n",
       "<td>-100.0</td>\n",
       "<td>25.0032365</td></tr>\n",
       "<tr><td></td>\n",
       "<td>15</td>\n",
       "<td>0.8999896</td>\n",
       "<td>0.0699563</td>\n",
       "<td>0.0</td>\n",
       "<td>1.1111239</td>\n",
       "<td>0.0</td>\n",
       "<td>0.1666667</td>\n",
       "<td>0.0</td>\n",
       "<td>1.0</td>\n",
       "<td>-100.0</td>\n",
       "<td>11.1123897</td></tr>\n",
       "<tr><td></td>\n",
       "<td>16</td>\n",
       "<td>1.0</td>\n",
       "<td>0.0536065</td>\n",
       "<td>0.0</td>\n",
       "<td>1.0</td>\n",
       "<td>0.0</td>\n",
       "<td>0.1499983</td>\n",
       "<td>0.0</td>\n",
       "<td>1.0</td>\n",
       "<td>-100.0</td>\n",
       "<td>0.0</td></tr></table></div>"
      ],
      "text/plain": [
       "    group    cumulative_data_fraction    lower_threshold    lift        cumulative_lift    response_rate    cumulative_response_rate    capture_rate    cumulative_capture_rate    gain      cumulative_gain\n",
       "--  -------  --------------------------  -----------------  ----------  -----------------  ---------------  --------------------------  --------------  -------------------------  --------  -----------------\n",
       "    1        0.0100114                   0.698337           6.66674     6.66674            1                1                           0.0667434       0.0667434                  566.674   566.674\n",
       "    2        0.0200228                   0.623829           6.41387     6.54031            0.962069         0.981034                    0.0642117       0.130955                   541.387   554.031\n",
       "    3        0.0299997                   0.559731           6.38992     6.49029            0.958478         0.973533                    0.0637514       0.194707                   538.992   549.029\n",
       "    4        0.040011                    0.510198           6.02306     6.37338            0.903448         0.955997                    0.0602992       0.255006                   502.306   537.338\n",
       "    5        0.0500224                   0.466863           5.77018     6.25266            0.865517         0.937888                    0.0577675       0.312773                   477.018   525.266\n",
       "    6        0.10001                     0.323435           4.67317     5.46319            0.700967         0.819468                    0.233602        0.546375                   367.317   446.319\n",
       "    7        0.149998                    0.24442            3.08935     4.67209            0.463398         0.700806                    0.15443         0.700806                   208.935   367.209\n",
       "    8        0.200021                    0.19949            2.62253     4.15952            0.393375         0.623921                    0.131185        0.831991                   162.253   315.952\n",
       "    9        0.299997                    0.140956           1.42957     3.24975            0.214434         0.487457                    0.142923        0.974914                   42.9574   224.975\n",
       "    10       0.400007                    0.114287           0.232427    2.49535            0.0348637        0.374299                    0.0232451       0.998159                   -76.7573  149.535\n",
       "    11       0.500017                    0.100164           0.0161088   1.99947            0.00241629       0.299917                    0.00161105      0.99977                    -98.3891  99.9471\n",
       "    12       0.599993                    0.0904259          0.00230205  1.66669            0.000345304      0.25                        0.00023015      1                          -99.7698  66.6686\n",
       "    13       0.700003                    0.0831746          0           1.42856            0                0.214282                    0               1                          -100      42.8564\n",
       "    14       0.799979                    0.0766928          0           1.25003            0                0.187503                    0               1                          -100      25.0032\n",
       "    15       0.89999                     0.0699563          0           1.11112            0                0.166667                    0               1                          -100      11.1124\n",
       "    16       1                           0.0536065          0           1                  0                0.149998                    0               1                          -100      0"
      ]
     },
     "metadata": {},
     "output_type": "display_data"
    },
    {
     "name": "stdout",
     "output_type": "stream",
     "text": [
      "\n",
      "\n",
      "ModelMetricsBinomialGLM: stackedensemble\n",
      "** Reported on validation data. **\n",
      "\n",
      "MSE: 0.11530195187296831\n",
      "RMSE: 0.3395614110480876\n",
      "LogLoss: 0.38121849288061443\n",
      "Null degrees of freedom: 7317\n",
      "Residual degrees of freedom: 7311\n",
      "Null deviance: 6184.341748868599\n",
      "Residual deviance: 5579.513861800673\n",
      "AIC: 5593.513861800673\n",
      "AUC: 0.7219206507437903\n",
      "Gini: 0.4438413014875806\n",
      "Confusion Matrix (Act/Pred) for max f1 @ threshold = 0.16113929541924737: \n"
     ]
    },
    {
     "data": {
      "text/html": [
       "<div style=\"overflow:auto\"><table style=\"width:50%\"><tr><td><b></b></td>\n",
       "<td><b>Fully Paid</b></td>\n",
       "<td><b>Default</b></td>\n",
       "<td><b>Error</b></td>\n",
       "<td><b>Rate</b></td></tr>\n",
       "<tr><td>Fully Paid</td>\n",
       "<td>4964.0</td>\n",
       "<td>1257.0</td>\n",
       "<td>0.2021</td>\n",
       "<td> (1257.0/6221.0)</td></tr>\n",
       "<tr><td>Default</td>\n",
       "<td>509.0</td>\n",
       "<td>588.0</td>\n",
       "<td>0.464</td>\n",
       "<td> (509.0/1097.0)</td></tr>\n",
       "<tr><td>Total</td>\n",
       "<td>5473.0</td>\n",
       "<td>1845.0</td>\n",
       "<td>0.2413</td>\n",
       "<td> (1766.0/7318.0)</td></tr></table></div>"
      ],
      "text/plain": [
       "            Fully Paid    Default    Error    Rate\n",
       "----------  ------------  ---------  -------  ---------------\n",
       "Fully Paid  4964          1257       0.2021   (1257.0/6221.0)\n",
       "Default     509           588        0.464    (509.0/1097.0)\n",
       "Total       5473          1845       0.2413   (1766.0/7318.0)"
      ]
     },
     "metadata": {},
     "output_type": "display_data"
    },
    {
     "name": "stdout",
     "output_type": "stream",
     "text": [
      "Maximum Metrics: Maximum metrics at their respective thresholds\n",
      "\n"
     ]
    },
    {
     "data": {
      "text/html": [
       "<div style=\"overflow:auto\"><table style=\"width:50%\"><tr><td><b>metric</b></td>\n",
       "<td><b>threshold</b></td>\n",
       "<td><b>value</b></td>\n",
       "<td><b>idx</b></td></tr>\n",
       "<tr><td>max f1</td>\n",
       "<td>0.1611393</td>\n",
       "<td>0.3997281</td>\n",
       "<td>253.0</td></tr>\n",
       "<tr><td>max f2</td>\n",
       "<td>0.0969445</td>\n",
       "<td>0.5141504</td>\n",
       "<td>337.0</td></tr>\n",
       "<tr><td>max f0point5</td>\n",
       "<td>0.2772900</td>\n",
       "<td>0.3873157</td>\n",
       "<td>169.0</td></tr>\n",
       "<tr><td>max accuracy</td>\n",
       "<td>0.5746908</td>\n",
       "<td>0.8535119</td>\n",
       "<td>41.0</td></tr>\n",
       "<tr><td>max precision</td>\n",
       "<td>0.8312834</td>\n",
       "<td>1.0</td>\n",
       "<td>0.0</td></tr>\n",
       "<tr><td>max recall</td>\n",
       "<td>0.0625864</td>\n",
       "<td>1.0</td>\n",
       "<td>394.0</td></tr>\n",
       "<tr><td>max specificity</td>\n",
       "<td>0.8312834</td>\n",
       "<td>1.0</td>\n",
       "<td>0.0</td></tr>\n",
       "<tr><td>max absolute_mcc</td>\n",
       "<td>0.1611393</td>\n",
       "<td>0.2745387</td>\n",
       "<td>253.0</td></tr>\n",
       "<tr><td>max min_per_class_accuracy</td>\n",
       "<td>0.1268983</td>\n",
       "<td>0.6590702</td>\n",
       "<td>292.0</td></tr>\n",
       "<tr><td>max mean_per_class_accuracy</td>\n",
       "<td>0.1305411</td>\n",
       "<td>0.6676345</td>\n",
       "<td>288.0</td></tr></table></div>"
      ],
      "text/plain": [
       "metric                       threshold    value     idx\n",
       "---------------------------  -----------  --------  -----\n",
       "max f1                       0.161139     0.399728  253\n",
       "max f2                       0.0969445    0.51415   337\n",
       "max f0point5                 0.27729      0.387316  169\n",
       "max accuracy                 0.574691     0.853512  41\n",
       "max precision                0.831283     1         0\n",
       "max recall                   0.0625864    1         394\n",
       "max specificity              0.831283     1         0\n",
       "max absolute_mcc             0.161139     0.274539  253\n",
       "max min_per_class_accuracy   0.126898     0.65907   292\n",
       "max mean_per_class_accuracy  0.130541     0.667634  288"
      ]
     },
     "metadata": {},
     "output_type": "display_data"
    },
    {
     "name": "stdout",
     "output_type": "stream",
     "text": [
      "Gains/Lift Table: Avg response rate: 14.99 %\n",
      "\n"
     ]
    },
    {
     "data": {
      "text/html": [
       "<div style=\"overflow:auto\"><table style=\"width:50%\"><tr><td><b></b></td>\n",
       "<td><b>group</b></td>\n",
       "<td><b>cumulative_data_fraction</b></td>\n",
       "<td><b>lower_threshold</b></td>\n",
       "<td><b>lift</b></td>\n",
       "<td><b>cumulative_lift</b></td>\n",
       "<td><b>response_rate</b></td>\n",
       "<td><b>cumulative_response_rate</b></td>\n",
       "<td><b>capture_rate</b></td>\n",
       "<td><b>cumulative_capture_rate</b></td>\n",
       "<td><b>gain</b></td>\n",
       "<td><b>cumulative_gain</b></td></tr>\n",
       "<tr><td></td>\n",
       "<td>1</td>\n",
       "<td>0.0101121</td>\n",
       "<td>0.5798216</td>\n",
       "<td>4.2369361</td>\n",
       "<td>4.2369361</td>\n",
       "<td>0.6351351</td>\n",
       "<td>0.6351351</td>\n",
       "<td>0.0428441</td>\n",
       "<td>0.0428441</td>\n",
       "<td>323.6936116</td>\n",
       "<td>323.6936116</td></tr>\n",
       "<tr><td></td>\n",
       "<td>2</td>\n",
       "<td>0.0200875</td>\n",
       "<td>0.4999921</td>\n",
       "<td>3.0156217</td>\n",
       "<td>3.6304330</td>\n",
       "<td>0.4520548</td>\n",
       "<td>0.5442177</td>\n",
       "<td>0.0300820</td>\n",
       "<td>0.0729262</td>\n",
       "<td>201.5621683</td>\n",
       "<td>263.0433030</td></tr>\n",
       "<tr><td></td>\n",
       "<td>3</td>\n",
       "<td>0.0300629</td>\n",
       "<td>0.4471947</td>\n",
       "<td>3.1983866</td>\n",
       "<td>3.4870722</td>\n",
       "<td>0.4794521</td>\n",
       "<td>0.5227273</td>\n",
       "<td>0.0319052</td>\n",
       "<td>0.1048314</td>\n",
       "<td>219.8386634</td>\n",
       "<td>248.7072180</td></tr>\n",
       "<tr><td></td>\n",
       "<td>4</td>\n",
       "<td>0.0400383</td>\n",
       "<td>0.4123331</td>\n",
       "<td>3.1070042</td>\n",
       "<td>3.3923795</td>\n",
       "<td>0.4657534</td>\n",
       "<td>0.5085324</td>\n",
       "<td>0.0309936</td>\n",
       "<td>0.1358250</td>\n",
       "<td>210.7004158</td>\n",
       "<td>239.2379465</td></tr>\n",
       "<tr><td></td>\n",
       "<td>5</td>\n",
       "<td>0.0500137</td>\n",
       "<td>0.3817369</td>\n",
       "<td>1.9190320</td>\n",
       "<td>3.0985151</td>\n",
       "<td>0.2876712</td>\n",
       "<td>0.4644809</td>\n",
       "<td>0.0191431</td>\n",
       "<td>0.1549681</td>\n",
       "<td>91.9031980</td>\n",
       "<td>209.8515076</td></tr>\n",
       "<tr><td></td>\n",
       "<td>6</td>\n",
       "<td>0.1000273</td>\n",
       "<td>0.2885051</td>\n",
       "<td>2.5152652</td>\n",
       "<td>2.8068901</td>\n",
       "<td>0.3770492</td>\n",
       "<td>0.4207650</td>\n",
       "<td>0.1257976</td>\n",
       "<td>0.2807657</td>\n",
       "<td>151.5265179</td>\n",
       "<td>180.6890128</td></tr>\n",
       "<tr><td></td>\n",
       "<td>7</td>\n",
       "<td>0.1500410</td>\n",
       "<td>0.2276695</td>\n",
       "<td>1.8408825</td>\n",
       "<td>2.4848876</td>\n",
       "<td>0.2759563</td>\n",
       "<td>0.3724954</td>\n",
       "<td>0.0920693</td>\n",
       "<td>0.3728350</td>\n",
       "<td>84.0882486</td>\n",
       "<td>148.4887580</td></tr>\n",
       "<tr><td></td>\n",
       "<td>8</td>\n",
       "<td>0.2000547</td>\n",
       "<td>0.1864536</td>\n",
       "<td>1.6768435</td>\n",
       "<td>2.2828765</td>\n",
       "<td>0.2513661</td>\n",
       "<td>0.3422131</td>\n",
       "<td>0.0838651</td>\n",
       "<td>0.4567001</td>\n",
       "<td>67.6843453</td>\n",
       "<td>128.2876549</td></tr>\n",
       "<tr><td></td>\n",
       "<td>9</td>\n",
       "<td>0.3000820</td>\n",
       "<td>0.1462716</td>\n",
       "<td>1.2029529</td>\n",
       "<td>1.9229020</td>\n",
       "<td>0.1803279</td>\n",
       "<td>0.2882514</td>\n",
       "<td>0.1203282</td>\n",
       "<td>0.5770283</td>\n",
       "<td>20.2952912</td>\n",
       "<td>92.2902003</td></tr>\n",
       "<tr><td></td>\n",
       "<td>10</td>\n",
       "<td>0.3999727</td>\n",
       "<td>0.1231882</td>\n",
       "<td>0.9673291</td>\n",
       "<td>1.6842536</td>\n",
       "<td>0.1450068</td>\n",
       "<td>0.2524769</td>\n",
       "<td>0.0966272</td>\n",
       "<td>0.6736554</td>\n",
       "<td>-3.2670871</td>\n",
       "<td>68.4253636</td></tr>\n",
       "<tr><td></td>\n",
       "<td>11</td>\n",
       "<td>0.5</td>\n",
       "<td>0.1084672</td>\n",
       "<td>0.7381757</td>\n",
       "<td>1.4949863</td>\n",
       "<td>0.1106557</td>\n",
       "<td>0.2241049</td>\n",
       "<td>0.0738377</td>\n",
       "<td>0.7474932</td>\n",
       "<td>-26.1824350</td>\n",
       "<td>49.4986326</td></tr>\n",
       "<tr><td></td>\n",
       "<td>12</td>\n",
       "<td>0.6000273</td>\n",
       "<td>0.0978087</td>\n",
       "<td>0.7199491</td>\n",
       "<td>1.3657840</td>\n",
       "<td>0.1079235</td>\n",
       "<td>0.2047370</td>\n",
       "<td>0.0720146</td>\n",
       "<td>0.8195077</td>\n",
       "<td>-28.0050909</td>\n",
       "<td>36.5784036</td></tr>\n",
       "<tr><td></td>\n",
       "<td>13</td>\n",
       "<td>0.6999180</td>\n",
       "<td>0.0888293</td>\n",
       "<td>0.6570537</td>\n",
       "<td>1.2646357</td>\n",
       "<td>0.0984952</td>\n",
       "<td>0.1895744</td>\n",
       "<td>0.0656335</td>\n",
       "<td>0.8851413</td>\n",
       "<td>-34.2946252</td>\n",
       "<td>26.4635688</td></tr>\n",
       "<tr><td></td>\n",
       "<td>14</td>\n",
       "<td>0.7999453</td>\n",
       "<td>0.0809866</td>\n",
       "<td>0.5103437</td>\n",
       "<td>1.1703170</td>\n",
       "<td>0.0765027</td>\n",
       "<td>0.1754356</td>\n",
       "<td>0.0510483</td>\n",
       "<td>0.9361896</td>\n",
       "<td>-48.9656340</td>\n",
       "<td>17.0316972</td></tr>\n",
       "<tr><td></td>\n",
       "<td>15</td>\n",
       "<td>0.8999727</td>\n",
       "<td>0.0731461</td>\n",
       "<td>0.3918710</td>\n",
       "<td>1.0837967</td>\n",
       "<td>0.0587432</td>\n",
       "<td>0.1624658</td>\n",
       "<td>0.0391978</td>\n",
       "<td>0.9753874</td>\n",
       "<td>-60.8128976</td>\n",
       "<td>8.3796711</td></tr>\n",
       "<tr><td></td>\n",
       "<td>16</td>\n",
       "<td>1.0</td>\n",
       "<td>0.0564109</td>\n",
       "<td>0.2460586</td>\n",
       "<td>1.0</td>\n",
       "<td>0.0368852</td>\n",
       "<td>0.1499043</td>\n",
       "<td>0.0246126</td>\n",
       "<td>1.0</td>\n",
       "<td>-75.3941450</td>\n",
       "<td>0.0</td></tr></table></div>"
      ],
      "text/plain": [
       "    group    cumulative_data_fraction    lower_threshold    lift      cumulative_lift    response_rate    cumulative_response_rate    capture_rate    cumulative_capture_rate    gain      cumulative_gain\n",
       "--  -------  --------------------------  -----------------  --------  -----------------  ---------------  --------------------------  --------------  -------------------------  --------  -----------------\n",
       "    1        0.0101121                   0.579822           4.23694   4.23694            0.635135         0.635135                    0.0428441       0.0428441                  323.694   323.694\n",
       "    2        0.0200875                   0.499992           3.01562   3.63043            0.452055         0.544218                    0.030082        0.0729262                  201.562   263.043\n",
       "    3        0.0300629                   0.447195           3.19839   3.48707            0.479452         0.522727                    0.0319052       0.104831                   219.839   248.707\n",
       "    4        0.0400383                   0.412333           3.107     3.39238            0.465753         0.508532                    0.0309936       0.135825                   210.7     239.238\n",
       "    5        0.0500137                   0.381737           1.91903   3.09852            0.287671         0.464481                    0.0191431       0.154968                   91.9032   209.852\n",
       "    6        0.100027                    0.288505           2.51527   2.80689            0.377049         0.420765                    0.125798        0.280766                   151.527   180.689\n",
       "    7        0.150041                    0.227669           1.84088   2.48489            0.275956         0.372495                    0.0920693       0.372835                   84.0882   148.489\n",
       "    8        0.200055                    0.186454           1.67684   2.28288            0.251366         0.342213                    0.0838651       0.4567                     67.6843   128.288\n",
       "    9        0.300082                    0.146272           1.20295   1.9229             0.180328         0.288251                    0.120328        0.577028                   20.2953   92.2902\n",
       "    10       0.399973                    0.123188           0.967329  1.68425            0.145007         0.252477                    0.0966272       0.673655                   -3.26709  68.4254\n",
       "    11       0.5                         0.108467           0.738176  1.49499            0.110656         0.224105                    0.0738377       0.747493                   -26.1824  49.4986\n",
       "    12       0.600027                    0.0978087          0.719949  1.36578            0.107923         0.204737                    0.0720146       0.819508                   -28.0051  36.5784\n",
       "    13       0.699918                    0.0888293          0.657054  1.26464            0.0984952        0.189574                    0.0656335       0.885141                   -34.2946  26.4636\n",
       "    14       0.799945                    0.0809866          0.510344  1.17032            0.0765027        0.175436                    0.0510483       0.93619                    -48.9656  17.0317\n",
       "    15       0.899973                    0.0731461          0.391871  1.0838             0.0587432        0.162466                    0.0391978       0.975387                   -60.8129  8.37967\n",
       "    16       1                           0.0564109          0.246059  1                  0.0368852        0.149904                    0.0246126       1                          -75.3941  0"
      ]
     },
     "metadata": {},
     "output_type": "display_data"
    },
    {
     "name": "stdout",
     "output_type": "stream",
     "text": [
      "\n",
      "\n",
      "ModelMetricsBinomialGLM: stackedensemble\n",
      "** Reported on cross-validation data. **\n",
      "\n",
      "MSE: 0.11697781013210987\n",
      "RMSE: 0.3420201896556837\n",
      "LogLoss: 0.38520845531154035\n",
      "Null degrees of freedom: 28966\n",
      "Residual degrees of freedom: 28960\n",
      "Null deviance: 24491.259839400507\n",
      "Residual deviance: 22316.66665001878\n",
      "AIC: 22330.66665001878\n",
      "AUC: 0.7205381782213349\n",
      "Gini: 0.44107635644266985\n",
      "Confusion Matrix (Act/Pred) for max f1 @ threshold = 0.15879079269296167: \n"
     ]
    },
    {
     "data": {
      "text/html": [
       "<div style=\"overflow:auto\"><table style=\"width:50%\"><tr><td><b></b></td>\n",
       "<td><b>Fully Paid</b></td>\n",
       "<td><b>Default</b></td>\n",
       "<td><b>Error</b></td>\n",
       "<td><b>Rate</b></td></tr>\n",
       "<tr><td>Fully Paid</td>\n",
       "<td>19233.0</td>\n",
       "<td>5389.0</td>\n",
       "<td>0.2189</td>\n",
       "<td> (5389.0/24622.0)</td></tr>\n",
       "<tr><td>Default</td>\n",
       "<td>2036.0</td>\n",
       "<td>2309.0</td>\n",
       "<td>0.4686</td>\n",
       "<td> (2036.0/4345.0)</td></tr>\n",
       "<tr><td>Total</td>\n",
       "<td>21269.0</td>\n",
       "<td>7698.0</td>\n",
       "<td>0.2563</td>\n",
       "<td> (7425.0/28967.0)</td></tr></table></div>"
      ],
      "text/plain": [
       "            Fully Paid    Default    Error    Rate\n",
       "----------  ------------  ---------  -------  ----------------\n",
       "Fully Paid  19233         5389       0.2189   (5389.0/24622.0)\n",
       "Default     2036          2309       0.4686   (2036.0/4345.0)\n",
       "Total       21269         7698       0.2563   (7425.0/28967.0)"
      ]
     },
     "metadata": {},
     "output_type": "display_data"
    },
    {
     "name": "stdout",
     "output_type": "stream",
     "text": [
      "Maximum Metrics: Maximum metrics at their respective thresholds\n",
      "\n"
     ]
    },
    {
     "data": {
      "text/html": [
       "<div style=\"overflow:auto\"><table style=\"width:50%\"><tr><td><b>metric</b></td>\n",
       "<td><b>threshold</b></td>\n",
       "<td><b>value</b></td>\n",
       "<td><b>idx</b></td></tr>\n",
       "<tr><td>max f1</td>\n",
       "<td>0.1587908</td>\n",
       "<td>0.3834593</td>\n",
       "<td>263.0</td></tr>\n",
       "<tr><td>max f2</td>\n",
       "<td>0.1027121</td>\n",
       "<td>0.5251605</td>\n",
       "<td>330.0</td></tr>\n",
       "<tr><td>max f0point5</td>\n",
       "<td>0.2474702</td>\n",
       "<td>0.3579116</td>\n",
       "<td>196.0</td></tr>\n",
       "<tr><td>max accuracy</td>\n",
       "<td>0.6653537</td>\n",
       "<td>0.8509338</td>\n",
       "<td>29.0</td></tr>\n",
       "<tr><td>max precision</td>\n",
       "<td>0.7923246</td>\n",
       "<td>0.7</td>\n",
       "<td>8.0</td></tr>\n",
       "<tr><td>max recall</td>\n",
       "<td>0.0615328</td>\n",
       "<td>1.0</td>\n",
       "<td>395.0</td></tr>\n",
       "<tr><td>max specificity</td>\n",
       "<td>0.8834796</td>\n",
       "<td>0.9999594</td>\n",
       "<td>0.0</td></tr>\n",
       "<tr><td>max absolute_mcc</td>\n",
       "<td>0.1587908</td>\n",
       "<td>0.2526435</td>\n",
       "<td>263.0</td></tr>\n",
       "<tr><td>max min_per_class_accuracy</td>\n",
       "<td>0.1255816</td>\n",
       "<td>0.6591484</td>\n",
       "<td>298.0</td></tr>\n",
       "<tr><td>max mean_per_class_accuracy</td>\n",
       "<td>0.1225102</td>\n",
       "<td>0.6602069</td>\n",
       "<td>302.0</td></tr></table></div>"
      ],
      "text/plain": [
       "metric                       threshold    value     idx\n",
       "---------------------------  -----------  --------  -----\n",
       "max f1                       0.158791     0.383459  263\n",
       "max f2                       0.102712     0.525161  330\n",
       "max f0point5                 0.24747      0.357912  196\n",
       "max accuracy                 0.665354     0.850934  29\n",
       "max precision                0.792325     0.7       8\n",
       "max recall                   0.0615328    1         395\n",
       "max specificity              0.88348      0.999959  0\n",
       "max absolute_mcc             0.158791     0.252644  263\n",
       "max min_per_class_accuracy   0.125582     0.659148  298\n",
       "max mean_per_class_accuracy  0.12251      0.660207  302"
      ]
     },
     "metadata": {},
     "output_type": "display_data"
    },
    {
     "name": "stdout",
     "output_type": "stream",
     "text": [
      "Gains/Lift Table: Avg response rate: 15.00 %\n",
      "\n"
     ]
    },
    {
     "data": {
      "text/html": [
       "<div style=\"overflow:auto\"><table style=\"width:50%\"><tr><td><b></b></td>\n",
       "<td><b>group</b></td>\n",
       "<td><b>cumulative_data_fraction</b></td>\n",
       "<td><b>lower_threshold</b></td>\n",
       "<td><b>lift</b></td>\n",
       "<td><b>cumulative_lift</b></td>\n",
       "<td><b>response_rate</b></td>\n",
       "<td><b>cumulative_response_rate</b></td>\n",
       "<td><b>capture_rate</b></td>\n",
       "<td><b>cumulative_capture_rate</b></td>\n",
       "<td><b>gain</b></td>\n",
       "<td><b>cumulative_gain</b></td></tr>\n",
       "<tr><td></td>\n",
       "<td>1</td>\n",
       "<td>0.0100114</td>\n",
       "<td>0.5915413</td>\n",
       "<td>3.4253268</td>\n",
       "<td>3.4253268</td>\n",
       "<td>0.5137931</td>\n",
       "<td>0.5137931</td>\n",
       "<td>0.0342923</td>\n",
       "<td>0.0342923</td>\n",
       "<td>242.5326773</td>\n",
       "<td>242.5326773</td></tr>\n",
       "<tr><td></td>\n",
       "<td>2</td>\n",
       "<td>0.0200228</td>\n",
       "<td>0.5093346</td>\n",
       "<td>3.2873942</td>\n",
       "<td>3.3563605</td>\n",
       "<td>0.4931034</td>\n",
       "<td>0.5034483</td>\n",
       "<td>0.0329114</td>\n",
       "<td>0.0672037</td>\n",
       "<td>228.7394151</td>\n",
       "<td>235.6360462</td></tr>\n",
       "<tr><td></td>\n",
       "<td>3</td>\n",
       "<td>0.0299997</td>\n",
       "<td>0.4605585</td>\n",
       "<td>2.8374029</td>\n",
       "<td>3.1837727</td>\n",
       "<td>0.4256055</td>\n",
       "<td>0.4775604</td>\n",
       "<td>0.0283084</td>\n",
       "<td>0.0955121</td>\n",
       "<td>183.7402893</td>\n",
       "<td>218.3772732</td></tr>\n",
       "<tr><td></td>\n",
       "<td>4</td>\n",
       "<td>0.0400110</td>\n",
       "<td>0.4203572</td>\n",
       "<td>2.5517535</td>\n",
       "<td>3.0256316</td>\n",
       "<td>0.3827586</td>\n",
       "<td>0.4538395</td>\n",
       "<td>0.0255466</td>\n",
       "<td>0.1210587</td>\n",
       "<td>155.1753502</td>\n",
       "<td>202.5631596</td></tr>\n",
       "<tr><td></td>\n",
       "<td>5</td>\n",
       "<td>0.0500224</td>\n",
       "<td>0.3911472</td>\n",
       "<td>2.6437086</td>\n",
       "<td>2.9491943</td>\n",
       "<td>0.3965517</td>\n",
       "<td>0.4423741</td>\n",
       "<td>0.0264672</td>\n",
       "<td>0.1475259</td>\n",
       "<td>164.3708583</td>\n",
       "<td>194.9194278</td></tr>\n",
       "<tr><td></td>\n",
       "<td>6</td>\n",
       "<td>0.1000104</td>\n",
       "<td>0.2924628</td>\n",
       "<td>2.2283866</td>\n",
       "<td>2.5889148</td>\n",
       "<td>0.3342541</td>\n",
       "<td>0.3883328</td>\n",
       "<td>0.1113924</td>\n",
       "<td>0.2589183</td>\n",
       "<td>122.8386600</td>\n",
       "<td>158.8914845</td></tr>\n",
       "<tr><td></td>\n",
       "<td>7</td>\n",
       "<td>0.1499983</td>\n",
       "<td>0.2301023</td>\n",
       "<td>1.8968911</td>\n",
       "<td>2.3582933</td>\n",
       "<td>0.2845304</td>\n",
       "<td>0.3537399</td>\n",
       "<td>0.0948216</td>\n",
       "<td>0.3537399</td>\n",
       "<td>89.6891073</td>\n",
       "<td>135.8293344</td></tr>\n",
       "<tr><td></td>\n",
       "<td>8</td>\n",
       "<td>0.2000207</td>\n",
       "<td>0.1902187</td>\n",
       "<td>1.6011226</td>\n",
       "<td>2.1689353</td>\n",
       "<td>0.2401656</td>\n",
       "<td>0.3253366</td>\n",
       "<td>0.0800921</td>\n",
       "<td>0.4338320</td>\n",
       "<td>60.1122634</td>\n",
       "<td>116.8935326</td></tr>\n",
       "<tr><td></td>\n",
       "<td>9</td>\n",
       "<td>0.2999965</td>\n",
       "<td>0.1459867</td>\n",
       "<td>1.3605129</td>\n",
       "<td>1.8995232</td>\n",
       "<td>0.2040746</td>\n",
       "<td>0.2849252</td>\n",
       "<td>0.1360184</td>\n",
       "<td>0.5698504</td>\n",
       "<td>36.0512893</td>\n",
       "<td>89.9523201</td></tr>\n",
       "<tr><td></td>\n",
       "<td>10</td>\n",
       "<td>0.4000069</td>\n",
       "<td>0.1230340</td>\n",
       "<td>1.0102521</td>\n",
       "<td>1.6771862</td>\n",
       "<td>0.1515361</td>\n",
       "<td>0.2515750</td>\n",
       "<td>0.1010357</td>\n",
       "<td>0.6708861</td>\n",
       "<td>1.0252104</td>\n",
       "<td>67.7186240</td></tr>\n",
       "<tr><td></td>\n",
       "<td>11</td>\n",
       "<td>0.5000173</td>\n",
       "<td>0.1085957</td>\n",
       "<td>0.9458169</td>\n",
       "<td>1.5309023</td>\n",
       "<td>0.1418709</td>\n",
       "<td>0.2296327</td>\n",
       "<td>0.0945915</td>\n",
       "<td>0.7654776</td>\n",
       "<td>-5.4183110</td>\n",
       "<td>53.0902271</td></tr>\n",
       "<tr><td></td>\n",
       "<td>12</td>\n",
       "<td>0.5999931</td>\n",
       "<td>0.0982318</td>\n",
       "<td>0.7182403</td>\n",
       "<td>1.3954898</td>\n",
       "<td>0.1077348</td>\n",
       "<td>0.2093211</td>\n",
       "<td>0.0718067</td>\n",
       "<td>0.8372842</td>\n",
       "<td>-28.1759691</td>\n",
       "<td>39.5489783</td></tr>\n",
       "<tr><td></td>\n",
       "<td>13</td>\n",
       "<td>0.7000035</td>\n",
       "<td>0.0893795</td>\n",
       "<td>0.5592056</td>\n",
       "<td>1.2760088</td>\n",
       "<td>0.0838799</td>\n",
       "<td>0.1913991</td>\n",
       "<td>0.0559264</td>\n",
       "<td>0.8932106</td>\n",
       "<td>-44.0794393</td>\n",
       "<td>27.6008831</td></tr>\n",
       "<tr><td></td>\n",
       "<td>14</td>\n",
       "<td>0.7999793</td>\n",
       "<td>0.0816760</td>\n",
       "<td>0.4281817</td>\n",
       "<td>1.1700533</td>\n",
       "<td>0.0642265</td>\n",
       "<td>0.1755060</td>\n",
       "<td>0.0428078</td>\n",
       "<td>0.9360184</td>\n",
       "<td>-57.1818277</td>\n",
       "<td>17.0053309</td></tr>\n",
       "<tr><td></td>\n",
       "<td>15</td>\n",
       "<td>0.8999896</td>\n",
       "<td>0.0733720</td>\n",
       "<td>0.4395402</td>\n",
       "<td>1.0888758</td>\n",
       "<td>0.0659303</td>\n",
       "<td>0.1633295</td>\n",
       "<td>0.0439586</td>\n",
       "<td>0.9799770</td>\n",
       "<td>-56.0459791</td>\n",
       "<td>8.8875847</td></tr>\n",
       "<tr><td></td>\n",
       "<td>16</td>\n",
       "<td>1.0</td>\n",
       "<td>0.0526807</td>\n",
       "<td>0.2002094</td>\n",
       "<td>1.0</td>\n",
       "<td>0.0300311</td>\n",
       "<td>0.1499983</td>\n",
       "<td>0.0200230</td>\n",
       "<td>1.0</td>\n",
       "<td>-79.9790585</td>\n",
       "<td>0.0</td></tr></table></div>"
      ],
      "text/plain": [
       "    group    cumulative_data_fraction    lower_threshold    lift      cumulative_lift    response_rate    cumulative_response_rate    capture_rate    cumulative_capture_rate    gain      cumulative_gain\n",
       "--  -------  --------------------------  -----------------  --------  -----------------  ---------------  --------------------------  --------------  -------------------------  --------  -----------------\n",
       "    1        0.0100114                   0.591541           3.42533   3.42533            0.513793         0.513793                    0.0342923       0.0342923                  242.533   242.533\n",
       "    2        0.0200228                   0.509335           3.28739   3.35636            0.493103         0.503448                    0.0329114       0.0672037                  228.739   235.636\n",
       "    3        0.0299997                   0.460559           2.8374    3.18377            0.425606         0.47756                     0.0283084       0.0955121                  183.74    218.377\n",
       "    4        0.040011                    0.420357           2.55175   3.02563            0.382759         0.45384                     0.0255466       0.121059                   155.175   202.563\n",
       "    5        0.0500224                   0.391147           2.64371   2.94919            0.396552         0.442374                    0.0264672       0.147526                   164.371   194.919\n",
       "    6        0.10001                     0.292463           2.22839   2.58891            0.334254         0.388333                    0.111392        0.258918                   122.839   158.891\n",
       "    7        0.149998                    0.230102           1.89689   2.35829            0.28453          0.35374                     0.0948216       0.35374                    89.6891   135.829\n",
       "    8        0.200021                    0.190219           1.60112   2.16894            0.240166         0.325337                    0.0800921       0.433832                   60.1123   116.894\n",
       "    9        0.299997                    0.145987           1.36051   1.89952            0.204075         0.284925                    0.136018        0.56985                    36.0513   89.9523\n",
       "    10       0.400007                    0.123034           1.01025   1.67719            0.151536         0.251575                    0.101036        0.670886                   1.02521   67.7186\n",
       "    11       0.500017                    0.108596           0.945817  1.5309             0.141871         0.229633                    0.0945915       0.765478                   -5.41831  53.0902\n",
       "    12       0.599993                    0.0982318          0.71824   1.39549            0.107735         0.209321                    0.0718067       0.837284                   -28.176   39.549\n",
       "    13       0.700003                    0.0893795          0.559206  1.27601            0.0838799        0.191399                    0.0559264       0.893211                   -44.0794  27.6009\n",
       "    14       0.799979                    0.081676           0.428182  1.17005            0.0642265        0.175506                    0.0428078       0.936018                   -57.1818  17.0053\n",
       "    15       0.89999                     0.073372           0.43954   1.08888            0.0659303        0.163329                    0.0439586       0.979977                   -56.046   8.88758\n",
       "    16       1                           0.0526807          0.200209  1                  0.0300311        0.149998                    0.020023        1                          -79.9791  0"
      ]
     },
     "metadata": {},
     "output_type": "display_data"
    },
    {
     "name": "stdout",
     "output_type": "stream",
     "text": [
      "\n",
      "\n"
     ]
    }
   ],
   "source": [
    "print(automl.leader)"
   ]
  },
  {
   "cell_type": "markdown",
   "metadata": {},
   "source": [
    "You can now use the `automl` object to make predictions using the best model. *note: the test frame was used during training so this is just an illustration of how you could pass in a new dataset on which to predict.* "
   ]
  },
  {
   "cell_type": "code",
   "execution_count": 83,
   "metadata": {},
   "outputs": [
    {
     "name": "stdout",
     "output_type": "stream",
     "text": [
      "stackedensemble prediction progress: |████████████████████████████████████| 100%\n"
     ]
    },
    {
     "data": {
      "text/html": [
       "<table>\n",
       "<thead>\n",
       "<tr><th>predict   </th><th style=\"text-align: right;\">  Fully Paid</th><th style=\"text-align: right;\">  Default</th></tr>\n",
       "</thead>\n",
       "<tbody>\n",
       "<tr><td>Fully Paid</td><td style=\"text-align: right;\">    0.902802</td><td style=\"text-align: right;\">0.0971984</td></tr>\n",
       "<tr><td>Fully Paid</td><td style=\"text-align: right;\">    0.898121</td><td style=\"text-align: right;\">0.101879 </td></tr>\n",
       "<tr><td>Fully Paid</td><td style=\"text-align: right;\">    0.843711</td><td style=\"text-align: right;\">0.156289 </td></tr>\n",
       "<tr><td>Default   </td><td style=\"text-align: right;\">    0.815175</td><td style=\"text-align: right;\">0.184825 </td></tr>\n",
       "<tr><td>Fully Paid</td><td style=\"text-align: right;\">    0.917239</td><td style=\"text-align: right;\">0.0827615</td></tr>\n",
       "<tr><td>Fully Paid</td><td style=\"text-align: right;\">    0.884449</td><td style=\"text-align: right;\">0.115551 </td></tr>\n",
       "<tr><td>Fully Paid</td><td style=\"text-align: right;\">    0.900687</td><td style=\"text-align: right;\">0.0993129</td></tr>\n",
       "<tr><td>Fully Paid</td><td style=\"text-align: right;\">    0.913747</td><td style=\"text-align: right;\">0.0862527</td></tr>\n",
       "<tr><td>Fully Paid</td><td style=\"text-align: right;\">    0.925306</td><td style=\"text-align: right;\">0.0746941</td></tr>\n",
       "<tr><td>Fully Paid</td><td style=\"text-align: right;\">    0.894292</td><td style=\"text-align: right;\">0.105708 </td></tr>\n",
       "</tbody>\n",
       "</table>"
      ]
     },
     "metadata": {},
     "output_type": "display_data"
    },
    {
     "data": {
      "text/plain": []
     },
     "execution_count": 83,
     "metadata": {},
     "output_type": "execute_result"
    }
   ],
   "source": [
    "automl.leader.predict(test_data=test)"
   ]
  },
  {
   "cell_type": "markdown",
   "metadata": {},
   "source": [
    "# Shutdown Your H2O Cluster"
   ]
  },
  {
   "cell_type": "code",
   "execution_count": 84,
   "metadata": {},
   "outputs": [
    {
     "name": "stdout",
     "output_type": "stream",
     "text": [
      "H2O session _sid_b790 closed.\n"
     ]
    }
   ],
   "source": [
    "h2o.cluster().shutdown()"
   ]
  }
 ],
 "metadata": {
  "kernelspec": {
   "display_name": "h2o3-3.6-2",
   "language": "python",
   "name": "h2o3_py3.6_env2"
  },
  "language_info": {
   "codemirror_mode": {
    "name": "ipython",
    "version": 3
   },
   "file_extension": ".py",
   "mimetype": "text/x-python",
   "name": "python",
   "nbconvert_exporter": "python",
   "pygments_lexer": "ipython3",
   "version": "3.6.4"
  }
 },
 "nbformat": 4,
 "nbformat_minor": 1
}
